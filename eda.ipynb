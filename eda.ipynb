{
 "cells": [
  {
   "cell_type": "code",
   "execution_count": 1,
   "metadata": {},
   "outputs": [],
   "source": [
    "import matplotlib.pyplot as plt\n",
    "import seaborn as sns\n",
    "import scipy.stats as ss\n",
    "import scipy.cluster.hierarchy as sch\n",
    "import pandas as pd\n",
    "import numpy as np\n",
    "import sklearn\n",
    "import scanpy as sc"
   ]
  },
  {
   "cell_type": "code",
   "execution_count": 2,
   "metadata": {},
   "outputs": [
    {
     "name": "stdout",
     "output_type": "stream",
     "text": [
      "-----\n",
      "anndata     0.8.0\n",
      "scanpy      1.9.1\n",
      "-----\n",
      "PIL                 9.2.0\n",
      "asttokens           NA\n",
      "backcall            0.2.0\n",
      "beta_ufunc          NA\n",
      "binom_ufunc         NA\n",
      "bottleneck          1.3.5\n",
      "cffi                1.15.1\n",
      "colorama            0.4.5\n",
      "cycler              0.10.0\n",
      "cython_runtime      NA\n",
      "dateutil            2.8.2\n",
      "debugpy             1.6.0\n",
      "decorator           5.1.1\n",
      "defusedxml          0.7.1\n",
      "entrypoints         0.4\n",
      "executing           0.9.1\n",
      "h5py                3.7.0\n",
      "hypergeom_ufunc     NA\n",
      "igraph              0.9.11\n",
      "ipykernel           6.15.1\n",
      "ipython_genutils    0.2.0\n",
      "jedi                0.18.1\n",
      "joblib              1.1.0\n",
      "jupyter_server      1.18.1\n",
      "kiwisolver          1.4.4\n",
      "leidenalg           0.8.10\n",
      "llvmlite            0.38.1\n",
      "matplotlib          3.5.1\n",
      "matplotlib_inline   NA\n",
      "mpl_toolkits        NA\n",
      "natsort             8.1.0\n",
      "nbinom_ufunc        NA\n",
      "ncf_ufunc           NA\n",
      "numba               0.55.2\n",
      "numexpr             2.8.3\n",
      "numpy               1.22.4\n",
      "packaging           21.3\n",
      "pandas              1.4.3\n",
      "parso               0.8.3\n",
      "pexpect             4.8.0\n",
      "pickleshare         0.7.5\n",
      "pkg_resources       NA\n",
      "prompt_toolkit      3.0.30\n",
      "psutil              5.9.1\n",
      "ptyprocess          0.7.0\n",
      "pure_eval           0.2.2\n",
      "pydev_ipython       NA\n",
      "pydevconsole        NA\n",
      "pydevd              2.8.0\n",
      "pydevd_file_utils   NA\n",
      "pydevd_plugins      NA\n",
      "pydevd_tracing      NA\n",
      "pygments            2.12.0\n",
      "pyparsing           3.0.9\n",
      "pytz                2022.1\n",
      "scipy               1.9.0\n",
      "seaborn             0.11.2\n",
      "session_info        1.0.0\n",
      "setuptools          63.4.1\n",
      "six                 1.16.0\n",
      "sklearn             1.1.1\n",
      "sphinxcontrib       NA\n",
      "stack_data          0.3.0\n",
      "statsmodels         0.13.2\n",
      "texttable           1.6.4\n",
      "threadpoolctl       3.1.0\n",
      "tornado             6.2\n",
      "traitlets           5.3.0\n",
      "typing_extensions   NA\n",
      "wcwidth             0.2.5\n",
      "zmq                 23.2.0\n",
      "-----\n",
      "IPython             8.4.0\n",
      "jupyter_client      7.3.4\n",
      "jupyter_core        4.11.1\n",
      "jupyterlab          3.4.4\n",
      "notebook            6.4.12\n",
      "-----\n",
      "Python 3.10.5 | packaged by conda-forge | (main, Jun 14 2022, 07:04:59) [GCC 10.3.0]\n",
      "Linux-5.10.102.1-microsoft-standard-WSL2-x86_64-with-glibc2.31\n",
      "-----\n",
      "Session information updated at 2022-08-05 15:58\n",
      "reading /home/mawil/AGrEDA/data/V1_Mouse_Brain_Sagittal_Anterior/filtered_feature_bc_matrix.h5\n",
      " (0:00:01)\n"
     ]
    },
    {
     "name": "stderr",
     "output_type": "stream",
     "text": [
      "/home/mawil/miniconda3/envs/agreda/lib/python3.10/site-packages/anndata/_core/anndata.py:1830: UserWarning: Variable names are not unique. To make them unique, call `.var_names_make_unique`.\n",
      "  utils.warn_names_duplicates(\"var\")\n"
     ]
    },
    {
     "name": "stdout",
     "output_type": "stream",
     "text": [
      "reading /home/mawil/AGrEDA/data/V1_Mouse_Brain_Sagittal_Posterior/filtered_feature_bc_matrix.h5\n",
      " (0:00:01)\n"
     ]
    },
    {
     "name": "stderr",
     "output_type": "stream",
     "text": [
      "/home/mawil/miniconda3/envs/agreda/lib/python3.10/site-packages/anndata/_core/anndata.py:1830: UserWarning: Variable names are not unique. To make them unique, call `.var_names_make_unique`.\n",
      "  utils.warn_names_duplicates(\"var\")\n"
     ]
    },
    {
     "name": "stdout",
     "output_type": "stream",
     "text": [
      "normalizing counts per cell\n",
      "    finished (0:00:00)\n",
      "normalizing counts per cell\n",
      "    finished (0:00:00)\n"
     ]
    }
   ],
   "source": [
    "sc.logging.print_versions()\n",
    "sc.set_figure_params(facecolor=\"white\", figsize=(8, 8))\n",
    "sc.settings.verbosity = 3\n",
    "\n",
    "adata_spatial_anterior = sc.datasets.visium_sge(\n",
    "    sample_id=\"V1_Mouse_Brain_Sagittal_Anterior\"\n",
    ")\n",
    "adata_spatial_posterior = sc.datasets.visium_sge(\n",
    "    sample_id=\"V1_Mouse_Brain_Sagittal_Posterior\"\n",
    ")\n",
    "\n",
    "#Normalize\n",
    "for adata in [\n",
    "    adata_spatial_anterior,\n",
    "    adata_spatial_posterior,\n",
    "]:\n",
    "    sc.pp.normalize_total(adata, inplace=True)"
   ]
  },
  {
   "cell_type": "code",
   "execution_count": 3,
   "metadata": {},
   "outputs": [
    {
     "data": {
      "text/plain": [
       "<2695x32285 sparse matrix of type '<class 'numpy.float32'>'\n",
       "\twith 15850802 stored elements in Compressed Sparse Row format>"
      ]
     },
     "execution_count": 3,
     "metadata": {},
     "output_type": "execute_result"
    }
   ],
   "source": [
    "adata_spatial_anterior.X"
   ]
  },
  {
   "cell_type": "code",
   "execution_count": 4,
   "metadata": {},
   "outputs": [
    {
     "data": {
      "text/plain": [
       "Index(['AAACAAGTATCTCCCA-1', 'AAACACCAATAACTGC-1', 'AAACAGAGCGACTCCT-1',\n",
       "       'AAACAGCTTTCAGAAG-1', 'AAACAGGGTCTATATT-1', 'AAACATTTCCCGGATT-1',\n",
       "       'AAACCCGAACGAAATC-1', 'AAACCGGAAATGTTAA-1', 'AAACCGGGTAGGTACC-1',\n",
       "       'AAACCGTTCGTCCAGG-1',\n",
       "       ...\n",
       "       'TTGTGGCCCTGACAGT-1', 'TTGTGGTAGGAGGGAT-1', 'TTGTGTATGCCACCAA-1',\n",
       "       'TTGTGTTTCCCGAAAG-1', 'TTGTTAGCAAATTCGA-1', 'TTGTTCAGTGTGCTAC-1',\n",
       "       'TTGTTGTGTGTCAAGA-1', 'TTGTTTCACATCCAGG-1', 'TTGTTTCATTAGTCTA-1',\n",
       "       'TTGTTTCCATACAACT-1'],\n",
       "      dtype='object', length=3355)"
      ]
     },
     "execution_count": 4,
     "metadata": {},
     "output_type": "execute_result"
    }
   ],
   "source": [
    "adata.obs_names"
   ]
  },
  {
   "cell_type": "code",
   "execution_count": 5,
   "metadata": {},
   "outputs": [
    {
     "data": {
      "text/plain": [
       "Index(['Xkr4', 'Gm1992', 'Gm19938', 'Gm37381', 'Rp1', 'Sox17', 'Gm37587',\n",
       "       'Gm37323', 'Mrpl15', 'Lypla1',\n",
       "       ...\n",
       "       'Gm16367', 'AC163611.1', 'AC163611.2', 'AC140365.1', 'AC124606.2',\n",
       "       'AC124606.1', 'AC133095.2', 'AC133095.1', 'AC234645.1', 'AC149090.1'],\n",
       "      dtype='object', length=32285)"
      ]
     },
     "execution_count": 5,
     "metadata": {},
     "output_type": "execute_result"
    }
   ],
   "source": [
    "adata.var_names"
   ]
  },
  {
   "cell_type": "code",
   "execution_count": 6,
   "metadata": {},
   "outputs": [
    {
     "data": {
      "text/html": [
       "<div>\n",
       "<style scoped>\n",
       "    .dataframe tbody tr th:only-of-type {\n",
       "        vertical-align: middle;\n",
       "    }\n",
       "\n",
       "    .dataframe tbody tr th {\n",
       "        vertical-align: top;\n",
       "    }\n",
       "\n",
       "    .dataframe thead th {\n",
       "        text-align: right;\n",
       "    }\n",
       "</style>\n",
       "<table border=\"1\" class=\"dataframe\">\n",
       "  <thead>\n",
       "    <tr style=\"text-align: right;\">\n",
       "      <th></th>\n",
       "      <th>in_tissue</th>\n",
       "      <th>array_row</th>\n",
       "      <th>array_col</th>\n",
       "    </tr>\n",
       "  </thead>\n",
       "  <tbody>\n",
       "    <tr>\n",
       "      <th>AAACAAGTATCTCCCA-1</th>\n",
       "      <td>1</td>\n",
       "      <td>50</td>\n",
       "      <td>102</td>\n",
       "    </tr>\n",
       "    <tr>\n",
       "      <th>AAACACCAATAACTGC-1</th>\n",
       "      <td>1</td>\n",
       "      <td>59</td>\n",
       "      <td>19</td>\n",
       "    </tr>\n",
       "    <tr>\n",
       "      <th>AAACAGAGCGACTCCT-1</th>\n",
       "      <td>1</td>\n",
       "      <td>14</td>\n",
       "      <td>94</td>\n",
       "    </tr>\n",
       "    <tr>\n",
       "      <th>AAACAGCTTTCAGAAG-1</th>\n",
       "      <td>1</td>\n",
       "      <td>43</td>\n",
       "      <td>9</td>\n",
       "    </tr>\n",
       "    <tr>\n",
       "      <th>AAACAGGGTCTATATT-1</th>\n",
       "      <td>1</td>\n",
       "      <td>47</td>\n",
       "      <td>13</td>\n",
       "    </tr>\n",
       "    <tr>\n",
       "      <th>...</th>\n",
       "      <td>...</td>\n",
       "      <td>...</td>\n",
       "      <td>...</td>\n",
       "    </tr>\n",
       "    <tr>\n",
       "      <th>TTGTTCAGTGTGCTAC-1</th>\n",
       "      <td>1</td>\n",
       "      <td>24</td>\n",
       "      <td>64</td>\n",
       "    </tr>\n",
       "    <tr>\n",
       "      <th>TTGTTGTGTGTCAAGA-1</th>\n",
       "      <td>1</td>\n",
       "      <td>31</td>\n",
       "      <td>77</td>\n",
       "    </tr>\n",
       "    <tr>\n",
       "      <th>TTGTTTCACATCCAGG-1</th>\n",
       "      <td>1</td>\n",
       "      <td>58</td>\n",
       "      <td>42</td>\n",
       "    </tr>\n",
       "    <tr>\n",
       "      <th>TTGTTTCATTAGTCTA-1</th>\n",
       "      <td>1</td>\n",
       "      <td>60</td>\n",
       "      <td>30</td>\n",
       "    </tr>\n",
       "    <tr>\n",
       "      <th>TTGTTTCCATACAACT-1</th>\n",
       "      <td>1</td>\n",
       "      <td>45</td>\n",
       "      <td>27</td>\n",
       "    </tr>\n",
       "  </tbody>\n",
       "</table>\n",
       "<p>3355 rows × 3 columns</p>\n",
       "</div>"
      ],
      "text/plain": [
       "                    in_tissue  array_row  array_col\n",
       "AAACAAGTATCTCCCA-1          1         50        102\n",
       "AAACACCAATAACTGC-1          1         59         19\n",
       "AAACAGAGCGACTCCT-1          1         14         94\n",
       "AAACAGCTTTCAGAAG-1          1         43          9\n",
       "AAACAGGGTCTATATT-1          1         47         13\n",
       "...                       ...        ...        ...\n",
       "TTGTTCAGTGTGCTAC-1          1         24         64\n",
       "TTGTTGTGTGTCAAGA-1          1         31         77\n",
       "TTGTTTCACATCCAGG-1          1         58         42\n",
       "TTGTTTCATTAGTCTA-1          1         60         30\n",
       "TTGTTTCCATACAACT-1          1         45         27\n",
       "\n",
       "[3355 rows x 3 columns]"
      ]
     },
     "execution_count": 6,
     "metadata": {},
     "output_type": "execute_result"
    }
   ],
   "source": [
    "adata.obs"
   ]
  },
  {
   "cell_type": "code",
   "execution_count": 7,
   "metadata": {},
   "outputs": [
    {
     "data": {
      "text/plain": [
       "Xkr4          0.122429\n",
       "Gm1992        0.024551\n",
       "Gm19938       0.127411\n",
       "Gm37381       0.000000\n",
       "Rp1           0.024450\n",
       "                ...   \n",
       "AC124606.1    0.000000\n",
       "AC133095.2    0.000000\n",
       "AC133095.1    0.000000\n",
       "AC234645.1    0.000000\n",
       "AC149090.1    2.121894\n",
       "Length: 32285, dtype: float32"
      ]
     },
     "execution_count": 7,
     "metadata": {},
     "output_type": "execute_result"
    }
   ],
   "source": [
    "adata.to_df().std()"
   ]
  },
  {
   "cell_type": "markdown",
   "metadata": {},
   "source": [
    "# Single cell Data: GSE115746\n"
   ]
  },
  {
   "cell_type": "code",
   "execution_count": null,
   "metadata": {},
   "outputs": [],
   "source": [
    "adata_cortex = sc.read_csv('./data/GSE115746_cells_exon_counts.csv').T\n",
    "adata_cortex_meta = pd.read_csv('./data/GSE115746_complete_metadata_28706-cells.csv', index_col=0)\n",
    "adata_cortex_meta_ = adata_cortex_meta.loc[adata_cortex.obs.index,]\n",
    "\n",
    "adata_cortex.obs = adata_cortex_meta_\n",
    "adata_cortex.var_names_make_unique()  "
   ]
  },
  {
   "cell_type": "markdown",
   "metadata": {},
   "source": []
  }
 ],
 "metadata": {
  "kernelspec": {
   "display_name": "Python 3 (ipykernel)",
   "language": "python",
   "name": "python3"
  },
  "language_info": {
   "codemirror_mode": {
    "name": "ipython",
    "version": 3
   },
   "file_extension": ".py",
   "mimetype": "text/x-python",
   "name": "python",
   "nbconvert_exporter": "python",
   "pygments_lexer": "ipython3",
   "version": "3.10.5"
  },
  "vscode": {
   "interpreter": {
    "hash": "e8b3b1d6b44763fa741bf6f84039668916c20c567ef7fc339db7b0e8197274e3"
   }
  }
 },
 "nbformat": 4,
 "nbformat_minor": 4
}
