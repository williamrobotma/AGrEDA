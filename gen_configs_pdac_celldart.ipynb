{
 "cells": [
  {
   "cell_type": "code",
   "execution_count": 10,
   "metadata": {
    "execution": {
     "iopub.execute_input": "2023-07-07T04:44:25.716849Z",
     "iopub.status.busy": "2023-07-07T04:44:25.716445Z",
     "iopub.status.idle": "2023-07-07T04:44:26.006498Z",
     "shell.execute_reply": "2023-07-07T04:44:26.005635Z"
    }
   },
   "outputs": [],
   "source": [
    "import os\n",
    "import yaml\n",
    "import itertools\n",
    "from copy import deepcopy\n",
    "import glob\n",
    "\n",
    "import numpy as np"
   ]
  },
  {
   "cell_type": "code",
   "execution_count": 11,
   "metadata": {
    "execution": {
     "iopub.execute_input": "2023-07-07T04:44:26.012111Z",
     "iopub.status.busy": "2023-07-07T04:44:26.011677Z",
     "iopub.status.idle": "2023-07-07T04:44:26.018085Z",
     "shell.execute_reply": "2023-07-07T04:44:26.017185Z"
    }
   },
   "outputs": [],
   "source": [
    "# CONFIG_FNAME = \"bnfix_minmax_samp_split.yml\"\n",
    "MODEL_NAME = \"CellDART\"\n",
    "CONFIG_DIR = \"configs/generated_pdac\"\n",
    "CONFIG_FNAME_PREFIX = \"gen_pdac\""
   ]
  },
  {
   "cell_type": "code",
   "execution_count": 12,
   "metadata": {
    "execution": {
     "iopub.execute_input": "2023-07-07T04:44:26.022939Z",
     "iopub.status.busy": "2023-07-07T04:44:26.022600Z",
     "iopub.status.idle": "2023-07-07T04:44:26.040958Z",
     "shell.execute_reply": "2023-07-07T04:44:26.040237Z"
    }
   },
   "outputs": [],
   "source": [
    "config = {\n",
    "    \"lib_params\": {},\n",
    "    \"data_params\": {},\n",
    "    \"train_params\": {},\n",
    "    \"model_params\": {},\n",
    "}\n",
    "\n",
    "config[\"data_params\"][\"all_genes\"] = False\n",
    "config[\"data_params\"][\"data_dir\"] = \"data\"\n",
    "config[\"data_params\"][\"dset\"] = \"pdac\"\n",
    "config[\"data_params\"][\"n_spots\"] = 100000\n",
    "config[\"data_params\"][\"one_model\"] = True\n",
    "config[\"data_params\"][\"samp_split\"] = False\n",
    "config[\"data_params\"][\"sc_id\"] = \"CA001063\"\n",
    "# config[\"data_params\"][\"scaler_name\"] = \"standard\"\n",
    "config[\"data_params\"][\"st_id\"] = \"GSE111672\"\n",
    "config[\"data_params\"][\"st_split\"] = False\n",
    "\n",
    "config[\"model_params\"][\"celldart_kwargs\"] = {}\n",
    "\n",
    "config[\"train_params\"][\"initial_train_epochs\"] = 10\n",
    "config[\"train_params\"][\"n_iter\"] = 3000\n",
    "config[\"train_params\"][\"reverse_val\"] = False\n",
    "config[\"train_params\"][\"pretraining\"] = True\n",
    "\n",
    "if not os.path.exists(os.path.join(CONFIG_DIR, MODEL_NAME)):\n",
    "    os.makedirs(os.path.join(CONFIG_DIR, MODEL_NAME))\n",
    "\n",
    "with open(os.path.join(CONFIG_DIR, MODEL_NAME, f\"{CONFIG_FNAME_PREFIX}.yml\"), \"w\") as f:\n",
    "    yaml.safe_dump(config, f)"
   ]
  },
  {
   "cell_type": "code",
   "execution_count": 13,
   "metadata": {
    "execution": {
     "iopub.execute_input": "2023-07-07T04:44:26.045835Z",
     "iopub.status.busy": "2023-07-07T04:44:26.045406Z",
     "iopub.status.idle": "2023-07-07T04:44:26.053526Z",
     "shell.execute_reply": "2023-07-07T04:44:26.052742Z"
    }
   },
   "outputs": [],
   "source": [
    "## CellDART\n",
    "\n",
    "# data_params\n",
    "data_params_lists = dict(\n",
    "    n_markers=[20, 40, 80],\n",
    "    n_mix=[30, 50, 70],\n",
    "    scaler_name = [\"minmax\", \"standard\"],\n",
    ")\n",
    "# model_params\n",
    "model_params_lists = dict(\n",
    "    bn_momentum = [0.01, 0.1, 0.9, 0.99],\n",
    "    emb_dim = [32, 64],\n",
    ")\n",
    "\n",
    "\n",
    "# train_params\n",
    "train_params_lists = dict(\n",
    "    alpha =  [0.1, 0.6, 1.0, 2.0],\n",
    "    alpha_lr = [1, 2, 5, 10],\n",
    "    batch_size = [128, 256, 512],\n",
    "    lr =[0.01, 0.001, 0.0001],\n",
    ")\n"
   ]
  },
  {
   "cell_type": "code",
   "execution_count": 14,
   "metadata": {
    "execution": {
     "iopub.execute_input": "2023-07-07T04:44:26.057934Z",
     "iopub.status.busy": "2023-07-07T04:44:26.057591Z",
     "iopub.status.idle": "2023-07-07T04:44:26.088049Z",
     "shell.execute_reply": "2023-07-07T04:44:26.074126Z"
    }
   },
   "outputs": [
    {
     "data": {
      "text/plain": [
       "20736"
      ]
     },
     "execution_count": 14,
     "metadata": {},
     "output_type": "execute_result"
    }
   ],
   "source": [
    "total_configs = 1\n",
    "for value in data_params_lists.values():\n",
    "    total_configs *= len(value)\n",
    "for value in model_params_lists.values():\n",
    "    total_configs *= len(value)\n",
    "for value in train_params_lists.values():\n",
    "    total_configs *= len(value)\n",
    "total_configs"
   ]
  },
  {
   "cell_type": "code",
   "execution_count": 15,
   "metadata": {
    "execution": {
     "iopub.execute_input": "2023-07-07T04:44:26.133399Z",
     "iopub.status.busy": "2023-07-07T04:44:26.133048Z",
     "iopub.status.idle": "2023-07-07T04:44:26.141734Z",
     "shell.execute_reply": "2023-07-07T04:44:26.140870Z"
    }
   },
   "outputs": [
    {
     "data": {
      "text/plain": [
       "{'lib_params': {},\n",
       " 'data_params': {'all_genes': False,\n",
       "  'data_dir': 'data',\n",
       "  'dset': 'pdac',\n",
       "  'n_spots': 100000,\n",
       "  'one_model': True,\n",
       "  'samp_split': False,\n",
       "  'sc_id': 'CA001063',\n",
       "  'st_id': 'GSE111672',\n",
       "  'st_split': False},\n",
       " 'train_params': {'initial_train_epochs': 10,\n",
       "  'n_iter': 10000,\n",
       "  'reverse_val': False,\n",
       "  'pretraining': True},\n",
       " 'model_params': {'celldart_kwargs': {}}}"
      ]
     },
     "execution_count": 15,
     "metadata": {},
     "output_type": "execute_result"
    }
   ],
   "source": [
    "config"
   ]
  },
  {
   "cell_type": "code",
   "execution_count": 16,
   "metadata": {
    "execution": {
     "iopub.execute_input": "2023-07-07T04:44:26.146329Z",
     "iopub.status.busy": "2023-07-07T04:44:26.145993Z",
     "iopub.status.idle": "2023-07-07T04:44:36.031232Z",
     "shell.execute_reply": "2023-07-07T04:44:36.029971Z"
    }
   },
   "outputs": [],
   "source": [
    "rng = np.random.default_rng(25780)\n",
    "\n",
    "yes_samples = set(rng.choice(total_configs, size=1000, replace=False))\n",
    "\n",
    "\n",
    "data_params_l = []\n",
    "for kv_tuples in itertools.product(\n",
    "    *[[(k, v) for v in vlist] for k, vlist in data_params_lists.items()]\n",
    "):\n",
    "    data_params_l.append(dict(kv_tuples))\n",
    "\n",
    "model_params_l = []\n",
    "for kv_tuples in itertools.product(\n",
    "    *[[(k, v) for v in vlist] for k, vlist in model_params_lists.items()]\n",
    "):\n",
    "    model_params_l.append(dict(kv_tuples))\n",
    "\n",
    "train_params_l = []\n",
    "for kv_tuples in itertools.product(\n",
    "    *[[(k, v) for v in vlist] for k, vlist in train_params_lists.items()]\n",
    "):\n",
    "    train_params_l.append(dict(kv_tuples))\n",
    "\n",
    "for i, (data_params, model_params, train_params) in enumerate(\n",
    "    itertools.product(data_params_l, model_params_l, train_params_l)\n",
    "):\n",
    "    if i not in yes_samples:\n",
    "        continue\n",
    "\n",
    "    new_config = deepcopy(config)\n",
    "    \n",
    "    new_config[\"data_params\"].update(data_params)\n",
    "    new_config[\"model_params\"][\"celldart_kwargs\"].update(model_params)\n",
    "    new_config[\"train_params\"].update(train_params)\n",
    "    \n",
    "    new_config[\"lib_params\"][\"manual_seed\"] = int(rng.integers(0, 2**32))\n",
    "\n",
    "    version = f\"{CONFIG_FNAME_PREFIX}-{i}\"\n",
    "    new_config[\"model_params\"][\"model_version\"] = version\n",
    "\n",
    "    with open(os.path.join(CONFIG_DIR, MODEL_NAME, f\"{version}.yml\"), \"w\") as f:\n",
    "        yaml.safe_dump(new_config, f)"
   ]
  },
  {
   "cell_type": "code",
   "execution_count": 17,
   "metadata": {
    "execution": {
     "iopub.execute_input": "2023-07-07T04:44:36.036979Z",
     "iopub.status.busy": "2023-07-07T04:44:36.036618Z",
     "iopub.status.idle": "2023-07-07T04:44:36.047532Z",
     "shell.execute_reply": "2023-07-07T04:44:36.046774Z"
    }
   },
   "outputs": [
    {
     "name": "stdout",
     "output_type": "stream",
     "text": [
      "data_params:\n",
      "  all_genes: false\n",
      "  data_dir: data\n",
      "  dset: pdac\n",
      "  n_markers: 80\n",
      "  n_mix: 70\n",
      "  n_spots: 100000\n",
      "  one_model: true\n",
      "  samp_split: false\n",
      "  sc_id: CA001063\n",
      "  scaler_name: standard\n",
      "  st_id: GSE111672\n",
      "  st_split: false\n",
      "lib_params:\n",
      "  manual_seed: 2112639060\n",
      "model_params:\n",
      "  celldart_kwargs:\n",
      "    bn_momentum: 0.99\n",
      "    emb_dim: 64\n",
      "  model_version: gen_pdac-20723\n",
      "train_params:\n",
      "  alpha: 2.0\n",
      "  alpha_lr: 5\n",
      "  batch_size: 256\n",
      "  initial_train_epochs: 10\n",
      "  lr: 0.0001\n",
      "  n_iter: 10000\n",
      "  pretraining: true\n",
      "  reverse_val: false\n",
      "\n"
     ]
    }
   ],
   "source": [
    "print(yaml.safe_dump(new_config))\n"
   ]
  },
  {
   "cell_type": "code",
   "execution_count": 18,
   "metadata": {
    "execution": {
     "iopub.execute_input": "2023-07-07T04:44:36.052242Z",
     "iopub.status.busy": "2023-07-07T04:44:36.051909Z",
     "iopub.status.idle": "2023-07-07T04:44:36.090964Z",
     "shell.execute_reply": "2023-07-07T04:44:36.090021Z"
    }
   },
   "outputs": [],
   "source": [
    "lines = [\n",
    "    os.path.basename(name)\n",
    "    for name in sorted(glob.glob(os.path.join(CONFIG_DIR, MODEL_NAME, f\"{CONFIG_FNAME_PREFIX}-*.yml\")))\n",
    "]\n",
    "with open(\n",
    "    os.path.join(CONFIG_DIR, MODEL_NAME, \"a_list.txt\"),\n",
    "    mode=\"wt\",\n",
    "    encoding=\"utf-8\",\n",
    ") as myfile:\n",
    "    myfile.write(\"\\n\".join(lines))\n",
    "    myfile.write(\"\\n\")"
   ]
  },
  {
   "cell_type": "code",
   "execution_count": null,
   "metadata": {},
   "outputs": [],
   "source": []
  }
 ],
 "metadata": {
  "kernelspec": {
   "display_name": "agreda",
   "language": "python",
   "name": "python3"
  },
  "language_info": {
   "codemirror_mode": {
    "name": "ipython",
    "version": 3
   },
   "file_extension": ".py",
   "mimetype": "text/x-python",
   "name": "python",
   "nbconvert_exporter": "python",
   "pygments_lexer": "ipython3",
   "version": "3.8.10"
  }
 },
 "nbformat": 4,
 "nbformat_minor": 2
}
