{
 "cells": [
  {
   "cell_type": "code",
   "execution_count": 10,
   "metadata": {
    "execution": {
     "iopub.execute_input": "2023-07-07T04:43:43.877494Z",
     "iopub.status.busy": "2023-07-07T04:43:43.877130Z",
     "iopub.status.idle": "2023-07-07T04:44:08.261859Z",
     "shell.execute_reply": "2023-07-07T04:44:08.260866Z"
    }
   },
   "outputs": [],
   "source": [
    "import glob\n",
    "import itertools\n",
    "import os\n",
    "import yaml\n",
    "from copy import deepcopy\n",
    "\n",
    "import numpy as np\n"
   ]
  },
  {
   "cell_type": "code",
   "execution_count": 11,
   "metadata": {
    "execution": {
     "iopub.execute_input": "2023-07-07T04:44:08.268633Z",
     "iopub.status.busy": "2023-07-07T04:44:08.268106Z",
     "iopub.status.idle": "2023-07-07T04:44:08.274617Z",
     "shell.execute_reply": "2023-07-07T04:44:08.273795Z"
    }
   },
   "outputs": [],
   "source": [
    "# CONFIG_FNAME = \"standard_bnfix_adam_beta1_5_spotless_sc.yml\"\n",
    "MODEL_NAME = \"ADDA\"\n",
    "CONFIG_DIR = \"configs/generated_pdac\"\n",
    "CONFIG_FNAME_PREFIX = \"gen_pdac\""
   ]
  },
  {
   "cell_type": "code",
   "execution_count": 12,
   "metadata": {
    "execution": {
     "iopub.execute_input": "2023-07-07T04:44:08.279439Z",
     "iopub.status.busy": "2023-07-07T04:44:08.279087Z",
     "iopub.status.idle": "2023-07-07T04:44:08.298173Z",
     "shell.execute_reply": "2023-07-07T04:44:08.297432Z"
    }
   },
   "outputs": [],
   "source": [
    "config = {\n",
    "    \"lib_params\": {},\n",
    "    \"data_params\": {},\n",
    "    \"train_params\": {},\n",
    "    \"model_params\": {},\n",
    "}\n",
    "\n",
    "config[\"data_params\"][\"all_genes\"] = False\n",
    "config[\"data_params\"][\"data_dir\"] = \"data\"\n",
    "config[\"data_params\"][\"dset\"] = \"pdac\"\n",
    "config[\"data_params\"][\"n_spots\"] = 100000\n",
    "config[\"data_params\"][\"one_model\"] = True\n",
    "config[\"data_params\"][\"samp_split\"] = False\n",
    "config[\"data_params\"][\"sc_id\"] = \"CA001063\"\n",
    "config[\"data_params\"][\"scaler_name\"] = \"standard\"\n",
    "config[\"data_params\"][\"st_id\"] = \"GSE111672\"\n",
    "config[\"data_params\"][\"st_split\"] = False\n",
    "\n",
    "config[\"model_params\"][\"adda_kwargs\"] = {}\n",
    "\n",
    "config[\"train_params\"][\"epochs\"] = 200\n",
    "config[\"train_params\"][\"initial_train_epochs\"] = 100\n",
    "config[\"train_params\"][\"adam_beta1\"] = 0.5\n",
    "config[\"train_params\"][\"reverse_val\"] = False\n",
    "config[\"train_params\"][\"pretraining\"] = True\n",
    "\n",
    "if not os.path.exists(os.path.join(CONFIG_DIR, MODEL_NAME)):\n",
    "    os.makedirs(os.path.join(CONFIG_DIR, MODEL_NAME))\n",
    "\n",
    "with open(os.path.join(CONFIG_DIR, MODEL_NAME, f\"{CONFIG_FNAME_PREFIX}.yml\"), \"w\") as f:\n",
    "    yaml.safe_dump(config, f)"
   ]
  },
  {
   "cell_type": "code",
   "execution_count": 13,
   "metadata": {
    "execution": {
     "iopub.execute_input": "2023-07-07T04:44:08.302848Z",
     "iopub.status.busy": "2023-07-07T04:44:08.302526Z",
     "iopub.status.idle": "2023-07-07T04:44:08.310020Z",
     "shell.execute_reply": "2023-07-07T04:44:08.309313Z"
    }
   },
   "outputs": [],
   "source": [
    "## ADDA\n",
    "\n",
    "# data_params\n",
    "data_params_lists = dict(\n",
    "    n_markers=[20, 40, 80],\n",
    "    n_mix=[30, 50, 70],\n",
    ")\n",
    "\n",
    "# model_params\n",
    "model_params_lists = dict(\n",
    "    bn_momentum=[0.1, 0.01],\n",
    "    emb_dim=[32, 64],\n",
    ")\n",
    "# train_params\n",
    "train_params_lists = dict(\n",
    "    alpha=[1, 2, 5],\n",
    "    batch_size=[256, 512, 1024],\n",
    "    dis_loop_factor=[2, 5, 10],\n",
    "    enc_lr=[0.000002, 0.00002, 0.0002],\n",
    "    initial_train_lr=[0.0001, 0.0002, 0.001],\n",
    ")"
   ]
  },
  {
   "cell_type": "code",
   "execution_count": 14,
   "metadata": {
    "execution": {
     "iopub.execute_input": "2023-07-07T04:44:08.314586Z",
     "iopub.status.busy": "2023-07-07T04:44:08.314242Z",
     "iopub.status.idle": "2023-07-07T04:44:08.330532Z",
     "shell.execute_reply": "2023-07-07T04:44:08.329651Z"
    }
   },
   "outputs": [
    {
     "data": {
      "text/plain": [
       "8748"
      ]
     },
     "execution_count": 14,
     "metadata": {},
     "output_type": "execute_result"
    }
   ],
   "source": [
    "total_configs = 1\n",
    "for value in data_params_lists.values():\n",
    "    total_configs *= len(value)\n",
    "for value in model_params_lists.values():\n",
    "    total_configs *= len(value)\n",
    "for value in train_params_lists.values():\n",
    "    total_configs *= len(value)\n",
    "total_configs"
   ]
  },
  {
   "cell_type": "code",
   "execution_count": 15,
   "metadata": {
    "execution": {
     "iopub.execute_input": "2023-07-07T04:44:08.506905Z",
     "iopub.status.busy": "2023-07-07T04:44:08.506432Z",
     "iopub.status.idle": "2023-07-07T04:44:08.515731Z",
     "shell.execute_reply": "2023-07-07T04:44:08.514754Z"
    }
   },
   "outputs": [
    {
     "data": {
      "text/plain": [
       "{'lib_params': {},\n",
       " 'data_params': {'all_genes': False,\n",
       "  'data_dir': 'data',\n",
       "  'dset': 'pdac',\n",
       "  'n_spots': 100000,\n",
       "  'one_model': True,\n",
       "  'samp_split': False,\n",
       "  'sc_id': 'CA001063',\n",
       "  'scaler_name': 'standard',\n",
       "  'st_id': 'GSE111672',\n",
       "  'st_split': False},\n",
       " 'train_params': {'epochs': 200,\n",
       "  'initial_train_epochs': 100,\n",
       "  'adam_beta1': 0.5,\n",
       "  'reverse_val': False,\n",
       "  'pretraining': True},\n",
       " 'model_params': {'adda_kwargs': {}}}"
      ]
     },
     "execution_count": 15,
     "metadata": {},
     "output_type": "execute_result"
    }
   ],
   "source": [
    "config"
   ]
  },
  {
   "cell_type": "code",
   "execution_count": 16,
   "metadata": {
    "execution": {
     "iopub.execute_input": "2023-07-07T04:44:08.520499Z",
     "iopub.status.busy": "2023-07-07T04:44:08.520155Z",
     "iopub.status.idle": "2023-07-07T04:44:19.629477Z",
     "shell.execute_reply": "2023-07-07T04:44:19.628249Z"
    }
   },
   "outputs": [],
   "source": [
    "rng = np.random.default_rng(2496290)\n",
    "\n",
    "yes_samples = set(rng.choice(total_configs, size=1000, replace=False))\n",
    "\n",
    "\n",
    "data_params_l = []\n",
    "for kv_tuples in itertools.product(\n",
    "    *[[(k, v) for v in vlist] for k, vlist in data_params_lists.items()]\n",
    "):\n",
    "    data_params_l.append(dict(kv_tuples))\n",
    "\n",
    "model_params_l = []\n",
    "for kv_tuples in itertools.product(\n",
    "    *[[(k, v) for v in vlist] for k, vlist in model_params_lists.items()]\n",
    "):\n",
    "    model_params_l.append(dict(kv_tuples))\n",
    "\n",
    "train_params_l = []\n",
    "for kv_tuples in itertools.product(\n",
    "    *[[(k, v) for v in vlist] for k, vlist in train_params_lists.items()]\n",
    "):\n",
    "    train_params_l.append(dict(kv_tuples))\n",
    "\n",
    "for i, (data_params, model_params, train_params) in enumerate(\n",
    "    itertools.product(data_params_l, model_params_l, train_params_l)\n",
    "):\n",
    "    if i not in yes_samples:\n",
    "        continue\n",
    "\n",
    "    new_config = deepcopy(config)\n",
    "    \n",
    "    new_config[\"data_params\"].update(data_params)\n",
    "    new_config[\"model_params\"][\"adda_kwargs\"].update(model_params)\n",
    "    new_config[\"train_params\"].update(train_params)\n",
    "\n",
    "    new_config[\"lib_params\"][\"manual_seed\"] = int(rng.integers(0, 2**32))\n",
    "\n",
    "    version = f\"{CONFIG_FNAME_PREFIX}-{i}\"\n",
    "    new_config[\"model_params\"][\"model_version\"] = version\n",
    "\n",
    "    with open(os.path.join(CONFIG_DIR, MODEL_NAME, f\"{version}.yml\"), \"w\") as f:\n",
    "        yaml.safe_dump(new_config, f)"
   ]
  },
  {
   "cell_type": "code",
   "execution_count": 17,
   "metadata": {
    "execution": {
     "iopub.execute_input": "2023-07-07T04:44:19.635481Z",
     "iopub.status.busy": "2023-07-07T04:44:19.635083Z",
     "iopub.status.idle": "2023-07-07T04:44:19.646791Z",
     "shell.execute_reply": "2023-07-07T04:44:19.645983Z"
    }
   },
   "outputs": [
    {
     "name": "stdout",
     "output_type": "stream",
     "text": [
      "data_params:\n",
      "  all_genes: false\n",
      "  data_dir: data\n",
      "  dset: pdac\n",
      "  n_markers: 80\n",
      "  n_mix: 70\n",
      "  n_spots: 100000\n",
      "  one_model: true\n",
      "  samp_split: false\n",
      "  sc_id: CA001063\n",
      "  scaler_name: standard\n",
      "  st_id: GSE111672\n",
      "  st_split: false\n",
      "lib_params:\n",
      "  manual_seed: 4247478448\n",
      "model_params:\n",
      "  adda_kwargs:\n",
      "    bn_momentum: 0.01\n",
      "    emb_dim: 64\n",
      "  model_version: gen_pdac-8735\n",
      "train_params:\n",
      "  adam_beta1: 0.5\n",
      "  alpha: 5\n",
      "  batch_size: 1024\n",
      "  dis_loop_factor: 5\n",
      "  enc_lr: 2.0e-05\n",
      "  epochs: 200\n",
      "  initial_train_epochs: 100\n",
      "  initial_train_lr: 0.001\n",
      "  pretraining: true\n",
      "  reverse_val: false\n",
      "\n"
     ]
    }
   ],
   "source": [
    "print(yaml.safe_dump(new_config))"
   ]
  },
  {
   "cell_type": "code",
   "execution_count": 18,
   "metadata": {
    "execution": {
     "iopub.execute_input": "2023-07-07T04:44:19.651895Z",
     "iopub.status.busy": "2023-07-07T04:44:19.651539Z",
     "iopub.status.idle": "2023-07-07T04:44:19.670070Z",
     "shell.execute_reply": "2023-07-07T04:44:19.669285Z"
    }
   },
   "outputs": [],
   "source": [
    "lines = [\n",
    "    os.path.basename(name)\n",
    "    for name in sorted(glob.glob(os.path.join(CONFIG_DIR, MODEL_NAME, f\"{CONFIG_FNAME_PREFIX}-*.yml\")))\n",
    "]\n",
    "with open(\n",
    "    os.path.join(CONFIG_DIR, MODEL_NAME, \"a_list.txt\"),\n",
    "    mode=\"wt\",\n",
    "    encoding=\"utf-8\",\n",
    ") as myfile:\n",
    "    myfile.write(\"\\n\".join(lines))\n",
    "    myfile.write(\"\\n\")"
   ]
  }
 ],
 "metadata": {
  "kernelspec": {
   "display_name": "agreda",
   "language": "python",
   "name": "python3"
  },
  "language_info": {
   "codemirror_mode": {
    "name": "ipython",
    "version": 3
   },
   "file_extension": ".py",
   "mimetype": "text/x-python",
   "name": "python",
   "nbconvert_exporter": "python",
   "pygments_lexer": "ipython3",
   "version": "3.8.10"
  }
 },
 "nbformat": 4,
 "nbformat_minor": 2
}
