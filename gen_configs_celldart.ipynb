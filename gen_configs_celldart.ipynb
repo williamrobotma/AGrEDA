{
 "cells": [
  {
   "cell_type": "code",
   "execution_count": 1,
   "metadata": {
    "execution": {
     "iopub.execute_input": "2023-06-29T20:55:17.866719Z",
     "iopub.status.busy": "2023-06-29T20:55:17.866518Z",
     "iopub.status.idle": "2023-06-29T20:55:41.870380Z",
     "shell.execute_reply": "2023-06-29T20:55:41.869861Z"
    }
   },
   "outputs": [],
   "source": [
    "import os\n",
    "import yaml\n",
    "import itertools\n",
    "from copy import deepcopy\n",
    "import glob\n",
    "\n",
    "import numpy as np"
   ]
  },
  {
   "cell_type": "code",
   "execution_count": 2,
   "metadata": {
    "execution": {
     "iopub.execute_input": "2023-06-29T20:55:41.873931Z",
     "iopub.status.busy": "2023-06-29T20:55:41.873710Z",
     "iopub.status.idle": "2023-06-29T20:55:41.877469Z",
     "shell.execute_reply": "2023-06-29T20:55:41.877043Z"
    }
   },
   "outputs": [],
   "source": [
    "# CONFIG_FNAME = \"bnfix_minmax_samp_split.yml\"\n",
    "MODEL_NAME = \"CellDART\"\n",
    "CONFIG_DIR = \"configs/generated_dlpfc\"\n",
    "CONFIG_FNAME_PREFIX = \"gen_dlpfc_dlpfc\""
   ]
  },
  {
   "cell_type": "code",
   "execution_count": 3,
   "metadata": {
    "execution": {
     "iopub.execute_input": "2023-06-29T20:55:41.879939Z",
     "iopub.status.busy": "2023-06-29T20:55:41.879774Z",
     "iopub.status.idle": "2023-06-29T20:55:42.061982Z",
     "shell.execute_reply": "2023-06-29T20:55:42.061543Z"
    }
   },
   "outputs": [],
   "source": [
    "config = {\n",
    "    \"lib_params\": {},\n",
    "    \"data_params\": {},\n",
    "    \"train_params\": {},\n",
    "    \"model_params\": {},\n",
    "}\n",
    "\n",
    "config[\"data_params\"][\"all_genes\"] = False\n",
    "config[\"data_params\"][\"data_dir\"] = \"data\"\n",
    "config[\"data_params\"][\"dset\"] = \"dlpfc\"\n",
    "config[\"data_params\"][\"samp_split\"] = True\n",
    "config[\"data_params\"][\"sc_id\"] = \"GSE144136\"\n",
    "# config[\"data_params\"][\"scaler_name\"] = \"standard\"\n",
    "config[\"data_params\"][\"st_id\"] = \"spatialLIBD\"\n",
    "config[\"data_params\"][\"st_split\"] = False\n",
    "\n",
    "config[\"model_params\"][\"celldart_kwargs\"] = {}\n",
    "\n",
    "config[\"train_params\"][\"initial_train_epochs\"] = 10\n",
    "config[\"train_params\"][\"n_iter\"] = 10000\n",
    "config[\"train_params\"][\"reverse_val\"] = False\n",
    "config[\"train_params\"][\"pretraining\"] = True\n",
    "\n",
    "if not os.path.exists(os.path.join(CONFIG_DIR, MODEL_NAME)):\n",
    "    os.makedirs(os.path.join(CONFIG_DIR, MODEL_NAME))\n",
    "\n",
    "with open(os.path.join(CONFIG_DIR, MODEL_NAME, f\"{CONFIG_FNAME_PREFIX}.yml\"), \"w\") as f:\n",
    "    yaml.safe_dump(config, f)"
   ]
  },
  {
   "cell_type": "code",
   "execution_count": 4,
   "metadata": {
    "execution": {
     "iopub.execute_input": "2023-06-29T20:55:42.064597Z",
     "iopub.status.busy": "2023-06-29T20:55:42.064421Z",
     "iopub.status.idle": "2023-06-29T20:55:42.069737Z",
     "shell.execute_reply": "2023-06-29T20:55:42.069297Z"
    }
   },
   "outputs": [],
   "source": [
    "## CellDART\n",
    "\n",
    "# data_params\n",
    "data_params_lists = dict(\n",
    "    n_markers=[20, 40, 80],\n",
    "    n_mix=[3, 5, 8],\n",
    "    n_spots=[5000, 10000, 20000, 50000],\n",
    "    scaler_name = [\"minmax\", \"standard\"],\n",
    ")\n",
    "# model_params\n",
    "model_params_lists = dict(\n",
    "    bn_momentum = [0.01, 0.1, 0.9, 0.99],\n",
    "    emb_dim = [32, 64],\n",
    ")\n",
    "\n",
    "\n",
    "# train_params\n",
    "train_params_lists = dict(\n",
    "    alpha =  [0.1, 0.6, 1.0, 2.0],\n",
    "    alpha_lr = [1, 2, 5, 10],\n",
    "    batch_size = [256, 512, 1024],\n",
    "    lr =[0.01, 0.001, 0.0001],\n",
    ")\n"
   ]
  },
  {
   "cell_type": "code",
   "execution_count": 5,
   "metadata": {
    "execution": {
     "iopub.execute_input": "2023-06-29T20:55:42.072541Z",
     "iopub.status.busy": "2023-06-29T20:55:42.072368Z",
     "iopub.status.idle": "2023-06-29T20:55:42.083224Z",
     "shell.execute_reply": "2023-06-29T20:55:42.082789Z"
    }
   },
   "outputs": [
    {
     "data": {
      "text/plain": [
       "82944"
      ]
     },
     "execution_count": 5,
     "metadata": {},
     "output_type": "execute_result"
    }
   ],
   "source": [
    "total_configs = 1\n",
    "for value in data_params_lists.values():\n",
    "    total_configs *= len(value)\n",
    "for value in model_params_lists.values():\n",
    "    total_configs *= len(value)\n",
    "for value in train_params_lists.values():\n",
    "    total_configs *= len(value)\n",
    "total_configs"
   ]
  },
  {
   "cell_type": "code",
   "execution_count": 6,
   "metadata": {
    "execution": {
     "iopub.execute_input": "2023-06-29T20:55:42.193279Z",
     "iopub.status.busy": "2023-06-29T20:55:42.193050Z",
     "iopub.status.idle": "2023-06-29T20:55:42.198350Z",
     "shell.execute_reply": "2023-06-29T20:55:42.197904Z"
    }
   },
   "outputs": [
    {
     "data": {
      "text/plain": [
       "{'lib_params': {},\n",
       " 'data_params': {'all_genes': False,\n",
       "  'data_dir': 'data',\n",
       "  'dset': 'dlpfc',\n",
       "  'samp_split': True,\n",
       "  'sc_id': 'GSE144136',\n",
       "  'st_id': 'spatialLIBD',\n",
       "  'st_split': False},\n",
       " 'train_params': {'initial_train_epochs': 10,\n",
       "  'n_iter': 10000,\n",
       "  'reverse_val': False,\n",
       "  'pretraining': True},\n",
       " 'model_params': {'celldart_kwargs': {}}}"
      ]
     },
     "execution_count": 6,
     "metadata": {},
     "output_type": "execute_result"
    }
   ],
   "source": [
    "config"
   ]
  },
  {
   "cell_type": "code",
   "execution_count": 7,
   "metadata": {
    "execution": {
     "iopub.execute_input": "2023-06-29T20:55:42.200769Z",
     "iopub.status.busy": "2023-06-29T20:55:42.200608Z",
     "iopub.status.idle": "2023-06-29T20:57:07.507102Z",
     "shell.execute_reply": "2023-06-29T20:57:07.506400Z"
    }
   },
   "outputs": [],
   "source": [
    "rng = np.random.default_rng(45836)\n",
    "\n",
    "yes_samples = set(rng.choice(total_configs, size=1000, replace=False))\n",
    "\n",
    "\n",
    "data_params_l = []\n",
    "for kv_tuples in itertools.product(\n",
    "    *[[(k, v) for v in vlist] for k, vlist in data_params_lists.items()]\n",
    "):\n",
    "    data_params_l.append(dict(kv_tuples))\n",
    "\n",
    "model_params_l = []\n",
    "for kv_tuples in itertools.product(\n",
    "    *[[(k, v) for v in vlist] for k, vlist in model_params_lists.items()]\n",
    "):\n",
    "    model_params_l.append(dict(kv_tuples))\n",
    "\n",
    "train_params_l = []\n",
    "for kv_tuples in itertools.product(\n",
    "    *[[(k, v) for v in vlist] for k, vlist in train_params_lists.items()]\n",
    "):\n",
    "    train_params_l.append(dict(kv_tuples))\n",
    "\n",
    "for i, (data_params, model_params, train_params) in enumerate(\n",
    "    itertools.product(data_params_l, model_params_l, train_params_l)\n",
    "):\n",
    "    if i not in yes_samples:\n",
    "        continue\n",
    "\n",
    "    new_config = deepcopy(config)\n",
    "    \n",
    "    new_config[\"data_params\"].update(data_params)\n",
    "    new_config[\"model_params\"][\"celldart_kwargs\"].update(model_params)\n",
    "    new_config[\"train_params\"].update(train_params)\n",
    "    \n",
    "    new_config[\"lib_params\"][\"manual_seed\"] = int(rng.integers(0, 2**32))\n",
    "\n",
    "    version = f\"{CONFIG_FNAME_PREFIX}-{i}\"\n",
    "    new_config[\"model_params\"][\"model_version\"] = version\n",
    "\n",
    "    with open(os.path.join(CONFIG_DIR, MODEL_NAME, f\"{version}.yml\"), \"w\") as f:\n",
    "        yaml.safe_dump(new_config, f)"
   ]
  },
  {
   "cell_type": "code",
   "execution_count": 8,
   "metadata": {
    "execution": {
     "iopub.execute_input": "2023-06-29T20:57:07.510349Z",
     "iopub.status.busy": "2023-06-29T20:57:07.510164Z",
     "iopub.status.idle": "2023-06-29T20:57:07.516919Z",
     "shell.execute_reply": "2023-06-29T20:57:07.516479Z"
    }
   },
   "outputs": [
    {
     "name": "stdout",
     "output_type": "stream",
     "text": [
      "data_params:\n",
      "  all_genes: false\n",
      "  data_dir: data\n",
      "  dset: dlpfc\n",
      "  n_markers: 80\n",
      "  n_mix: 8\n",
      "  n_spots: 50000\n",
      "  samp_split: true\n",
      "  sc_id: GSE144136\n",
      "  scaler_name: standard\n",
      "  st_id: spatialLIBD\n",
      "  st_split: false\n",
      "lib_params:\n",
      "  manual_seed: 1702444108\n",
      "model_params:\n",
      "  celldart_kwargs:\n",
      "    bn_momentum: 0.99\n",
      "    emb_dim: 32\n",
      "  model_version: gen_dlpfc_dlpfc-82672\n",
      "train_params:\n",
      "  alpha: 0.1\n",
      "  alpha_lr: 2\n",
      "  batch_size: 1024\n",
      "  initial_train_epochs: 10\n",
      "  lr: 0.001\n",
      "  n_iter: 10000\n",
      "  pretraining: true\n",
      "  reverse_val: false\n",
      "\n"
     ]
    }
   ],
   "source": [
    "print(yaml.safe_dump(new_config))\n"
   ]
  },
  {
   "cell_type": "code",
   "execution_count": 9,
   "metadata": {
    "execution": {
     "iopub.execute_input": "2023-06-29T20:57:07.519447Z",
     "iopub.status.busy": "2023-06-29T20:57:07.519280Z",
     "iopub.status.idle": "2023-06-29T20:57:07.596955Z",
     "shell.execute_reply": "2023-06-29T20:57:07.596507Z"
    }
   },
   "outputs": [],
   "source": [
    "lines = [\n",
    "    os.path.basename(name)\n",
    "    for name in sorted(glob.glob(os.path.join(CONFIG_DIR, MODEL_NAME, f\"{CONFIG_FNAME_PREFIX}-*.yml\")))\n",
    "]\n",
    "with open(\n",
    "    os.path.join(CONFIG_DIR, MODEL_NAME, \"a_list.txt\"),\n",
    "    mode=\"wt\",\n",
    "    encoding=\"utf-8\",\n",
    ") as myfile:\n",
    "    myfile.write(\"\\n\".join(lines))\n",
    "    myfile.write(\"\\n\")"
   ]
  },
  {
   "cell_type": "code",
   "execution_count": null,
   "metadata": {},
   "outputs": [],
   "source": []
  }
 ],
 "metadata": {
  "kernelspec": {
   "display_name": "agreda",
   "language": "python",
   "name": "python3"
  },
  "language_info": {
   "codemirror_mode": {
    "name": "ipython",
    "version": 3
   },
   "file_extension": ".py",
   "mimetype": "text/x-python",
   "name": "python",
   "nbconvert_exporter": "python",
   "pygments_lexer": "ipython3",
   "version": "3.8.10"
  }
 },
 "nbformat": 4,
 "nbformat_minor": 2
}
