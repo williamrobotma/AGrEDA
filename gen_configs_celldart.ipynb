{
 "cells": [
  {
   "cell_type": "code",
   "execution_count": 1,
   "metadata": {},
   "outputs": [],
   "source": [
    "import os\n",
    "import yaml\n",
    "import itertools\n",
    "from copy import deepcopy\n",
    "\n",
    "import numpy as np"
   ]
  },
  {
   "cell_type": "code",
   "execution_count": 2,
   "metadata": {},
   "outputs": [],
   "source": [
    "CONFIG_FNAME = \"bnfix_minmax_samp_split.yml\"\n",
    "MODEL_NAME = \"CellDART\""
   ]
  },
  {
   "cell_type": "code",
   "execution_count": 3,
   "metadata": {},
   "outputs": [
    {
     "name": "stdout",
     "output_type": "stream",
     "text": [
      "data_params:\n",
      "  all_genes: false\n",
      "  data_dir: data\n",
      "  n_markers: 20\n",
      "  n_mix: 8\n",
      "  n_spots: 200000\n",
      "  samp_split: true\n",
      "  sample_id_n: '151673'\n",
      "  scaler_name: minmax\n",
      "  st_split: false\n",
      "lib_params:\n",
      "  manual_seed: 2634\n",
      "model_params:\n",
      "  celldart_kwargs:\n",
      "    bn_momentum: 0.01\n",
      "    emb_dim: 64\n",
      "  model_version: bnfix_minmax_samp_split\n",
      "train_params:\n",
      "  alpha: 0.6\n",
      "  alpha_lr: 5\n",
      "  batch_size: 512\n",
      "  early_stop_crit: 100\n",
      "  early_stop_crit_adv: 10\n",
      "  initial_train_epochs: 10\n",
      "  lr: 0.001\n",
      "  min_epochs: 10\n",
      "  min_epochs_adv: 10\n",
      "  n_iter: 3000\n",
      "  pretraining: true\n",
      "\n"
     ]
    }
   ],
   "source": [
    "with open(os.path.join(\"configs\", MODEL_NAME, CONFIG_FNAME), \"r\") as f:\n",
    "    config = yaml.safe_load(f)\n",
    "print(yaml.safe_dump(config))"
   ]
  },
  {
   "cell_type": "code",
   "execution_count": 4,
   "metadata": {},
   "outputs": [],
   "source": [
    "## CellDART\n",
    "\n",
    "# data_params\n",
    "n_markers_l = [5, 10, 20, 40, 80]\n",
    "n_mix_l =  [5, 8, 10, 15, 20]\n",
    "n_spots_l = [5000, 10000, 20000, 50000, 100000, 200000]\n",
    "scaler_name_l = [\"minmax\", \"standard\"]\n",
    "\n",
    "# model_params\n",
    "bn_momentum_l = [0.01, 0.1, 0.9, 0.99]\n",
    "\n",
    "\n",
    "# train_params\n",
    "alpha_l =  [0.1, 0.6, 1.0, 2.0]\n",
    "alpha_lr_l = [1, 2, 5, 10]\n",
    "batch_size_l = [256, 512, 1024]\n",
    "lr_l =[0.01, 0.001, 0.0001]\n"
   ]
  },
  {
   "cell_type": "code",
   "execution_count": 5,
   "metadata": {},
   "outputs": [
    {
     "data": {
      "text/plain": [
       "172800"
      ]
     },
     "execution_count": 5,
     "metadata": {},
     "output_type": "execute_result"
    }
   ],
   "source": [
    "total_configs = len(n_markers_l)*len(n_mix_l)*len(n_spots_l)*len(scaler_name_l)*len(bn_momentum_l)*len(alpha_l)*len(alpha_lr_l)*len(batch_size_l)*len(lr_l)\n",
    "total_configs"
   ]
  },
  {
   "cell_type": "code",
   "execution_count": 6,
   "metadata": {},
   "outputs": [
    {
     "data": {
      "text/plain": [
       "{'data_params': {'all_genes': False,\n",
       "  'data_dir': 'data',\n",
       "  'n_markers': 20,\n",
       "  'n_mix': 8,\n",
       "  'n_spots': 200000,\n",
       "  'samp_split': True,\n",
       "  'sample_id_n': '151673',\n",
       "  'scaler_name': 'minmax',\n",
       "  'st_split': False},\n",
       " 'lib_params': {'manual_seed': 2634},\n",
       " 'model_params': {'celldart_kwargs': {'bn_momentum': 0.01, 'emb_dim': 64},\n",
       "  'model_version': 'bnfix_minmax_samp_split'},\n",
       " 'train_params': {'alpha': 0.6,\n",
       "  'alpha_lr': 5,\n",
       "  'batch_size': 512,\n",
       "  'early_stop_crit': 100,\n",
       "  'early_stop_crit_adv': 10,\n",
       "  'initial_train_epochs': 10,\n",
       "  'lr': 0.001,\n",
       "  'min_epochs': 10,\n",
       "  'min_epochs_adv': 10,\n",
       "  'n_iter': 3000,\n",
       "  'pretraining': True}}"
      ]
     },
     "execution_count": 6,
     "metadata": {},
     "output_type": "execute_result"
    }
   ],
   "source": [
    "config"
   ]
  },
  {
   "cell_type": "code",
   "execution_count": null,
   "metadata": {},
   "outputs": [],
   "source": []
  },
  {
   "cell_type": "code",
   "execution_count": 7,
   "metadata": {},
   "outputs": [],
   "source": [
    "rng = np.random.default_rng(567)\n",
    "\n",
    "yes_samples = set(rng.choice(total_configs, size=1000, replace=False))\n",
    "\n",
    "\n",
    "data_params_l = []\n",
    "for n_markers, n_mix, n_spots, scaler_name in itertools.product(n_markers_l, n_mix_l, n_spots_l, scaler_name_l):\n",
    "    data_params_l.append(dict(n_markers=n_markers, n_mix=n_mix, n_spots=n_spots, scaler_name=scaler_name))\n",
    "\n",
    "model_params_l = []\n",
    "for bn_momentum in bn_momentum_l:\n",
    "    model_params_l.append(dict(bn_momentum=bn_momentum))\n",
    "\n",
    "train_params_l = []\n",
    "for alpha, alpha_lr, batch_size, lr in itertools.product(alpha_l, alpha_lr_l, batch_size_l, lr_l):\n",
    "    train_params_l.append(dict(alpha=alpha, alpha_lr=alpha_lr, batch_size=batch_size, lr=lr))\n",
    "\n",
    "\n",
    "if not os.path.exists(os.path.join(\"configs/generated\", MODEL_NAME)):\n",
    "    os.makedirs(os.path.join(\"configs/generated\", MODEL_NAME))\n",
    "for i, (data_params, model_params, train_params) in enumerate(itertools.product(data_params_l, model_params_l, train_params_l)):\n",
    "\n",
    "    if i not in yes_samples:\n",
    "        continue\n",
    "    new_config = deepcopy(config)\n",
    "    new_config[\"data_params\"].update(data_params)\n",
    "    new_config[\"model_params\"][\"celldart_kwargs\"].update(model_params)\n",
    "    new_config[\"train_params\"].update(train_params)\n",
    "    new_config[\"lib_params\"][\"manual_seed\"] = int(rng.integers(0, 2**32))\n",
    "\n",
    "    new_config[\"train_params\"][\"n_iter\"] = 30000\n",
    "\n",
    "\n",
    "\n",
    "    version = f\"gen_v1_perm_{i}\"\n",
    "    new_config[\"model_params\"][\"model_version\"] = version\n",
    "\n",
    "    with open(os.path.join(\"configs/generated\", MODEL_NAME, f\"{version}.yml\"), \"w\") as f:\n",
    "        yaml.safe_dump(new_config, f)"
   ]
  },
  {
   "cell_type": "code",
   "execution_count": 8,
   "metadata": {},
   "outputs": [
    {
     "data": {
      "text/plain": [
       "{'data_params': {'all_genes': False,\n",
       "  'data_dir': 'data',\n",
       "  'n_markers': 80,\n",
       "  'n_mix': 20,\n",
       "  'n_spots': 200000,\n",
       "  'samp_split': True,\n",
       "  'sample_id_n': '151673',\n",
       "  'scaler_name': 'standard',\n",
       "  'st_split': False},\n",
       " 'lib_params': {'manual_seed': 2223721707},\n",
       " 'model_params': {'celldart_kwargs': {'bn_momentum': 0.99, 'emb_dim': 64},\n",
       "  'model_version': 'gen_v1_perm_172778'},\n",
       " 'train_params': {'alpha': 2.0,\n",
       "  'alpha_lr': 2,\n",
       "  'batch_size': 512,\n",
       "  'early_stop_crit': 100,\n",
       "  'early_stop_crit_adv': 10,\n",
       "  'initial_train_epochs': 10,\n",
       "  'lr': 0.0001,\n",
       "  'min_epochs': 10,\n",
       "  'min_epochs_adv': 10,\n",
       "  'n_iter': 30000,\n",
       "  'pretraining': True}}"
      ]
     },
     "execution_count": 8,
     "metadata": {},
     "output_type": "execute_result"
    }
   ],
   "source": [
    "new_config\n"
   ]
  },
  {
   "cell_type": "code",
   "execution_count": 9,
   "metadata": {},
   "outputs": [],
   "source": [
    "import glob"
   ]
  },
  {
   "cell_type": "code",
   "execution_count": 10,
   "metadata": {},
   "outputs": [],
   "source": [
    "lines = [\n",
    "    os.path.basename(name)\n",
    "    for name in glob.glob(os.path.join(\"configs/generated\", MODEL_NAME, \"*.yml\"))\n",
    "]\n",
    "with open(\n",
    "    os.path.join(\"configs/generated\", MODEL_NAME, \"a_list.txt\"),\n",
    "    mode=\"wt\",\n",
    "    encoding=\"utf-8\",\n",
    ") as myfile:\n",
    "    myfile.write(\"\\n\".join(lines))\n",
    "    myfile.write(\"\\n\")"
   ]
  },
  {
   "cell_type": "code",
   "execution_count": null,
   "metadata": {},
   "outputs": [],
   "source": []
  }
 ],
 "metadata": {
  "kernelspec": {
   "display_name": "agreda",
   "language": "python",
   "name": "python3"
  },
  "language_info": {
   "codemirror_mode": {
    "name": "ipython",
    "version": 3
   },
   "file_extension": ".py",
   "mimetype": "text/x-python",
   "name": "python",
   "nbconvert_exporter": "python",
   "pygments_lexer": "ipython3",
   "version": "3.10.4"
  },
  "orig_nbformat": 4
 },
 "nbformat": 4,
 "nbformat_minor": 2
}
