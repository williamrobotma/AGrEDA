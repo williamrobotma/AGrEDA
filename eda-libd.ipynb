{
 "cells": [
  {
   "cell_type": "code",
   "execution_count": 1,
   "metadata": {},
   "outputs": [],
   "source": [
    "import matplotlib.pyplot as plt\n",
    "import seaborn as sns\n",
    "import scipy.stats as ss\n",
    "import scipy.cluster.hierarchy as sch\n",
    "import pandas as pd\n",
    "import numpy as np\n",
    "import sklearn\n",
    "import scanpy as sc\n",
    "import os"
   ]
  },
  {
   "cell_type": "code",
   "execution_count": 5,
   "metadata": {},
   "outputs": [],
   "source": [
    "spatialLIBD_dir = 'data/spatialLIBD_data'"
   ]
  },
  {
   "cell_type": "code",
   "execution_count": 3,
   "metadata": {},
   "outputs": [],
   "source": [
    "# spots = pd.read_csv(os.path.join(spatialLIBD_dir, 'spatialLIBD_spot_counts.csv'), header = 0, index_col = 0, sep =',')\n",
    "# st = pd.read_csv(os.path.join(spatialLIBD_dir, 'spatialLIBD_spot_st.csv'))\n",
    "# gene_meta = pd.read_csv(os.path.join(spatialLIBD_dir, 'gene_meta.csv'))\n",
    "# cell_type = pd.read_csv(os.path.join(spatialLIBD_dir, 'RowDataTable1.csv'))\n",
    "# csr = pd.read_csv(os.path.join(spatialLIBD_dir, 'spatialLIBD_csr_counts.csv'), index_col=0)"
   ]
  },
  {
   "cell_type": "code",
   "execution_count": 6,
   "metadata": {},
   "outputs": [],
   "source": [
    "# spots.to_pickle(os.path.join(spatialLIBD_dir, 'spatialLIBD_spot_counts.pkl'))\n",
    "# st.to_pickle(os.path.join(spatialLIBD_dir, 'spatialLIBD_spot_st.pkl'))\n",
    "# gene_meta.to_pickle(os.path.join(spatialLIBD_dir, 'gene_meta.pkl'))\n",
    "# cell_type.to_pickle(os.path.join(spatialLIBD_dir, 'RowDataTable1.pkl'))\n",
    "# csr.to_pickle(os.path.join(spatialLIBD_dir, 'spatialLIBD_csr_counts.pkl'))"
   ]
  },
  {
   "cell_type": "code",
   "execution_count": 7,
   "metadata": {},
   "outputs": [],
   "source": [
    "spots = pd.read_pickle(os.path.join(spatialLIBD_dir, 'spatialLIBD_spot_counts.pkl'))\n",
    "st = pd.read_pickle(os.path.join(spatialLIBD_dir, 'spatialLIBD_spot_st.pkl'))\n",
    "gene_meta = pd.read_pickle(os.path.join(spatialLIBD_dir, 'gene_meta.pkl'))\n",
    "cell_type = pd.read_pickle(os.path.join(spatialLIBD_dir, 'RowDataTable1.pkl'))\n",
    "csr = pd.read_pickle(os.path.join(spatialLIBD_dir, 'spatialLIBD_csr_counts.pkl'))"
   ]
  },
  {
   "cell_type": "code",
   "execution_count": null,
   "metadata": {},
   "outputs": [],
   "source": []
  }
 ],
 "metadata": {
  "kernelspec": {
   "display_name": "Python 3.10.5 ('agreda')",
   "language": "python",
   "name": "python3"
  },
  "language_info": {
   "codemirror_mode": {
    "name": "ipython",
    "version": 3
   },
   "file_extension": ".py",
   "mimetype": "text/x-python",
   "name": "python",
   "nbconvert_exporter": "python",
   "pygments_lexer": "ipython3",
   "version": "3.10.5"
  },
  "orig_nbformat": 4,
  "vscode": {
   "interpreter": {
    "hash": "330b2d1c36bdd59efd1cb99466680f0cb310a0929e0186587128f5e2b14c88ce"
   }
  }
 },
 "nbformat": 4,
 "nbformat_minor": 2
}
