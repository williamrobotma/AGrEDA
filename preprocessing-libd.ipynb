{
 "cells": [
  {
   "cell_type": "code",
   "execution_count": null,
   "metadata": {},
   "outputs": [],
   "source": [
    "import matplotlib.pyplot as plt\n",
    "import seaborn as sns\n",
    "import scipy.stats as ss\n",
    "import scipy.cluster.hierarchy as sch\n",
    "import pandas as pd\n",
    "import numpy as np\n",
    "import sklearn\n",
    "import scanpy as sc\n",
    "import os"
   ]
  },
  {
   "cell_type": "code",
   "execution_count": null,
   "metadata": {},
   "outputs": [],
   "source": [
    "spatialLIBD_dir = 'data/spatialLIBD_data'"
   ]
  },
  {
   "cell_type": "code",
   "execution_count": null,
   "metadata": {},
   "outputs": [],
   "source": [
    "spots = pd.read_csv(os.path.join(spatialLIBD_dir, 'spatialLIBD_spot_counts.csv'), header = 0, index_col = 0, sep =',')\n",
    "st = pd.read_csv(os.path.join(spatialLIBD_dir, 'spatialLIBD_spot_st.csv'))\n",
    "gene_meta = pd.read_csv(os.path.join(spatialLIBD_dir, 'gene_meta.csv'))\n",
    "cell_type = pd.read_csv(os.path.join(spatialLIBD_dir, 'RowDataTable1.csv'))\n",
    "csr = pd.read_csv(os.path.join(spatialLIBD_dir, 'spatialLIBD_csr_counts_sample_id.csv'), index_col=0)"
   ]
  },
  {
   "cell_type": "code",
   "execution_count": null,
   "metadata": {},
   "outputs": [],
   "source": [
    "spots.to_pickle(os.path.join(spatialLIBD_dir, 'spatialLIBD_spot_counts.pkl'))\n",
    "st.to_pickle(os.path.join(spatialLIBD_dir, 'spatialLIBD_spot_st.pkl'))\n",
    "gene_meta.to_pickle(os.path.join(spatialLIBD_dir, 'gene_meta.pkl'))\n",
    "cell_type.to_pickle(os.path.join(spatialLIBD_dir, 'RowDataTable1.pkl'))\n",
    "csr.to_pickle(os.path.join(spatialLIBD_dir, 'spatialLIBD_csr_counts_sample_id.pkl'))"
   ]
  },
  {
   "cell_type": "code",
   "execution_count": null,
   "metadata": {},
   "outputs": [],
   "source": [
    "# spots = pd.read_pickle(os.path.join(spatialLIBD_dir, 'spatialLIBD_spot_counts.pkl'))\n",
    "# st = pd.read_pickle(os.path.join(spatialLIBD_dir, 'spatialLIBD_spot_st.pkl'))\n",
    "# gene_meta = pd.read_pickle(os.path.join(spatialLIBD_dir, 'gene_meta.pkl'))\n",
    "# cell_type = pd.read_pickle(os.path.join(spatialLIBD_dir, 'RowDataTable1.pkl'))\n",
    "# csr = pd.read_pickle(os.path.join(spatialLIBD_dir, 'spatialLIBD_csr_counts_sample_id.pkl'))"
   ]
  },
  {
   "cell_type": "code",
   "execution_count": null,
   "metadata": {},
   "outputs": [],
   "source": [
    "print('spots')\n",
    "# display(spots)\n",
    "print('st')\n",
    "# display(st)\n",
    "print('gene_meta')\n",
    "# display(gene_meta)\n",
    "print('cell_type')\n",
    "# display(cell_type)\n",
    "print('csr')\n",
    "display(csr)"
   ]
  },
  {
   "cell_type": "code",
   "execution_count": null,
   "metadata": {},
   "outputs": [],
   "source": [
    "print(spots.columns)"
   ]
  },
  {
   "cell_type": "code",
   "execution_count": null,
   "metadata": {},
   "outputs": [],
   "source": [
    "# rename st column names\n",
    "st.columns = [\"spot\", \"X\", \"Y\"]\n",
    "print(st.head())"
   ]
  },
  {
   "cell_type": "code",
   "execution_count": null,
   "metadata": {},
   "outputs": [],
   "source": [
    "spot = spots[['sample_id', 'key', 'subject', 'replicate', 'Cluster', 'sum_umi', 'sum_gene', 'cell_count', 'in_tissue','spatialLIBD', 'array_col', 'array_row']]\n",
    "print(spot)"
   ]
  },
  {
   "cell_type": "code",
   "execution_count": null,
   "metadata": {},
   "outputs": [],
   "source": [
    "# merge spot and st info -- merging based on index... no other specifying info in st:S, seems okay?\n",
    "spot_meta = st.join(spot.reset_index())\n",
    "print(spot_meta)\n"
   ]
  },
  {
   "cell_type": "code",
   "execution_count": null,
   "metadata": {},
   "outputs": [],
   "source": [
    "assert((spot_meta.spot.isin(spot_meta['index'])).all())"
   ]
  },
  {
   "cell_type": "code",
   "execution_count": null,
   "metadata": {},
   "outputs": [],
   "source": [
    "def plot_cell_layers(df):\n",
    "    \n",
    "    layer_idx = df[\"spatialLIBD\"].unique()\n",
    "    \n",
    "    fig, ax = plt.subplots(nrows = 1, ncols = 12, figsize = (50,6))\n",
    "    samples = df[\"sample_id\"].unique()\n",
    "    \n",
    "    for idx, sample in enumerate(samples):\n",
    "        cells_of_samples = df[df[\"sample_id\"] == sample]\n",
    "        for index in layer_idx:\n",
    "            cells_of_layer = cells_of_samples[cells_of_samples[\"spatialLIBD\"] == index]\n",
    "            ax[idx].scatter(-cells_of_layer[\"Y\"], cells_of_layer[\"X\"], label = index)\n",
    "        ax[idx].set_title(sample)\n",
    "    plt.legend()\n",
    "    plt.show()"
   ]
  },
  {
   "cell_type": "code",
   "execution_count": null,
   "metadata": {},
   "outputs": [],
   "source": [
    "print(plot_cell_layers(spot_meta) )"
   ]
  },
  {
   "cell_type": "code",
   "execution_count": null,
   "metadata": {},
   "outputs": [],
   "source": [
    "print(cell_type)"
   ]
  },
  {
   "cell_type": "code",
   "execution_count": null,
   "metadata": {},
   "outputs": [],
   "source": [
    "cell_type = cell_type.set_index(\"Symbol\")"
   ]
  },
  {
   "cell_type": "code",
   "execution_count": null,
   "metadata": {},
   "outputs": [],
   "source": [
    "cell_type_idx_df = cell_type.iloc[:,:3]"
   ]
  },
  {
   "cell_type": "code",
   "execution_count": null,
   "metadata": {},
   "outputs": [],
   "source": [
    "cell_type = cell_type.drop(['Unnamed: 0', 'gene_biotype', \"ID\"], axis=1)"
   ]
  },
  {
   "cell_type": "code",
   "execution_count": null,
   "metadata": {},
   "outputs": [],
   "source": [
    "del spots\n",
    "del spot\n",
    "del gene_meta\n",
    "del st"
   ]
  },
  {
   "cell_type": "code",
   "execution_count": null,
   "metadata": {},
   "outputs": [],
   "source": [
    "wide = csr.pivot_table(index = [\"sample_id\", \"spot\"], columns = \"gene\", values = \"count\").fillna(0).astype(pd.SparseDtype(\"float\", 0.0))\n",
    "# wide = wide.fillna(0)\n",
    "# wide = wide.astype(pd.SparseDtype(\"float\", 0.0))\n"
   ]
  },
  {
   "cell_type": "code",
   "execution_count": null,
   "metadata": {},
   "outputs": [],
   "source": [
    "counts_df = wide\n",
    "print(counts_df)"
   ]
  },
  {
   "cell_type": "code",
   "execution_count": null,
   "metadata": {},
   "outputs": [],
   "source": [
    "ID_to_symbol_d = cell_type_idx_df.ID.reset_index().set_index('ID')['Symbol'].to_dict()"
   ]
  },
  {
   "cell_type": "code",
   "execution_count": null,
   "metadata": {},
   "outputs": [],
   "source": [
    "counts_df.columns = counts_df.columns.map(ID_to_symbol_d, na_action=None)\n",
    "print(counts_df)"
   ]
  },
  {
   "cell_type": "code",
   "execution_count": null,
   "metadata": {},
   "outputs": [],
   "source": [
    "# # working with sampleID 151673 only, for now\n",
    "# dlpfc = spot_meta[spot_meta['sample_id'] == 151673]\n",
    "dlpfc = spot_meta"
   ]
  },
  {
   "cell_type": "code",
   "execution_count": null,
   "metadata": {},
   "outputs": [],
   "source": [
    "dlpfc = dlpfc.set_index(['sample_id', 'spot'])"
   ]
  },
  {
   "cell_type": "code",
   "execution_count": null,
   "metadata": {},
   "outputs": [],
   "source": [
    "print(dlpfc)"
   ]
  },
  {
   "cell_type": "code",
   "execution_count": null,
   "metadata": {},
   "outputs": [],
   "source": [
    "temp = pd.concat([dlpfc, counts_df], join='inner', axis=1)\n",
    "print(temp)"
   ]
  },
  {
   "cell_type": "code",
   "execution_count": null,
   "metadata": {},
   "outputs": [],
   "source": [
    "temp = temp.iloc[:,15:]\n",
    "print(temp)"
   ]
  },
  {
   "cell_type": "code",
   "execution_count": null,
   "metadata": {},
   "outputs": [],
   "source": [
    "same_genes = cell_type[cell_type.index.isin(temp.columns)]\n",
    "print(same_genes)"
   ]
  },
  {
   "cell_type": "code",
   "execution_count": null,
   "metadata": {},
   "outputs": [],
   "source": [
    "counts_df.to_pickle(os.path.join(spatialLIBD_dir, 'counts_df.pkl'))"
   ]
  },
  {
   "cell_type": "code",
   "execution_count": null,
   "metadata": {},
   "outputs": [],
   "source": [
    "print(dlpfc)"
   ]
  },
  {
   "cell_type": "code",
   "execution_count": null,
   "metadata": {},
   "outputs": [],
   "source": [
    "dlpfc.to_pickle(os.path.join(spatialLIBD_dir, 'dlpfc.pkl'))"
   ]
  },
  {
   "cell_type": "code",
   "execution_count": null,
   "metadata": {},
   "outputs": [],
   "source": [
    "temp.to_pickle(os.path.join(spatialLIBD_dir, 'temp.pkl'))"
   ]
  },
  {
   "cell_type": "code",
   "execution_count": null,
   "metadata": {},
   "outputs": [],
   "source": [
    "# with pd.option_context('display.max_rows', None, 'display.max_columns', None):\n",
    "#     display(spots.iloc[0])"
   ]
  },
  {
   "cell_type": "code",
   "execution_count": null,
   "metadata": {},
   "outputs": [],
   "source": [
    "# spots[spots.sample_id == 151673].cell_count.value_counts()"
   ]
  },
  {
   "cell_type": "code",
   "execution_count": null,
   "metadata": {},
   "outputs": [],
   "source": [
    "# sns.displot(spots[spots.sample_id == 151673].cell_count)"
   ]
  },
  {
   "cell_type": "code",
   "execution_count": null,
   "metadata": {},
   "outputs": [],
   "source": [
    "# spots[spots.sample_id == 151673].cell_count.describe()"
   ]
  },
  {
   "cell_type": "code",
   "execution_count": null,
   "metadata": {},
   "outputs": [],
   "source": []
  }
 ],
 "metadata": {
  "kernelspec": {
   "display_name": ".venv",
   "language": "python",
   "name": "python3"
  },
  "language_info": {
   "codemirror_mode": {
    "name": "ipython",
    "version": 3
   },
   "file_extension": ".py",
   "mimetype": "text/x-python",
   "name": "python",
   "nbconvert_exporter": "python",
   "pygments_lexer": "ipython3",
   "version": "3.8.10"
  },
  "vscode": {
   "interpreter": {
    "hash": "5df61856ee876c685131c0dba251d8ca13e87d210cd9186a479179e22c95cdae"
   }
  }
 },
 "nbformat": 4,
 "nbformat_minor": 4
}
