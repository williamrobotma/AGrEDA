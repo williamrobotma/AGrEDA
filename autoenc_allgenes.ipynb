{
 "cells": [
  {
   "cell_type": "markdown",
   "metadata": {},
   "source": [
    " # DANN for ST"
   ]
  },
  {
   "cell_type": "markdown",
   "metadata": {},
   "source": [
    " Creating something like CellDART but it actually follows Adda in PyTorch as a first step"
   ]
  },
  {
   "cell_type": "code",
   "execution_count": 1,
   "metadata": {
    "execution": {
     "iopub.execute_input": "2022-12-14T01:32:36.118629Z",
     "iopub.status.busy": "2022-12-14T01:32:36.118389Z",
     "iopub.status.idle": "2022-12-14T01:32:37.205794Z",
     "shell.execute_reply": "2022-12-14T01:32:37.204613Z"
    }
   },
   "outputs": [
    {
     "name": "stderr",
     "output_type": "stream",
     "text": [
      "/tmp/ipykernel_848261/1619004960.py:8: TqdmExperimentalWarning: Using `tqdm.autonotebook.tqdm` in notebook mode. Use `tqdm.tqdm` instead to force console mode (e.g. in jupyter console)\n",
      "  from tqdm.autonotebook import tqdm\n"
     ]
    }
   ],
   "source": [
    "import math\n",
    "import os\n",
    "import datetime\n",
    "from copy import deepcopy\n",
    "from itertools import count\n",
    "import warnings\n",
    "\n",
    "from tqdm.autonotebook import tqdm\n",
    "import matplotlib.pyplot as plt\n",
    "import h5py\n",
    "import pickle\n",
    "import numpy as np\n",
    "\n",
    "\n",
    "import torch\n",
    "from torch.nn import functional as F\n",
    "from torch import nn\n",
    "from torch.cuda.amp import GradScaler\n",
    "from torch import autocast\n",
    "\n",
    "from src.da_models.autoencoder import AutoEncoder\n",
    "from src.da_models.datasets import SpotDataset\n",
    "from src.da_models.utils import set_requires_grad\n",
    "from src.da_models.utils import initialize_weights\n",
    "from src.utils.dupstdout import DupStdout\n",
    "from src.utils.data_loading import load_spatial, load_sc, get_selected_dir\n",
    "\n",
    "\n",
    "# datetime object containing current date and time\n",
    "script_start_time = datetime.datetime.now().strftime(\"%Y-%m-%d_%Hh%Mm%S\")\n"
   ]
  },
  {
   "cell_type": "code",
   "execution_count": 2,
   "metadata": {
    "execution": {
     "iopub.execute_input": "2022-12-14T01:32:37.211622Z",
     "iopub.status.busy": "2022-12-14T01:32:37.211477Z",
     "iopub.status.idle": "2022-12-14T01:32:37.254898Z",
     "shell.execute_reply": "2022-12-14T01:32:37.253947Z"
    }
   },
   "outputs": [],
   "source": [
    "device = torch.device(\"cuda:3\" if torch.cuda.is_available() else \"cpu\")\n",
    "if device == \"cpu\":\n",
    "    warnings.warn(\"Using CPU\", stacklevel=2)\n"
   ]
  },
  {
   "cell_type": "code",
   "execution_count": 3,
   "metadata": {
    "execution": {
     "iopub.execute_input": "2022-12-14T01:32:37.258704Z",
     "iopub.status.busy": "2022-12-14T01:32:37.258568Z",
     "iopub.status.idle": "2022-12-14T01:32:37.263668Z",
     "shell.execute_reply": "2022-12-14T01:32:37.262756Z"
    }
   },
   "outputs": [],
   "source": [
    "DATA_DIR = \"data\"\n",
    "\n",
    "TRAIN_USING_ALL_ST_SAMPLES = False\n",
    "N_MARKERS = 20\n",
    "ALL_GENES = True\n",
    "N_SPOTS = 20000\n",
    "N_MIX = 8\n",
    "SCALER_NAME = \"standard\"\n",
    "\n",
    "SAMPLE_ID_N = \"151673\"\n",
    "\n",
    "MODEL_NAME = \"Autoencoder_allgenes\"\n",
    "\n",
    "BATCH_SIZE = 256\n",
    "\n",
    "INITIAL_TRAIN_LR = 0.001\n",
    "NUM_WORKERS = 8\n",
    "INITIAL_TRAIN_EPOCHS = 200\n",
    "\n",
    "\n",
    "MIN_EPOCHS = 0.4 * INITIAL_TRAIN_EPOCHS\n",
    "EARLY_STOP_CRIT = INITIAL_TRAIN_EPOCHS\n",
    "\n",
    "\n",
    "autoencoder_kwargs = {\n",
    "    \"emb_dim\": 64,\n",
    "    \"dropout\": 0.1,\n",
    "    \"enc_out_act\": None,\n",
    "    \"dec_out_act\": None,\n",
    "    \"bn_momentum\": 0.1,\n",
    "}\n",
    "adamw_kwargs = {\"lr\": INITIAL_TRAIN_LR, \"weight_decay\": 2.0}\n"
   ]
  },
  {
   "cell_type": "code",
   "execution_count": 4,
   "metadata": {
    "execution": {
     "iopub.execute_input": "2022-12-14T01:32:37.268009Z",
     "iopub.status.busy": "2022-12-14T01:32:37.267621Z",
     "iopub.status.idle": "2022-12-14T01:32:37.272001Z",
     "shell.execute_reply": "2022-12-14T01:32:37.271027Z"
    }
   },
   "outputs": [],
   "source": [
    "model_folder = os.path.join(\"model\", MODEL_NAME, script_start_time)\n",
    "\n",
    "model_folder = os.path.join(\"model\", MODEL_NAME, \"V1\")\n",
    "\n",
    "if not os.path.isdir(model_folder):\n",
    "    os.makedirs(model_folder)\n",
    "    print(model_folder)\n"
   ]
  },
  {
   "cell_type": "markdown",
   "metadata": {},
   "source": [
    " # Data load"
   ]
  },
  {
   "cell_type": "code",
   "execution_count": 5,
   "metadata": {
    "execution": {
     "iopub.execute_input": "2022-12-14T01:32:37.274348Z",
     "iopub.status.busy": "2022-12-14T01:32:37.274224Z",
     "iopub.status.idle": "2022-12-14T01:32:38.595140Z",
     "shell.execute_reply": "2022-12-14T01:32:38.594274Z"
    }
   },
   "outputs": [],
   "source": [
    "# # Load spatial data\n",
    "# mat_sp_test_s_d = {}\n",
    "# with h5py.File(os.path.join(PROCESSED_DATA_DIR, \"mat_sp_test_s_d.hdf5\"), \"r\") as f:\n",
    "#     for sample_id in f:\n",
    "#         mat_sp_test_s_d[sample_id] = f[sample_id][()]\n",
    "\n",
    "# if TRAIN_USING_ALL_ST_SAMPLES:\n",
    "#     with h5py.File(os.path.join(PROCESSED_DATA_DIR, \"mat_sp_train_s.hdf5\"), \"r\") as f:\n",
    "#         mat_sp_train_s = f[\"all\"][()]\n",
    "# else:\n",
    "#     mat_sp_train_s_d = mat_sp_test_s_d\n",
    "\n",
    "sc_mix_d, lab_mix_d, sc_sub_dict, sc_sub_dict2 = load_sc(\n",
    "    get_selected_dir(DATA_DIR, N_MARKERS, ALL_GENES), SCALER_NAME, n_mix=N_MIX, n_spots=N_SPOTS,\n",
    ")\n",
    "\n",
    "# # Load sc data\n",
    "# with h5py.File(os.path.join(PROCESSED_DATA_DIR, \"sc.hdf5\"), \"r\") as f:\n",
    "#     sc_mix_train_s = f[\"X/train\"][()]\n",
    "#     sc_mix_val_s = f[\"X/val\"][()]\n",
    "#     sc_mix_test_s = f[\"X/test\"][()]\n",
    "\n",
    "#     lab_mix_train = f[\"y/train\"][()]\n",
    "#     lab_mix_val = f[\"y/val\"][()]\n",
    "#     lab_mix_test = f[\"y/test\"][()]\n"
   ]
  },
  {
   "cell_type": "code",
   "execution_count": 6,
   "metadata": {},
   "outputs": [
    {
     "data": {
      "text/plain": [
       "0.22301877363886274"
      ]
     },
     "execution_count": 6,
     "metadata": {},
     "output_type": "execute_result"
    }
   ],
   "source": [
    "(np.std(sc_mix_d[\"train\"], axis=0) ** 2).mean()"
   ]
  },
  {
   "cell_type": "code",
   "execution_count": 8,
   "metadata": {},
   "outputs": [
    {
     "data": {
      "text/plain": [
       "(20000, 18375)"
      ]
     },
     "execution_count": 8,
     "metadata": {},
     "output_type": "execute_result"
    }
   ],
   "source": [
    "sc_mix_d[\"train\"].shape"
   ]
  },
  {
   "cell_type": "markdown",
   "metadata": {},
   "source": [
    " # Training: Adversarial domain adaptation for cell fraction estimation"
   ]
  },
  {
   "cell_type": "markdown",
   "metadata": {},
   "source": [
    " ## Prepare dataloaders"
   ]
  },
  {
   "cell_type": "code",
   "execution_count": 6,
   "metadata": {
    "execution": {
     "iopub.execute_input": "2022-12-14T01:32:38.598082Z",
     "iopub.status.busy": "2022-12-14T01:32:38.597804Z",
     "iopub.status.idle": "2022-12-14T01:32:38.728714Z",
     "shell.execute_reply": "2022-12-14T01:32:38.728249Z"
    }
   },
   "outputs": [],
   "source": [
    "### source dataloaders\n",
    "source_train_set = SpotDataset(sc_mix_d[\"train\"], lab_mix_d[\"train\"])\n",
    "source_val_set = SpotDataset(sc_mix_d[\"val\"], lab_mix_d[\"val\"])\n",
    "source_test_set = SpotDataset(sc_mix_d[\"test\"], lab_mix_d[\"test\"])\n",
    "\n",
    "dataloader_source_train = torch.utils.data.DataLoader(\n",
    "    source_train_set,\n",
    "    batch_size=BATCH_SIZE,\n",
    "    shuffle=True,\n",
    "    num_workers=NUM_WORKERS,\n",
    "    pin_memory=False,\n",
    ")\n",
    "dataloader_source_val = torch.utils.data.DataLoader(\n",
    "    source_val_set,\n",
    "    batch_size=BATCH_SIZE,\n",
    "    shuffle=False,\n",
    "    num_workers=NUM_WORKERS,\n",
    "    pin_memory=False,\n",
    ")\n",
    "dataloader_source_test = torch.utils.data.DataLoader(\n",
    "    source_test_set,\n",
    "    batch_size=BATCH_SIZE,\n",
    "    shuffle=False,\n",
    "    num_workers=NUM_WORKERS,\n",
    "    pin_memory=False,\n",
    ")\n",
    "\n",
    "### target dataloaders\n",
    "# target_test_set_d = {}\n",
    "# for sample_id in st_sample_id_l:\n",
    "#     target_test_set_d[sample_id] = SpotDataset(mat_sp_test_s_d[sample_id])\n",
    "\n",
    "# dataloader_target_test_d = {}\n",
    "# for sample_id in st_sample_id_l:\n",
    "#     dataloader_target_test_d[sample_id] = torch.utils.data.DataLoader(\n",
    "#         target_test_set_d[sample_id],\n",
    "#         batch_size=BATCH_SIZE,\n",
    "#         shuffle=False,\n",
    "#         num_workers=NUM_WORKERS,\n",
    "#         pin_memory=False,\n",
    "#     )\n",
    "\n",
    "# if TRAIN_USING_ALL_ST_SAMPLES:\n",
    "#     target_train_set = SpotDataset(mat_sp_train_s)\n",
    "#     dataloader_target_train = torch.utils.data.DataLoader(\n",
    "#         target_train_set,\n",
    "#         batch_size=BATCH_SIZE,\n",
    "#         shuffle=True,\n",
    "#         num_workers=NUM_WORKERS,\n",
    "#         pin_memory=False,\n",
    "#     )\n",
    "#     target_train_set_dis = SpotDataset(deepcopy(mat_sp_train_s))\n",
    "#     dataloader_target_train_dis = torch.utils.data.DataLoader(\n",
    "#         target_train_set_dis,\n",
    "#         batch_size=BATCH_SIZE,\n",
    "#         shuffle=True,\n",
    "#         num_workers=NUM_WORKERS,\n",
    "#         pin_memory=False,\n",
    "#     )\n",
    "# else:\n",
    "#     target_train_set_d = {}\n",
    "#     dataloader_target_train_d = {}\n",
    "\n",
    "#     target_train_set_dis_d = {}\n",
    "#     dataloader_target_train_dis_d = {}\n",
    "#     for sample_id in st_sample_id_l:\n",
    "#         target_train_set_d[sample_id] = SpotDataset(\n",
    "#             deepcopy(mat_sp_test_s_d[sample_id])\n",
    "#         )\n",
    "#         dataloader_target_train_d[sample_id] = torch.utils.data.DataLoader(\n",
    "#             target_train_set_d[sample_id],\n",
    "#             batch_size=BATCH_SIZE,\n",
    "#             shuffle=True,\n",
    "#             num_workers=NUM_WORKERS,\n",
    "#             pin_memory=False,\n",
    "#         )\n",
    "\n",
    "#         target_train_set_dis_d[sample_id] = SpotDataset(\n",
    "#             deepcopy(mat_sp_test_s_d[sample_id])\n",
    "#         )\n",
    "#         dataloader_target_train_dis_d[sample_id] = torch.utils.data.DataLoader(\n",
    "#             target_train_set_dis_d[sample_id],\n",
    "#             batch_size=BATCH_SIZE,\n",
    "#             shuffle=True,\n",
    "#             num_workers=NUM_WORKERS,\n",
    "#             pin_memory=False,\n",
    "#         )\n"
   ]
  },
  {
   "cell_type": "markdown",
   "metadata": {},
   "source": []
  },
  {
   "cell_type": "code",
   "execution_count": 7,
   "metadata": {
    "execution": {
     "iopub.execute_input": "2022-12-14T01:32:38.731611Z",
     "iopub.status.busy": "2022-12-14T01:32:38.731356Z",
     "iopub.status.idle": "2022-12-14T01:32:38.737312Z",
     "shell.execute_reply": "2022-12-14T01:32:38.736948Z"
    }
   },
   "outputs": [],
   "source": [
    "import itertools\n",
    "\n",
    "\n",
    "def plot_iters(nested_list, startpoint=False, endpoint=True, ax=None, **kwargs):\n",
    "    if ax is None:\n",
    "        ax = plt\n",
    "\n",
    "    x = []\n",
    "    if startpoint:\n",
    "        for i, l in enumerate(nested_list):\n",
    "            if endpoint and i == len(nested_list) - 1:\n",
    "                x_i = np.linspace(i - 1, i, len(l), endpoint=True, dtype=np.float32)\n",
    "            else:\n",
    "                x_i = np.linspace(i - 1, i, len(l), endpoint=False, dtype=np.float32)\n",
    "            x.append(x_i)\n",
    "    else:\n",
    "        for i, l in enumerate(nested_list):\n",
    "            if not endpoint and i == len(nested_list) - 1:\n",
    "                x_i = np.linspace(\n",
    "                    i, i - 1, len(l + 1), endpoint=False, dtype=np.float32\n",
    "                )\n",
    "                x_i = x_i[1:]\n",
    "            else:\n",
    "                x_i = np.linspace(i, i - 1, len(l), endpoint=False, dtype=np.float32)\n",
    "\n",
    "            # Flip to not include startpoint i.e. shift to end of iteration\n",
    "            x_i = np.flip(x_i)\n",
    "            x.append(x_i)\n",
    "\n",
    "    x = np.asarray(list(itertools.chain(*x)))\n",
    "    y = np.asarray(list(itertools.chain(*nested_list)))\n",
    "    ax.plot(x, y, **kwargs)\n",
    "\n",
    "    return x, y\n"
   ]
  },
  {
   "cell_type": "code",
   "execution_count": 8,
   "metadata": {
    "execution": {
     "iopub.execute_input": "2022-12-14T01:32:38.739486Z",
     "iopub.status.busy": "2022-12-14T01:32:38.739286Z",
     "iopub.status.idle": "2022-12-14T01:32:40.216826Z",
     "shell.execute_reply": "2022-12-14T01:32:40.216175Z"
    }
   },
   "outputs": [
    {
     "name": "stdout",
     "output_type": "stream",
     "text": [
      "AutoEncoder(\n",
      "  (encoder): ADDAMLPEncoder(\n",
      "    (encoder): Sequential(\n",
      "      (0): Linear(in_features=18375, out_features=1024, bias=True)\n",
      "      (1): BatchNorm1d(1024, eps=0.001, momentum=0.1, affine=True, track_running_stats=True)\n",
      "      (2): LeakyReLU(negative_slope=0.01)\n",
      "      (3): Dropout(p=0.1, inplace=False)\n",
      "      (4): Linear(in_features=1024, out_features=512, bias=True)\n",
      "      (5): BatchNorm1d(512, eps=0.001, momentum=0.1, affine=True, track_running_stats=True)\n",
      "      (6): LeakyReLU(negative_slope=0.01)\n",
      "      (7): Dropout(p=0.1, inplace=False)\n",
      "      (8): Linear(in_features=512, out_features=64, bias=True)\n",
      "    )\n",
      "  )\n",
      "  (decoder): ADDAMLPDecoder(\n",
      "    (decoder): Sequential(\n",
      "      (0): Linear(in_features=64, out_features=512, bias=True)\n",
      "      (1): BatchNorm1d(512, eps=0.001, momentum=0.1, affine=True, track_running_stats=True)\n",
      "      (2): LeakyReLU(negative_slope=0.01)\n",
      "      (3): Dropout(p=0.1, inplace=False)\n",
      "      (4): Linear(in_features=512, out_features=1024, bias=True)\n",
      "      (5): BatchNorm1d(1024, eps=0.001, momentum=0.1, affine=True, track_running_stats=True)\n",
      "      (6): LeakyReLU(negative_slope=0.01)\n",
      "      (7): Dropout(p=0.1, inplace=False)\n",
      "      (8): Linear(in_features=1024, out_features=18375, bias=True)\n",
      "    )\n",
      "  )\n",
      ")\n"
     ]
    }
   ],
   "source": [
    "# Model Initialization\n",
    "model = AutoEncoder(inp_dim=sc_mix_d[\"train\"].shape[1], **autoencoder_kwargs)\n",
    "model = model.to(device)\n",
    "model.apply(initialize_weights)\n",
    "print(model)\n",
    "# Validation using MSE Loss function\n",
    "criterion = torch.nn.MSELoss()\n",
    "\n",
    "# Using an Adam Optimizer with lr = 0.1\n",
    "optimizer = torch.optim.AdamW(model.parameters(), **adamw_kwargs)\n",
    "\n",
    "\n",
    "scheduler = torch.optim.lr_scheduler.OneCycleLR(\n",
    "    optimizer,\n",
    "    max_lr=INITIAL_TRAIN_LR,\n",
    "    steps_per_epoch=len(dataloader_source_train),\n",
    "    epochs=INITIAL_TRAIN_EPOCHS,\n",
    ")\n"
   ]
  },
  {
   "cell_type": "code",
   "execution_count": 9,
   "metadata": {
    "execution": {
     "iopub.execute_input": "2022-12-14T01:32:40.219360Z",
     "iopub.status.busy": "2022-12-14T01:32:40.219154Z",
     "iopub.status.idle": "2022-12-14T01:32:40.228380Z",
     "shell.execute_reply": "2022-12-14T01:32:40.227552Z"
    }
   },
   "outputs": [],
   "source": [
    "def run_epoch(\n",
    "    dataloader,\n",
    "    model,\n",
    "    optimizer=None,\n",
    "    scheduler=None,\n",
    "    scaler=None,\n",
    "    inner=None,\n",
    "    predict=False,\n",
    "):\n",
    "    \"\"\"Runs a single epoch of training or validation.\"\"\"\n",
    "    running_results = {}\n",
    "    running_results[\"loss\"] = []\n",
    "    running_results[\"bs\"] = []\n",
    "    if scheduler is not None:\n",
    "        running_results[\"lr\"] = []\n",
    "    if predict:\n",
    "        running_results[\"pred\"] = []\n",
    "        running_results[\"true\"] = []\n",
    "    for _, (x, _) in enumerate(dataloader):\n",
    "        if scheduler is not None:\n",
    "            running_results[\"lr\"].append(scheduler.get_last_lr()[-1])\n",
    "        if optimizer is not None:\n",
    "            optimizer.zero_grad()\n",
    "\n",
    "        x = x.to(torch.float32).to(device)\n",
    "\n",
    "        if scaler is not None:\n",
    "            with autocast(device_type=device.type, dtype=torch.float16):\n",
    "                x_pred = model(x)\n",
    "                loss = criterion(x_pred, x)\n",
    "        else:\n",
    "            x_pred = model(x)\n",
    "            loss = criterion(x_pred, x)\n",
    "\n",
    "        running_results[\"loss\"].append(loss.item())\n",
    "        # we will weight average by batch size later\n",
    "        running_results[\"bs\"].append(len(x))\n",
    "        if predict:\n",
    "            running_results[\"pred\"].append(x_pred.detach().cpu().numpy())\n",
    "            running_results[\"true\"].append(x.detach().cpu().numpy())\n",
    "\n",
    "        if scaler is not None:\n",
    "            if optimizer is not None:\n",
    "                scaler.scale(loss).backward()\n",
    "                scaler.step(optimizer)\n",
    "\n",
    "            scale = scaler.get_scale()\n",
    "            scaler.update()\n",
    "\n",
    "            if scheduler is not None:\n",
    "                skip_lr_sched = scale > scaler.get_scale()\n",
    "                if not skip_lr_sched:\n",
    "                    scheduler.step()\n",
    "        else:\n",
    "            if optimizer is not None:\n",
    "                loss.backward()\n",
    "                optimizer.step()\n",
    "            if scheduler is not None:\n",
    "                scheduler.step()\n",
    "        if inner is not None:\n",
    "            inner.update(1)\n",
    "\n",
    "    # Weight average the loss by batch size\n",
    "    avg_results = {}\n",
    "    for results in running_results:\n",
    "        avg_results[results] = np.average(\n",
    "            running_results[results], weights=running_results[\"bs\"]\n",
    "        )\n",
    "\n",
    "    return avg_results, running_results\n"
   ]
  },
  {
   "cell_type": "code",
   "execution_count": 10,
   "metadata": {
    "execution": {
     "iopub.execute_input": "2022-12-14T01:32:40.230810Z",
     "iopub.status.busy": "2022-12-14T01:32:40.230505Z",
     "iopub.status.idle": "2022-12-14T01:42:29.175319Z",
     "shell.execute_reply": "2022-12-14T01:42:29.174518Z"
    }
   },
   "outputs": [
    {
     "name": "stdout",
     "output_type": "stream",
     "text": [
      "Start train...\n"
     ]
    },
    {
     "data": {
      "application/vnd.jupyter.widget-view+json": {
       "model_id": "0d856e623cf64a80876bf271511ed690",
       "version_major": 2,
       "version_minor": 0
      },
      "text/plain": [
       "Epochs:   0%|          | 0/200 [00:00<?, ?it/s]"
      ]
     },
     "metadata": {},
     "output_type": "display_data"
    },
    {
     "data": {
      "application/vnd.jupyter.widget-view+json": {
       "model_id": "585285518b56439092850a9061689ff2",
       "version_major": 2,
       "version_minor": 0
      },
      "text/plain": [
       "Batch:   0%|          | 0/391 [00:00<?, ?it/s]"
      ]
     },
     "metadata": {},
     "output_type": "display_data"
    },
    {
     "name": "stdout",
     "output_type": "stream",
     "text": [
      " Epoch | Train Loss | Val Loss   | Next LR    \n",
      "----------------------------------------------\n",
      "     0 | 0.58710893 | 0.26051479 | 4.0658e-05 <-- new best val loss\n",
      "     1 | 0.27296763 | 0.25172295 | 4.263e-05  <-- new best val loss\n",
      "     2 | 0.25829036 | 0.24902011 | 4.591e-05  <-- new best val loss\n",
      "     3 | 0.24919696 | 0.24741421 | 5.049e-05  <-- new best val loss\n",
      "     4 | 0.24174606 | 0.24574387 | 5.6357e-05 <-- new best val loss\n"
     ]
    },
    {
     "ename": "KeyboardInterrupt",
     "evalue": "",
     "output_type": "error",
     "traceback": [
      "\u001b[0;31m---------------------------------------------------------------------------\u001b[0m",
      "\u001b[0;31mKeyboardInterrupt\u001b[0m                         Traceback (most recent call last)",
      "\u001b[1;32m/projects/wma/AGrEDA/autoenc_allgenes.ipynb Cell 16\u001b[0m in \u001b[0;36m<cell line: 17>\u001b[0;34m()\u001b[0m\n\u001b[1;32m     <a href='vscode-notebook-cell://ssh-remote%2Bcombine/projects/wma/AGrEDA/autoenc_allgenes.ipynb#X21sdnNjb2RlLXJlbW90ZQ%3D%3D?line=35'>36</a>\u001b[0m inner\u001b[39m.\u001b[39mrefresh()  \u001b[39m# force print final state\u001b[39;00m\n\u001b[1;32m     <a href='vscode-notebook-cell://ssh-remote%2Bcombine/projects/wma/AGrEDA/autoenc_allgenes.ipynb#X21sdnNjb2RlLXJlbW90ZQ%3D%3D?line=36'>37</a>\u001b[0m inner\u001b[39m.\u001b[39mreset()  \u001b[39m# reuse bar\u001b[39;00m\n\u001b[0;32m---> <a href='vscode-notebook-cell://ssh-remote%2Bcombine/projects/wma/AGrEDA/autoenc_allgenes.ipynb#X21sdnNjb2RlLXJlbW90ZQ%3D%3D?line=38'>39</a>\u001b[0m avg_results, running_results \u001b[39m=\u001b[39m run_epoch(\n\u001b[1;32m     <a href='vscode-notebook-cell://ssh-remote%2Bcombine/projects/wma/AGrEDA/autoenc_allgenes.ipynb#X21sdnNjb2RlLXJlbW90ZQ%3D%3D?line=39'>40</a>\u001b[0m     dataloader_source_train,\n\u001b[1;32m     <a href='vscode-notebook-cell://ssh-remote%2Bcombine/projects/wma/AGrEDA/autoenc_allgenes.ipynb#X21sdnNjb2RlLXJlbW90ZQ%3D%3D?line=40'>41</a>\u001b[0m     model,\n\u001b[1;32m     <a href='vscode-notebook-cell://ssh-remote%2Bcombine/projects/wma/AGrEDA/autoenc_allgenes.ipynb#X21sdnNjb2RlLXJlbW90ZQ%3D%3D?line=41'>42</a>\u001b[0m     optimizer\u001b[39m=\u001b[39;49moptimizer,\n\u001b[1;32m     <a href='vscode-notebook-cell://ssh-remote%2Bcombine/projects/wma/AGrEDA/autoenc_allgenes.ipynb#X21sdnNjb2RlLXJlbW90ZQ%3D%3D?line=42'>43</a>\u001b[0m     scheduler\u001b[39m=\u001b[39;49mscheduler,\n\u001b[1;32m     <a href='vscode-notebook-cell://ssh-remote%2Bcombine/projects/wma/AGrEDA/autoenc_allgenes.ipynb#X21sdnNjb2RlLXJlbW90ZQ%3D%3D?line=43'>44</a>\u001b[0m     scaler\u001b[39m=\u001b[39;49mscaler,\n\u001b[1;32m     <a href='vscode-notebook-cell://ssh-remote%2Bcombine/projects/wma/AGrEDA/autoenc_allgenes.ipynb#X21sdnNjb2RlLXJlbW90ZQ%3D%3D?line=44'>45</a>\u001b[0m     inner\u001b[39m=\u001b[39;49minner,\n\u001b[1;32m     <a href='vscode-notebook-cell://ssh-remote%2Bcombine/projects/wma/AGrEDA/autoenc_allgenes.ipynb#X21sdnNjb2RlLXJlbW90ZQ%3D%3D?line=45'>46</a>\u001b[0m )\n\u001b[1;32m     <a href='vscode-notebook-cell://ssh-remote%2Bcombine/projects/wma/AGrEDA/autoenc_allgenes.ipynb#X21sdnNjb2RlLXJlbW90ZQ%3D%3D?line=47'>48</a>\u001b[0m loss_history\u001b[39m.\u001b[39mappend(avg_results[\u001b[39m\"\u001b[39m\u001b[39mloss\u001b[39m\u001b[39m\"\u001b[39m])\n\u001b[1;32m     <a href='vscode-notebook-cell://ssh-remote%2Bcombine/projects/wma/AGrEDA/autoenc_allgenes.ipynb#X21sdnNjb2RlLXJlbW90ZQ%3D%3D?line=48'>49</a>\u001b[0m loss_history_running\u001b[39m.\u001b[39mappend(running_results[\u001b[39m\"\u001b[39m\u001b[39mloss\u001b[39m\u001b[39m\"\u001b[39m])\n",
      "\u001b[1;32m/projects/wma/AGrEDA/autoenc_allgenes.ipynb Cell 16\u001b[0m in \u001b[0;36mrun_epoch\u001b[0;34m(dataloader, model, optimizer, scheduler, scaler, inner, predict)\u001b[0m\n\u001b[1;32m     <a href='vscode-notebook-cell://ssh-remote%2Bcombine/projects/wma/AGrEDA/autoenc_allgenes.ipynb#X21sdnNjb2RlLXJlbW90ZQ%3D%3D?line=21'>22</a>\u001b[0m \u001b[39mif\u001b[39;00m optimizer \u001b[39mis\u001b[39;00m \u001b[39mnot\u001b[39;00m \u001b[39mNone\u001b[39;00m:\n\u001b[1;32m     <a href='vscode-notebook-cell://ssh-remote%2Bcombine/projects/wma/AGrEDA/autoenc_allgenes.ipynb#X21sdnNjb2RlLXJlbW90ZQ%3D%3D?line=22'>23</a>\u001b[0m     optimizer\u001b[39m.\u001b[39mzero_grad()\n\u001b[0;32m---> <a href='vscode-notebook-cell://ssh-remote%2Bcombine/projects/wma/AGrEDA/autoenc_allgenes.ipynb#X21sdnNjb2RlLXJlbW90ZQ%3D%3D?line=24'>25</a>\u001b[0m x \u001b[39m=\u001b[39m x\u001b[39m.\u001b[39;49mto(torch\u001b[39m.\u001b[39;49mfloat32)\u001b[39m.\u001b[39;49mto(device)\n\u001b[1;32m     <a href='vscode-notebook-cell://ssh-remote%2Bcombine/projects/wma/AGrEDA/autoenc_allgenes.ipynb#X21sdnNjb2RlLXJlbW90ZQ%3D%3D?line=26'>27</a>\u001b[0m \u001b[39mif\u001b[39;00m scaler \u001b[39mis\u001b[39;00m \u001b[39mnot\u001b[39;00m \u001b[39mNone\u001b[39;00m:\n\u001b[1;32m     <a href='vscode-notebook-cell://ssh-remote%2Bcombine/projects/wma/AGrEDA/autoenc_allgenes.ipynb#X21sdnNjb2RlLXJlbW90ZQ%3D%3D?line=27'>28</a>\u001b[0m     \u001b[39mwith\u001b[39;00m autocast(device_type\u001b[39m=\u001b[39mdevice\u001b[39m.\u001b[39mtype, dtype\u001b[39m=\u001b[39mtorch\u001b[39m.\u001b[39mfloat16):\n",
      "\u001b[0;31mKeyboardInterrupt\u001b[0m: "
     ]
    }
   ],
   "source": [
    "# AMP Scaler\n",
    "scaler = GradScaler()\n",
    "\n",
    "# Initialize lists to store loss and accuracy values\n",
    "loss_history = []\n",
    "loss_history_val = []\n",
    "\n",
    "loss_history_running = []\n",
    "\n",
    "lr_history_running = []\n",
    "\n",
    "# Early Stopping\n",
    "best_loss_val = np.inf\n",
    "early_stop_count = 0\n",
    "\n",
    "# Train\n",
    "with DupStdout().dup_to_file(os.path.join(model_folder, \"log.txt\"), \"w\") as f_log:\n",
    "    print(\"Start train...\")\n",
    "    outer = tqdm(total=INITIAL_TRAIN_EPOCHS, desc=\"Epochs\", position=0)\n",
    "    inner = tqdm(total=len(dataloader_source_train), desc=f\"Batch\", position=1)\n",
    "\n",
    "    print(\" Epoch | Train Loss | Val Loss   | Next LR    \")\n",
    "    print(\"----------------------------------------------\")\n",
    "    checkpoint = {\n",
    "        \"epoch\": -1,\n",
    "        \"model\": model,\n",
    "        \"optimizer\": optimizer,\n",
    "        \"scheduler\": scheduler,\n",
    "        \"scaler\": scaler,\n",
    "    }\n",
    "    for epoch in range(INITIAL_TRAIN_EPOCHS):\n",
    "        checkpoint[\"epoch\"] = epoch\n",
    "\n",
    "        # Train mode\n",
    "        model.train()\n",
    "        inner.refresh()  # force print final state\n",
    "        inner.reset()  # reuse bar\n",
    "\n",
    "        avg_results, running_results = run_epoch(\n",
    "            dataloader_source_train,\n",
    "            model,\n",
    "            optimizer=optimizer,\n",
    "            scheduler=scheduler,\n",
    "            scaler=scaler,\n",
    "            inner=inner,\n",
    "        )\n",
    "\n",
    "        loss_history.append(avg_results[\"loss\"])\n",
    "        loss_history_running.append(running_results[\"loss\"])\n",
    "        lr_history_running.append(running_results[\"lr\"])\n",
    "\n",
    "        # Evaluate mode\n",
    "        model.eval()\n",
    "        with torch.no_grad():\n",
    "            avg_results_val, running_results_val = run_epoch(\n",
    "                dataloader_source_val, model\n",
    "            )\n",
    "        loss_history_val.append(avg_results_val[\"loss\"])\n",
    "\n",
    "        # Print the results\n",
    "        outer.update(1)\n",
    "\n",
    "        print(\n",
    "            f\" {epoch:5d}\",\n",
    "            f\"| {avg_results['loss']:<10.8f}\",\n",
    "            f\"| {avg_results_val['loss']:<10.8f}\",\n",
    "            f\"| {scheduler.get_last_lr()[-1]:<10.5}\",\n",
    "            end=\" \",\n",
    "        )\n",
    "\n",
    "        # Save the best weights\n",
    "        if avg_results_val[\"loss\"] < best_loss_val:\n",
    "            best_loss_val = avg_results_val[\"loss\"]\n",
    "            torch.save(checkpoint, os.path.join(model_folder, f\"best_model.pth\"))\n",
    "            early_stop_count = 0\n",
    "\n",
    "            print(\"<-- new best val loss\")\n",
    "        else:\n",
    "            print(\"\")\n",
    "\n",
    "        # Save checkpoint every 10\n",
    "        if epoch % 10 == 0 or epoch >= INITIAL_TRAIN_EPOCHS - 1:\n",
    "            torch.save(checkpoint, os.path.join(model_folder, f\"checkpt{epoch}.pth\"))\n",
    "\n",
    "        # check to see if validation loss has plateau'd\n",
    "        if early_stop_count >= EARLY_STOP_CRIT and epoch >= MIN_EPOCHS - 1:\n",
    "            print(\n",
    "                f\"Validation loss plateaued after {early_stop_count} at epoch {epoch}\"\n",
    "            )\n",
    "            torch.save(checkpoint, os.path.join(model_folder, f\"earlystop{epoch}.pth\"))\n",
    "            break\n",
    "\n",
    "        early_stop_count += 1\n",
    "\n",
    "lr_history_running[-1].append(scheduler.get_last_lr()[-1])\n",
    "\n",
    "# Save final model\n",
    "best_checkpoint = torch.load(os.path.join(model_folder, f\"best_model.pth\"))\n",
    "torch.save(best_checkpoint, os.path.join(model_folder, f\"final_model.pth\"))\n"
   ]
  },
  {
   "cell_type": "code",
   "execution_count": null,
   "metadata": {
    "execution": {
     "iopub.execute_input": "2022-12-14T01:42:29.179571Z",
     "iopub.status.busy": "2022-12-14T01:42:29.179323Z",
     "iopub.status.idle": "2022-12-14T01:42:30.359831Z",
     "shell.execute_reply": "2022-12-14T01:42:30.359405Z"
    }
   },
   "outputs": [
    {
     "data": {
      "image/png": "[encoded data removed]",
      "text/plain": [
       "<Figure size 600x400 with 2 Axes>"
      ]
     },
     "metadata": {},
     "output_type": "display_data"
    }
   ],
   "source": [
    "best_checkpoint = torch.load(os.path.join(model_folder, f\"final_model.pth\"))\n",
    "\n",
    "best_epoch = best_checkpoint[\"epoch\"]\n",
    "best_loss_val = loss_history_val[best_epoch]\n",
    "\n",
    "fig, axs = plt.subplots(2, 1, sharex=True, figsize=(6, 4), layout=\"constrained\")\n",
    "\n",
    "plot_iters(loss_history_running, ax=axs[0], label=\"Training\")\n",
    "axs[0].plot(loss_history_val, label=\"Validation\")\n",
    "axs[0].axvline(best_epoch, color=\"tab:green\")\n",
    "\n",
    "axs[0].set_ylim(bottom=0)\n",
    "axs[0].grid(which=\"major\")\n",
    "axs[0].minorticks_on()\n",
    "axs[0].grid(which=\"minor\", alpha=0.2)\n",
    "\n",
    "axs[0].text(\n",
    "    x=best_epoch + (2 if best_epoch < len(loss_history) * 0.75 else -2),\n",
    "    y=max(loss_history + loss_history_val) * 0.5,\n",
    "    s=f\"Best val. loss:\\n{best_loss_val:.4f} at epoch {best_epoch}\",\n",
    "    ha=\"left\" if best_epoch < len(loss_history) * 0.75 else \"right\",\n",
    "    size=\"x-small\",\n",
    ")\n",
    "\n",
    "axs[0].set_title(\"MSE Loss\")\n",
    "axs[0].legend()\n",
    "\n",
    "# lr history\n",
    "iters_by_epoch, lr_history_running_flat = plot_iters(\n",
    "    lr_history_running, startpoint=True, ax=axs[1]\n",
    ")\n",
    "axs[1].axvline(best_checkpoint[\"epoch\"], ymax=2, clip_on=False, color=\"tab:green\")\n",
    "\n",
    "axs[1].set_ylim(bottom=0)\n",
    "axs[1].grid(which=\"major\")\n",
    "axs[1].minorticks_on()\n",
    "axs[1].grid(which=\"minor\", alpha=0.2)\n",
    "\n",
    "best_epoch_idx = np.where(iters_by_epoch == best_epoch)[0][0]\n",
    "axs[1].text(\n",
    "    x=best_epoch + (2 if best_epoch < len(loss_history) * 0.75 else -2),\n",
    "    y=np.median(lr_history_running_flat),\n",
    "    s=f\"LR:\\n{lr_history_running_flat[best_epoch_idx]:.4} at epoch {best_epoch}\",\n",
    "    ha=\"left\" if best_epoch < len(loss_history) * 0.75 else \"right\",\n",
    "    size=\"x-small\",\n",
    ")\n",
    "\n",
    "axs[1].set_xlabel(\"Epoch\")\n",
    "axs[1].set_title(\"Learning Rate\")\n",
    "\n",
    "plt.savefig(os.path.join(model_folder, \"train_plots.png\"), bbox_inches=\"tight\")\n",
    "\n",
    "plt.show(block=False)\n"
   ]
  },
  {
   "cell_type": "code",
   "execution_count": null,
   "metadata": {
    "execution": {
     "iopub.execute_input": "2022-12-14T01:42:30.362752Z",
     "iopub.status.busy": "2022-12-14T01:42:30.362558Z",
     "iopub.status.idle": "2022-12-14T01:42:33.246731Z",
     "shell.execute_reply": "2022-12-14T01:42:33.245409Z"
    }
   },
   "outputs": [],
   "source": [
    "model = best_checkpoint[\"model\"]\n",
    "model.to(device)\n",
    "model.eval()\n",
    "with torch.no_grad():\n",
    "    avg_results_train, running_results_train = run_epoch(dataloader_source_train, model)\n",
    "    avg_results_val, running_results_val = run_epoch(dataloader_source_val, model)\n",
    "    avg_results_test, running_results_test = run_epoch(dataloader_source_test, model)\n"
   ]
  },
  {
   "cell_type": "code",
   "execution_count": null,
   "metadata": {
    "execution": {
     "iopub.execute_input": "2022-12-14T01:42:33.252177Z",
     "iopub.status.busy": "2022-12-14T01:42:33.252039Z",
     "iopub.status.idle": "2022-12-14T01:42:33.478500Z",
     "shell.execute_reply": "2022-12-14T01:42:33.477321Z"
    }
   },
   "outputs": [
    {
     "name": "stdout",
     "output_type": "stream",
     "text": [
      "train  0    0.891138\n",
      "val    0    1.223378\n",
      "test   0    1.200929\n",
      "Name: loss, dtype: float64\n"
     ]
    }
   ],
   "source": [
    "import pandas as pd\n",
    "\n",
    "print(\n",
    "    pd.concat(\n",
    "        [\n",
    "            pd.Series(avg_results_train).to_frame().T,\n",
    "            pd.Series(avg_results_val).to_frame().T,\n",
    "            pd.Series(avg_results_test).to_frame().T,\n",
    "        ],\n",
    "        keys=[\"train\", \"val\", \"test\"],\n",
    "    ).loss\n",
    ")\n"
   ]
  },
  {
   "cell_type": "code",
   "execution_count": null,
   "metadata": {
    "execution": {
     "iopub.execute_input": "2022-12-14T01:42:33.481969Z",
     "iopub.status.busy": "2022-12-14T01:42:33.481851Z",
     "iopub.status.idle": "2022-12-14T01:42:35.266480Z",
     "shell.execute_reply": "2022-12-14T01:42:35.265086Z"
    }
   },
   "outputs": [
    {
     "ename": "",
     "evalue": "",
     "output_type": "error",
     "traceback": [
      "\u001b[1;31mThe Kernel crashed while executing code in the the current cell or a previous cell. Please review the code in the cell(s) to identify a possible cause of the failure. Click <a href='https://aka.ms/vscodeJupyterKernelCrash'>here</a> for more info. View Jupyter <a href='command:jupyter.viewOutput'>log</a> for further details."
     ]
    },
    {
     "ename": "",
     "evalue": "",
     "output_type": "error",
     "traceback": [
      "\u001b[1;31mFailed to interrupt the Kernel. \n",
      "\u001b[1;31mCannot execute code, session has been disposed. \n",
      "\u001b[1;31mView Jupyter <a href='command:jupyter.viewOutput'>log</a> for further details."
     ]
    }
   ],
   "source": [
    "(pd.DataFrame(sc_mix_d[\"train\"]).std() ** 2).mean()\n"
   ]
  },
  {
   "cell_type": "code",
   "execution_count": null,
   "metadata": {},
   "outputs": [],
   "source": []
  }
 ],
 "metadata": {
  "kernelspec": {
   "display_name": "Python 3.10.4 ('agreda')",
   "language": "python",
   "name": "python3"
  },
  "language_info": {
   "codemirror_mode": {
    "name": "ipython",
    "version": 3
   },
   "file_extension": ".py",
   "mimetype": "text/x-python",
   "name": "python",
   "nbconvert_exporter": "python",
   "pygments_lexer": "ipython3",
   "version": "3.10.4"
  },
  "vscode": {
   "interpreter": {
    "hash": "c8a91b640e5c43bacdcbf87782ad770b561ed71a46153862bbc20bda0bebf44f"
   }
  },
  "widgets": {
   "application/vnd.jupyter.widget-state+json": {
    "state": {
     "0b63684f280a4c5ba9f3161da5a7c235": {
      "model_module": "@jupyter-widgets/controls",
      "model_module_version": "1.5.0",
      "model_name": "DescriptionStyleModel",
      "state": {
       "_model_module": "@jupyter-widgets/controls",
       "_model_module_version": "1.5.0",
       "_model_name": "DescriptionStyleModel",
       "_view_count": null,
       "_view_module": "@jupyter-widgets/base",
       "_view_module_version": "1.2.0",
       "_view_name": "StyleView",
       "description_width": ""
      }
     },
     "0d71d07c69ee45eeaecc94a0d32ea937": {
      "model_module": "@jupyter-widgets/base",
      "model_module_version": "1.2.0",
      "model_name": "LayoutModel",
      "state": {
       "_model_module": "@jupyter-widgets/base",
       "_model_module_version": "1.2.0",
       "_model_name": "LayoutModel",
       "_view_count": null,
       "_view_module": "@jupyter-widgets/base",
       "_view_module_version": "1.2.0",
       "_view_name": "LayoutView",
       "align_content": null,
       "align_items": null,
       "align_self": null,
       "border": null,
       "bottom": null,
       "display": null,
       "flex": null,
       "flex_flow": null,
       "grid_area": null,
       "grid_auto_columns": null,
       "grid_auto_flow": null,
       "grid_auto_rows": null,
       "grid_column": null,
       "grid_gap": null,
       "grid_row": null,
       "grid_template_areas": null,
       "grid_template_columns": null,
       "grid_template_rows": null,
       "height": null,
       "justify_content": null,
       "justify_items": null,
       "left": null,
       "margin": null,
       "max_height": null,
       "max_width": null,
       "min_height": null,
       "min_width": null,
       "object_fit": null,
       "object_position": null,
       "order": null,
       "overflow": null,
       "overflow_x": null,
       "overflow_y": null,
       "padding": null,
       "right": null,
       "top": null,
       "visibility": null,
       "width": null
      }
     },
     "0dc5e86a03ff402c81158bb98c2ab938": {
      "model_module": "@jupyter-widgets/controls",
      "model_module_version": "1.5.0",
      "model_name": "FloatProgressModel",
      "state": {
       "_dom_classes": [],
       "_model_module": "@jupyter-widgets/controls",
       "_model_module_version": "1.5.0",
       "_model_name": "FloatProgressModel",
       "_view_count": null,
       "_view_module": "@jupyter-widgets/controls",
       "_view_module_version": "1.5.0",
       "_view_name": "ProgressView",
       "bar_style": "",
       "description": "",
       "description_tooltip": null,
       "layout": "IPY_MODEL_1e6c57ca761d478eaf63fc00dc3e8798",
       "max": 200,
       "min": 0,
       "orientation": "horizontal",
       "style": "IPY_MODEL_fe77c83725d54f5ba7bb6acbce9c735b",
       "value": 200
      }
     },
     "1579bd82b7964e1e853104d9de4455a2": {
      "model_module": "@jupyter-widgets/controls",
      "model_module_version": "1.5.0",
      "model_name": "HTMLModel",
      "state": {
       "_dom_classes": [],
       "_model_module": "@jupyter-widgets/controls",
       "_model_module_version": "1.5.0",
       "_model_name": "HTMLModel",
       "_view_count": null,
       "_view_module": "@jupyter-widgets/controls",
       "_view_module_version": "1.5.0",
       "_view_name": "HTMLView",
       "description": "",
       "description_tooltip": null,
       "layout": "IPY_MODEL_1608655e82a648108f74c031649e6f17",
       "placeholder": "​",
       "style": "IPY_MODEL_d9dfefee08524b178c06c98c818a6eb9",
       "value": " 200/200 [09:46&lt;00:00,  2.59s/it]"
      }
     },
     "1608655e82a648108f74c031649e6f17": {
      "model_module": "@jupyter-widgets/base",
      "model_module_version": "1.2.0",
      "model_name": "LayoutModel",
      "state": {
       "_model_module": "@jupyter-widgets/base",
       "_model_module_version": "1.2.0",
       "_model_name": "LayoutModel",
       "_view_count": null,
       "_view_module": "@jupyter-widgets/base",
       "_view_module_version": "1.2.0",
       "_view_name": "LayoutView",
       "align_content": null,
       "align_items": null,
       "align_self": null,
       "border": null,
       "bottom": null,
       "display": null,
       "flex": null,
       "flex_flow": null,
       "grid_area": null,
       "grid_auto_columns": null,
       "grid_auto_flow": null,
       "grid_auto_rows": null,
       "grid_column": null,
       "grid_gap": null,
       "grid_row": null,
       "grid_template_areas": null,
       "grid_template_columns": null,
       "grid_template_rows": null,
       "height": null,
       "justify_content": null,
       "justify_items": null,
       "left": null,
       "margin": null,
       "max_height": null,
       "max_width": null,
       "min_height": null,
       "min_width": null,
       "object_fit": null,
       "object_position": null,
       "order": null,
       "overflow": null,
       "overflow_x": null,
       "overflow_y": null,
       "padding": null,
       "right": null,
       "top": null,
       "visibility": null,
       "width": null
      }
     },
     "1e6c57ca761d478eaf63fc00dc3e8798": {
      "model_module": "@jupyter-widgets/base",
      "model_module_version": "1.2.0",
      "model_name": "LayoutModel",
      "state": {
       "_model_module": "@jupyter-widgets/base",
       "_model_module_version": "1.2.0",
       "_model_name": "LayoutModel",
       "_view_count": null,
       "_view_module": "@jupyter-widgets/base",
       "_view_module_version": "1.2.0",
       "_view_name": "LayoutView",
       "align_content": null,
       "align_items": null,
       "align_self": null,
       "border": null,
       "bottom": null,
       "display": null,
       "flex": null,
       "flex_flow": null,
       "grid_area": null,
       "grid_auto_columns": null,
       "grid_auto_flow": null,
       "grid_auto_rows": null,
       "grid_column": null,
       "grid_gap": null,
       "grid_row": null,
       "grid_template_areas": null,
       "grid_template_columns": null,
       "grid_template_rows": null,
       "height": null,
       "justify_content": null,
       "justify_items": null,
       "left": null,
       "margin": null,
       "max_height": null,
       "max_width": null,
       "min_height": null,
       "min_width": null,
       "object_fit": null,
       "object_position": null,
       "order": null,
       "overflow": null,
       "overflow_x": null,
       "overflow_y": null,
       "padding": null,
       "right": null,
       "top": null,
       "visibility": null,
       "width": null
      }
     },
     "2c85855b5844445599a44c3d8429478f": {
      "model_module": "@jupyter-widgets/base",
      "model_module_version": "1.2.0",
      "model_name": "LayoutModel",
      "state": {
       "_model_module": "@jupyter-widgets/base",
       "_model_module_version": "1.2.0",
       "_model_name": "LayoutModel",
       "_view_count": null,
       "_view_module": "@jupyter-widgets/base",
       "_view_module_version": "1.2.0",
       "_view_name": "LayoutView",
       "align_content": null,
       "align_items": null,
       "align_self": null,
       "border": null,
       "bottom": null,
       "display": null,
       "flex": null,
       "flex_flow": null,
       "grid_area": null,
       "grid_auto_columns": null,
       "grid_auto_flow": null,
       "grid_auto_rows": null,
       "grid_column": null,
       "grid_gap": null,
       "grid_row": null,
       "grid_template_areas": null,
       "grid_template_columns": null,
       "grid_template_rows": null,
       "height": null,
       "justify_content": null,
       "justify_items": null,
       "left": null,
       "margin": null,
       "max_height": null,
       "max_width": null,
       "min_height": null,
       "min_width": null,
       "object_fit": null,
       "object_position": null,
       "order": null,
       "overflow": null,
       "overflow_x": null,
       "overflow_y": null,
       "padding": null,
       "right": null,
       "top": null,
       "visibility": null,
       "width": null
      }
     },
     "313fe7c17e9341419ca01754c1bf3233": {
      "model_module": "@jupyter-widgets/base",
      "model_module_version": "1.2.0",
      "model_name": "LayoutModel",
      "state": {
       "_model_module": "@jupyter-widgets/base",
       "_model_module_version": "1.2.0",
       "_model_name": "LayoutModel",
       "_view_count": null,
       "_view_module": "@jupyter-widgets/base",
       "_view_module_version": "1.2.0",
       "_view_name": "LayoutView",
       "align_content": null,
       "align_items": null,
       "align_self": null,
       "border": null,
       "bottom": null,
       "display": null,
       "flex": null,
       "flex_flow": null,
       "grid_area": null,
       "grid_auto_columns": null,
       "grid_auto_flow": null,
       "grid_auto_rows": null,
       "grid_column": null,
       "grid_gap": null,
       "grid_row": null,
       "grid_template_areas": null,
       "grid_template_columns": null,
       "grid_template_rows": null,
       "height": null,
       "justify_content": null,
       "justify_items": null,
       "left": null,
       "margin": null,
       "max_height": null,
       "max_width": null,
       "min_height": null,
       "min_width": null,
       "object_fit": null,
       "object_position": null,
       "order": null,
       "overflow": null,
       "overflow_x": null,
       "overflow_y": null,
       "padding": null,
       "right": null,
       "top": null,
       "visibility": null,
       "width": null
      }
     },
     "49e072812d5f4787922f5154dca2afe3": {
      "model_module": "@jupyter-widgets/controls",
      "model_module_version": "1.5.0",
      "model_name": "ProgressStyleModel",
      "state": {
       "_model_module": "@jupyter-widgets/controls",
       "_model_module_version": "1.5.0",
       "_model_name": "ProgressStyleModel",
       "_view_count": null,
       "_view_module": "@jupyter-widgets/base",
       "_view_module_version": "1.2.0",
       "_view_name": "StyleView",
       "bar_color": null,
       "description_width": ""
      }
     },
     "6a088ed405fc47fab3644deb4992882f": {
      "model_module": "@jupyter-widgets/controls",
      "model_module_version": "1.5.0",
      "model_name": "HTMLModel",
      "state": {
       "_dom_classes": [],
       "_model_module": "@jupyter-widgets/controls",
       "_model_module_version": "1.5.0",
       "_model_name": "HTMLModel",
       "_view_count": null,
       "_view_module": "@jupyter-widgets/controls",
       "_view_module_version": "1.5.0",
       "_view_name": "HTMLView",
       "description": "",
       "description_tooltip": null,
       "layout": "IPY_MODEL_0d71d07c69ee45eeaecc94a0d32ea937",
       "placeholder": "​",
       "style": "IPY_MODEL_0b63684f280a4c5ba9f3161da5a7c235",
       "value": "Batch: 100%"
      }
     },
     "83432717a1b946ada863495598b7614e": {
      "model_module": "@jupyter-widgets/base",
      "model_module_version": "1.2.0",
      "model_name": "LayoutModel",
      "state": {
       "_model_module": "@jupyter-widgets/base",
       "_model_module_version": "1.2.0",
       "_model_name": "LayoutModel",
       "_view_count": null,
       "_view_module": "@jupyter-widgets/base",
       "_view_module_version": "1.2.0",
       "_view_name": "LayoutView",
       "align_content": null,
       "align_items": null,
       "align_self": null,
       "border": null,
       "bottom": null,
       "display": null,
       "flex": null,
       "flex_flow": null,
       "grid_area": null,
       "grid_auto_columns": null,
       "grid_auto_flow": null,
       "grid_auto_rows": null,
       "grid_column": null,
       "grid_gap": null,
       "grid_row": null,
       "grid_template_areas": null,
       "grid_template_columns": null,
       "grid_template_rows": null,
       "height": null,
       "justify_content": null,
       "justify_items": null,
       "left": null,
       "margin": null,
       "max_height": null,
       "max_width": null,
       "min_height": null,
       "min_width": null,
       "object_fit": null,
       "object_position": null,
       "order": null,
       "overflow": null,
       "overflow_x": null,
       "overflow_y": null,
       "padding": null,
       "right": null,
       "top": null,
       "visibility": null,
       "width": null
      }
     },
     "89cf92927abe41459a1841623b71aed6": {
      "model_module": "@jupyter-widgets/controls",
      "model_module_version": "1.5.0",
      "model_name": "HTMLModel",
      "state": {
       "_dom_classes": [],
       "_model_module": "@jupyter-widgets/controls",
       "_model_module_version": "1.5.0",
       "_model_name": "HTMLModel",
       "_view_count": null,
       "_view_module": "@jupyter-widgets/controls",
       "_view_module_version": "1.5.0",
       "_view_name": "HTMLView",
       "description": "",
       "description_tooltip": null,
       "layout": "IPY_MODEL_c8cef6044d9e438a97d071343f9c4f31",
       "placeholder": "​",
       "style": "IPY_MODEL_9c68773c5a5c40128f5f87d46702b6d4",
       "value": " 40/40 [00:01&lt;00:00, 40.73it/s]"
      }
     },
     "9c68773c5a5c40128f5f87d46702b6d4": {
      "model_module": "@jupyter-widgets/controls",
      "model_module_version": "1.5.0",
      "model_name": "DescriptionStyleModel",
      "state": {
       "_model_module": "@jupyter-widgets/controls",
       "_model_module_version": "1.5.0",
       "_model_name": "DescriptionStyleModel",
       "_view_count": null,
       "_view_module": "@jupyter-widgets/base",
       "_view_module_version": "1.2.0",
       "_view_name": "StyleView",
       "description_width": ""
      }
     },
     "a0d62922fa8a4475b4db4e0b81349d81": {
      "model_module": "@jupyter-widgets/controls",
      "model_module_version": "1.5.0",
      "model_name": "HTMLModel",
      "state": {
       "_dom_classes": [],
       "_model_module": "@jupyter-widgets/controls",
       "_model_module_version": "1.5.0",
       "_model_name": "HTMLModel",
       "_view_count": null,
       "_view_module": "@jupyter-widgets/controls",
       "_view_module_version": "1.5.0",
       "_view_name": "HTMLView",
       "description": "",
       "description_tooltip": null,
       "layout": "IPY_MODEL_313fe7c17e9341419ca01754c1bf3233",
       "placeholder": "​",
       "style": "IPY_MODEL_a7491c75bc9c4e00a2e045b89755e971",
       "value": "Epochs: 100%"
      }
     },
     "a7491c75bc9c4e00a2e045b89755e971": {
      "model_module": "@jupyter-widgets/controls",
      "model_module_version": "1.5.0",
      "model_name": "DescriptionStyleModel",
      "state": {
       "_model_module": "@jupyter-widgets/controls",
       "_model_module_version": "1.5.0",
       "_model_name": "DescriptionStyleModel",
       "_view_count": null,
       "_view_module": "@jupyter-widgets/base",
       "_view_module_version": "1.2.0",
       "_view_name": "StyleView",
       "description_width": ""
      }
     },
     "bad1699122464c90bc2d8d1d152721de": {
      "model_module": "@jupyter-widgets/controls",
      "model_module_version": "1.5.0",
      "model_name": "HBoxModel",
      "state": {
       "_dom_classes": [],
       "_model_module": "@jupyter-widgets/controls",
       "_model_module_version": "1.5.0",
       "_model_name": "HBoxModel",
       "_view_count": null,
       "_view_module": "@jupyter-widgets/controls",
       "_view_module_version": "1.5.0",
       "_view_name": "HBoxView",
       "box_style": "",
       "children": [
        "IPY_MODEL_a0d62922fa8a4475b4db4e0b81349d81",
        "IPY_MODEL_0dc5e86a03ff402c81158bb98c2ab938",
        "IPY_MODEL_1579bd82b7964e1e853104d9de4455a2"
       ],
       "layout": "IPY_MODEL_83432717a1b946ada863495598b7614e"
      }
     },
     "c8cef6044d9e438a97d071343f9c4f31": {
      "model_module": "@jupyter-widgets/base",
      "model_module_version": "1.2.0",
      "model_name": "LayoutModel",
      "state": {
       "_model_module": "@jupyter-widgets/base",
       "_model_module_version": "1.2.0",
       "_model_name": "LayoutModel",
       "_view_count": null,
       "_view_module": "@jupyter-widgets/base",
       "_view_module_version": "1.2.0",
       "_view_name": "LayoutView",
       "align_content": null,
       "align_items": null,
       "align_self": null,
       "border": null,
       "bottom": null,
       "display": null,
       "flex": null,
       "flex_flow": null,
       "grid_area": null,
       "grid_auto_columns": null,
       "grid_auto_flow": null,
       "grid_auto_rows": null,
       "grid_column": null,
       "grid_gap": null,
       "grid_row": null,
       "grid_template_areas": null,
       "grid_template_columns": null,
       "grid_template_rows": null,
       "height": null,
       "justify_content": null,
       "justify_items": null,
       "left": null,
       "margin": null,
       "max_height": null,
       "max_width": null,
       "min_height": null,
       "min_width": null,
       "object_fit": null,
       "object_position": null,
       "order": null,
       "overflow": null,
       "overflow_x": null,
       "overflow_y": null,
       "padding": null,
       "right": null,
       "top": null,
       "visibility": null,
       "width": null
      }
     },
     "cb30e181b0694ca48cf50331d6f562c0": {
      "model_module": "@jupyter-widgets/controls",
      "model_module_version": "1.5.0",
      "model_name": "HBoxModel",
      "state": {
       "_dom_classes": [],
       "_model_module": "@jupyter-widgets/controls",
       "_model_module_version": "1.5.0",
       "_model_name": "HBoxModel",
       "_view_count": null,
       "_view_module": "@jupyter-widgets/controls",
       "_view_module_version": "1.5.0",
       "_view_name": "HBoxView",
       "box_style": "",
       "children": [
        "IPY_MODEL_6a088ed405fc47fab3644deb4992882f",
        "IPY_MODEL_cb79696d8fcc4393be5f773ec30e855f",
        "IPY_MODEL_89cf92927abe41459a1841623b71aed6"
       ],
       "layout": "IPY_MODEL_2c85855b5844445599a44c3d8429478f"
      }
     },
     "cb79696d8fcc4393be5f773ec30e855f": {
      "model_module": "@jupyter-widgets/controls",
      "model_module_version": "1.5.0",
      "model_name": "FloatProgressModel",
      "state": {
       "_dom_classes": [],
       "_model_module": "@jupyter-widgets/controls",
       "_model_module_version": "1.5.0",
       "_model_name": "FloatProgressModel",
       "_view_count": null,
       "_view_module": "@jupyter-widgets/controls",
       "_view_module_version": "1.5.0",
       "_view_name": "ProgressView",
       "bar_style": "",
       "description": "",
       "description_tooltip": null,
       "layout": "IPY_MODEL_f3542fe2cef34604b82a538d3464cde0",
       "max": 40,
       "min": 0,
       "orientation": "horizontal",
       "style": "IPY_MODEL_49e072812d5f4787922f5154dca2afe3",
       "value": 40
      }
     },
     "d9dfefee08524b178c06c98c818a6eb9": {
      "model_module": "@jupyter-widgets/controls",
      "model_module_version": "1.5.0",
      "model_name": "DescriptionStyleModel",
      "state": {
       "_model_module": "@jupyter-widgets/controls",
       "_model_module_version": "1.5.0",
       "_model_name": "DescriptionStyleModel",
       "_view_count": null,
       "_view_module": "@jupyter-widgets/base",
       "_view_module_version": "1.2.0",
       "_view_name": "StyleView",
       "description_width": ""
      }
     },
     "f3542fe2cef34604b82a538d3464cde0": {
      "model_module": "@jupyter-widgets/base",
      "model_module_version": "1.2.0",
      "model_name": "LayoutModel",
      "state": {
       "_model_module": "@jupyter-widgets/base",
       "_model_module_version": "1.2.0",
       "_model_name": "LayoutModel",
       "_view_count": null,
       "_view_module": "@jupyter-widgets/base",
       "_view_module_version": "1.2.0",
       "_view_name": "LayoutView",
       "align_content": null,
       "align_items": null,
       "align_self": null,
       "border": null,
       "bottom": null,
       "display": null,
       "flex": null,
       "flex_flow": null,
       "grid_area": null,
       "grid_auto_columns": null,
       "grid_auto_flow": null,
       "grid_auto_rows": null,
       "grid_column": null,
       "grid_gap": null,
       "grid_row": null,
       "grid_template_areas": null,
       "grid_template_columns": null,
       "grid_template_rows": null,
       "height": null,
       "justify_content": null,
       "justify_items": null,
       "left": null,
       "margin": null,
       "max_height": null,
       "max_width": null,
       "min_height": null,
       "min_width": null,
       "object_fit": null,
       "object_position": null,
       "order": null,
       "overflow": null,
       "overflow_x": null,
       "overflow_y": null,
       "padding": null,
       "right": null,
       "top": null,
       "visibility": null,
       "width": null
      }
     },
     "fe77c83725d54f5ba7bb6acbce9c735b": {
      "model_module": "@jupyter-widgets/controls",
      "model_module_version": "1.5.0",
      "model_name": "ProgressStyleModel",
      "state": {
       "_model_module": "@jupyter-widgets/controls",
       "_model_module_version": "1.5.0",
       "_model_name": "ProgressStyleModel",
       "_view_count": null,
       "_view_module": "@jupyter-widgets/base",
       "_view_module_version": "1.2.0",
       "_view_name": "StyleView",
       "bar_color": null,
       "description_width": ""
      }
     }
    },
    "version_major": 2,
    "version_minor": 0
   }
  }
 },
 "nbformat": 4,
 "nbformat_minor": 2
}
