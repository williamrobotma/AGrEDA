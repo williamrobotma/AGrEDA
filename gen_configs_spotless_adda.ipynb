{
    "cells": [
        {
            "cell_type": "code",
            "execution_count": 19,
            "metadata": {
                "execution": {
                    "iopub.execute_input": "2023-07-09T14:30:05.178947Z",
                    "iopub.status.busy": "2023-07-09T14:30:05.178637Z",
                    "iopub.status.idle": "2023-07-09T14:30:14.113380Z",
                    "shell.execute_reply": "2023-07-09T14:30:14.112392Z"
                }
            },
            "outputs": [],
            "source": [
                "import glob\n",
                "import itertools\n",
                "import os\n",
                "import yaml\n",
                "from copy import deepcopy\n",
                "\n",
                "import numpy as np\n"
            ]
        },
        {
            "cell_type": "code",
            "execution_count": 20,
            "metadata": {
                "execution": {
                    "iopub.execute_input": "2023-07-09T14:30:14.118559Z",
                    "iopub.status.busy": "2023-07-09T14:30:14.118125Z",
                    "iopub.status.idle": "2023-07-09T14:30:14.123921Z",
                    "shell.execute_reply": "2023-07-09T14:30:14.123272Z"
                }
            },
            "outputs": [],
            "source": [
                "# CONFIG_FNAME = \"standard_bnfix_adam_beta1_5_spotless_sc.yml\"\n",
                "MODEL_NAME = \"ADDA\"\n",
                "CONFIG_DIR = \"configs/generated_spotless\"\n",
                "CONFIG_FNAME_PREFIX = \"gen_spotless_oracle\""
            ]
        },
        {
            "cell_type": "code",
            "execution_count": 21,
            "metadata": {
                "execution": {
                    "iopub.execute_input": "2023-07-09T14:30:14.127582Z",
                    "iopub.status.busy": "2023-07-09T14:30:14.127328Z",
                    "iopub.status.idle": "2023-07-09T14:30:14.495673Z",
                    "shell.execute_reply": "2023-07-09T14:30:14.494996Z"
                }
            },
            "outputs": [],
            "source": [
                "config = {\n",
                "    \"lib_params\": {},\n",
                "    \"data_params\": {},\n",
                "    \"train_params\": {},\n",
                "    \"model_params\": {},\n",
                "}\n",
                "\n",
                "config[\"data_params\"][\"all_genes\"] = False\n",
                "config[\"data_params\"][\"data_dir\"] = \"data\"\n",
                "config[\"data_params\"][\"dset\"] = \"mouse_cortex\"\n",
                "config[\"data_params\"][\"n_spots\"] = 100000\n",
                "config[\"data_params\"][\"samp_split\"] = True\n",
                "config[\"data_params\"][\"sc_id\"] = \"GSE115746\"\n",
                "config[\"data_params\"][\"scaler_name\"] = \"standard\"\n",
                "config[\"data_params\"][\"st_id\"] = \"spotless_mouse_cortex\"\n",
                "config[\"data_params\"][\"st_split\"] = False\n",
                "\n",
                "config[\"model_params\"][\"adda_kwargs\"] = {}\n",
                "config[\"model_params\"][\"adda_kwargs\"][\"bn_momentum\"] = 0.1 #setting high bc of large batch size\n",
                "\n",
                "config[\"train_params\"][\"epochs\"] = 20\n",
                "config[\"train_params\"][\"batch_size\"] = 8\n",
                "config[\"train_params\"][\"initial_train_epochs\"] = 200\n",
                "config[\"train_params\"][\"adam_beta1\"] = 0.5\n",
                "config[\"train_params\"][\"reverse_val\"] = False\n",
                "config[\"train_params\"][\"pretraining\"] = True\n",
                "\n",
                "if not os.path.exists(os.path.join(CONFIG_DIR, MODEL_NAME)):\n",
                "    os.makedirs(os.path.join(CONFIG_DIR, MODEL_NAME))\n",
                "\n",
                "with open(os.path.join(CONFIG_DIR, MODEL_NAME, f\"{CONFIG_FNAME_PREFIX}.yml\"), \"w\") as f:\n",
                "    yaml.safe_dump(config, f)"
            ]
        },
        {
            "cell_type": "code",
            "execution_count": 22,
            "metadata": {
                "execution": {
                    "iopub.execute_input": "2023-07-09T14:30:14.500244Z",
                    "iopub.status.busy": "2023-07-09T14:30:14.499958Z",
                    "iopub.status.idle": "2023-07-09T14:30:14.506491Z",
                    "shell.execute_reply": "2023-07-09T14:30:14.505848Z"
                }
            },
            "outputs": [],
            "source": [
                "## ADDA\n",
                "\n",
                "# data_params\n",
                "data_params_lists = dict(\n",
                "    n_markers=[20, 40, 80],\n",
                "    n_mix=[5, 8, 10, 15],\n",
                ")\n",
                "\n",
                "# model_params\n",
                "model_params_lists = dict(\n",
                "    emb_dim=[32, 64],\n",
                ")\n",
                "# train_params\n",
                "train_params_lists = dict(\n",
                "    alpha=[1, 2, 5],\n",
                "    dis_loop_factor=[2, 5, 10],\n",
                "    enc_lr=[0.000002, 0.00002, 0.0002],\n",
                "    initial_train_lr=[0.0001, 0.0002, 0.001],\n",
                ")"
            ]
        },
        {
            "cell_type": "code",
            "execution_count": 23,
            "metadata": {
                "execution": {
                    "iopub.execute_input": "2023-07-09T14:30:14.510356Z",
                    "iopub.status.busy": "2023-07-09T14:30:14.510095Z",
                    "iopub.status.idle": "2023-07-09T14:30:14.524844Z",
                    "shell.execute_reply": "2023-07-09T14:30:14.524081Z"
                }
            },
            "outputs": [
                {
                    "data": {
                        "text/plain": [
                            "1944"
                        ]
                    },
                    "execution_count": 23,
                    "metadata": {},
                    "output_type": "execute_result"
                }
            ],
            "source": [
                "total_configs = 1\n",
                "for value in data_params_lists.values():\n",
                "    total_configs *= len(value)\n",
                "for value in model_params_lists.values():\n",
                "    total_configs *= len(value)\n",
                "for value in train_params_lists.values():\n",
                "    total_configs *= len(value)\n",
                "total_configs"
            ]
        },
        {
            "cell_type": "code",
            "execution_count": 24,
            "metadata": {
                "execution": {
                    "iopub.execute_input": "2023-07-09T14:30:14.692924Z",
                    "iopub.status.busy": "2023-07-09T14:30:14.692609Z",
                    "iopub.status.idle": "2023-07-09T14:30:14.700270Z",
                    "shell.execute_reply": "2023-07-09T14:30:14.699592Z"
                }
            },
            "outputs": [
                {
                    "data": {
                        "text/plain": [
                            "{'lib_params': {},\n",
                            " 'data_params': {'all_genes': False,\n",
                            "  'data_dir': 'data',\n",
                            "  'dset': 'mouse_cortex',\n",
                            "  'n_spots': 100000,\n",
                            "  'samp_split': True,\n",
                            "  'sc_id': 'GSE115746',\n",
                            "  'scaler_name': 'standard',\n",
                            "  'st_id': 'spotless_mouse_cortex',\n",
                            "  'st_split': False},\n",
                            " 'train_params': {'epochs': 20,\n",
                            "  'batch_size': 8,\n",
                            "  'initial_train_epochs': 200,\n",
                            "  'adam_beta1': 0.5,\n",
                            "  'reverse_val': False,\n",
                            "  'pretraining': True},\n",
                            " 'model_params': {'adda_kwargs': {'bn_momentum': 0.1}}}"
                        ]
                    },
                    "execution_count": 24,
                    "metadata": {},
                    "output_type": "execute_result"
                }
            ],
            "source": [
                "config"
            ]
        },
        {
            "cell_type": "code",
            "execution_count": 25,
            "metadata": {
                "execution": {
                    "iopub.execute_input": "2023-07-09T14:30:14.703914Z",
                    "iopub.status.busy": "2023-07-09T14:30:14.703660Z",
                    "iopub.status.idle": "2023-07-09T14:31:08.822407Z",
                    "shell.execute_reply": "2023-07-09T14:31:08.821274Z"
                }
            },
            "outputs": [],
            "source": [
                "rng = np.random.default_rng(274)\n",
                "\n",
                "yes_samples = set(rng.choice(total_configs, size=1000, replace=False))\n",
                "\n",
                "\n",
                "data_params_l = []\n",
                "for kv_tuples in itertools.product(\n",
                "    *[[(k, v) for v in vlist] for k, vlist in data_params_lists.items()]\n",
                "):\n",
                "    data_params_l.append(dict(kv_tuples))\n",
                "\n",
                "model_params_l = []\n",
                "for kv_tuples in itertools.product(\n",
                "    *[[(k, v) for v in vlist] for k, vlist in model_params_lists.items()]\n",
                "):\n",
                "    model_params_l.append(dict(kv_tuples))\n",
                "\n",
                "train_params_l = []\n",
                "for kv_tuples in itertools.product(\n",
                "    *[[(k, v) for v in vlist] for k, vlist in train_params_lists.items()]\n",
                "):\n",
                "    train_params_l.append(dict(kv_tuples))\n",
                "\n",
                "for i, (data_params, model_params, train_params) in enumerate(\n",
                "    itertools.product(data_params_l, model_params_l, train_params_l)\n",
                "):\n",
                "    if i not in yes_samples:\n",
                "        continue\n",
                "\n",
                "    new_config = deepcopy(config)\n",
                "    \n",
                "    new_config[\"data_params\"].update(data_params)\n",
                "    new_config[\"model_params\"][\"adda_kwargs\"].update(model_params)\n",
                "    new_config[\"train_params\"].update(train_params)\n",
                "\n",
                "    new_config[\"lib_params\"][\"manual_seed\"] = int(rng.integers(0, 2**32))\n",
                "\n",
                "    version = f\"{CONFIG_FNAME_PREFIX}-{i}\"\n",
                "    new_config[\"model_params\"][\"model_version\"] = version\n",
                "\n",
                "    with open(os.path.join(CONFIG_DIR, MODEL_NAME, f\"{version}.yml\"), \"w\") as f:\n",
                "        yaml.safe_dump(new_config, f)"
            ]
        },
        {
            "cell_type": "code",
            "execution_count": 26,
            "metadata": {
                "execution": {
                    "iopub.execute_input": "2023-07-09T14:31:08.827566Z",
                    "iopub.status.busy": "2023-07-09T14:31:08.827252Z",
                    "iopub.status.idle": "2023-07-09T14:31:08.837195Z",
                    "shell.execute_reply": "2023-07-09T14:31:08.836520Z"
                }
            },
            "outputs": [
                {
                    "name": "stdout",
                    "output_type": "stream",
                    "text": [
                        "data_params:\n",
                        "  all_genes: false\n",
                        "  data_dir: data\n",
                        "  dset: mouse_cortex\n",
                        "  n_markers: 80\n",
                        "  n_mix: 15\n",
                        "  n_spots: 100000\n",
                        "  samp_split: true\n",
                        "  sc_id: GSE115746\n",
                        "  scaler_name: standard\n",
                        "  st_id: spotless_mouse_cortex\n",
                        "  st_split: false\n",
                        "lib_params:\n",
                        "  manual_seed: 4008570184\n",
                        "model_params:\n",
                        "  adda_kwargs:\n",
                        "    bn_momentum: 0.1\n",
                        "    emb_dim: 64\n",
                        "  model_version: gen_spotless_oracle-1943\n",
                        "train_params:\n",
                        "  adam_beta1: 0.5\n",
                        "  alpha: 5\n",
                        "  batch_size: 8\n",
                        "  dis_loop_factor: 10\n",
                        "  enc_lr: 0.0002\n",
                        "  epochs: 20\n",
                        "  initial_train_epochs: 200\n",
                        "  initial_train_lr: 0.001\n",
                        "  pretraining: true\n",
                        "  reverse_val: false\n",
                        "\n"
                    ]
                }
            ],
            "source": [
                "print(yaml.safe_dump(new_config))\n"
            ]
        },
        {
            "cell_type": "code",
            "execution_count": 27,
            "metadata": {
                "execution": {
                    "iopub.execute_input": "2023-07-09T14:31:08.841345Z",
                    "iopub.status.busy": "2023-07-09T14:31:08.841057Z",
                    "iopub.status.idle": "2023-07-09T14:31:08.893189Z",
                    "shell.execute_reply": "2023-07-09T14:31:08.892429Z"
                }
            },
            "outputs": [],
            "source": [
                "lines = [\n",
                "    os.path.basename(name)\n",
                "    for name in sorted(glob.glob(os.path.join(CONFIG_DIR, MODEL_NAME, f\"{CONFIG_FNAME_PREFIX}-*.yml\")))\n",
                "]\n",
                "with open(\n",
                "    os.path.join(CONFIG_DIR, MODEL_NAME, \"a_list.txt\"),\n",
                "    mode=\"wt\",\n",
                "    encoding=\"utf-8\",\n",
                ") as myfile:\n",
                "    myfile.write(\"\\n\".join(lines))\n",
                "    myfile.write(\"\\n\")"
            ]
        }
    ],
    "metadata": {
        "kernelspec": {
            "display_name": "agreda",
            "language": "python",
            "name": "python3"
        },
        "language_info": {
            "codemirror_mode": {
                "name": "ipython",
                "version": 3
            },
            "file_extension": ".py",
            "mimetype": "text/x-python",
            "name": "python",
            "nbconvert_exporter": "python",
            "pygments_lexer": "ipython3",
            "version": "3.8.10"
        }
    },
    "nbformat": 4,
    "nbformat_minor": 2
}
