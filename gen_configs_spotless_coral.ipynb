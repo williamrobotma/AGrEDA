{
 "cells": [
  {
   "cell_type": "code",
   "execution_count": 1,
   "metadata": {
    "execution": {
     "iopub.execute_input": "2023-07-09T14:32:12.734835Z",
     "iopub.status.busy": "2023-07-09T14:32:12.734544Z",
     "iopub.status.idle": "2023-07-09T14:32:12.940486Z",
     "shell.execute_reply": "2023-07-09T14:32:12.939757Z"
    }
   },
   "outputs": [],
   "source": [
    "import glob\n",
    "import itertools\n",
    "import os\n",
    "import yaml\n",
    "from copy import deepcopy\n",
    "\n",
    "import numpy as np\n"
   ]
  },
  {
   "cell_type": "code",
   "execution_count": 2,
   "metadata": {
    "execution": {
     "iopub.execute_input": "2023-07-09T14:32:12.945274Z",
     "iopub.status.busy": "2023-07-09T14:32:12.944908Z",
     "iopub.status.idle": "2023-07-09T14:32:12.950266Z",
     "shell.execute_reply": "2023-07-09T14:32:12.949612Z"
    }
   },
   "outputs": [],
   "source": [
    "# CONFIG_FNAME = \"coral.yml\"\n",
    "MODEL_NAME = \"CORAL\"\n",
    "CONFIG_DIR = \"configs/generated_spotless\"\n",
    "CONFIG_FNAME_PREFIX = \"gen_spotless_oracle\""
   ]
  },
  {
   "cell_type": "code",
   "execution_count": 3,
   "metadata": {
    "execution": {
     "iopub.execute_input": "2023-07-09T14:32:12.955823Z",
     "iopub.status.busy": "2023-07-09T14:32:12.955550Z",
     "iopub.status.idle": "2023-07-09T14:32:13.001300Z",
     "shell.execute_reply": "2023-07-09T14:32:13.000659Z"
    }
   },
   "outputs": [],
   "source": [
    "config = {\n",
    "    \"lib_params\": {},\n",
    "    \"data_params\": {},\n",
    "    \"train_params\": {},\n",
    "    \"model_params\": {},\n",
    "}\n",
    "\n",
    "config[\"data_params\"][\"all_genes\"] = False\n",
    "config[\"data_params\"][\"data_dir\"] = \"data\"\n",
    "config[\"data_params\"][\"dset\"] = \"mouse_cortex\"\n",
    "config[\"data_params\"][\"n_spots\"] = 100000\n",
    "config[\"data_params\"][\"samp_split\"] = True\n",
    "config[\"data_params\"][\"sc_id\"] = \"GSE115746\"\n",
    "config[\"data_params\"][\"scaler_name\"] = \"standard\"\n",
    "config[\"data_params\"][\"st_id\"] = \"spotless_mouse_cortex\"\n",
    "config[\"data_params\"][\"st_split\"] = False\n",
    "\n",
    "config[\"model_params\"][\"coral_kwargs\"] = {}\n",
    "config[\"model_params\"][\"coral_kwargs\"][\"batchnorm\"] = True\n",
    "config[\"model_params\"][\"coral_kwargs\"][\"batchnorm_after_act\"] = True\n",
    "config[\"model_params\"][\"coral_kwargs\"][\"predictor_hidden_layer_sizes\"] = None\n",
    "config[\"model_params\"][\"coral_kwargs\"][\"use_predictor\"] = True\n",
    "config[\"model_params\"][\"coral_kwargs\"][\"bn_momentum\"] = 0.1 #setting high bc of large batch size\n",
    "\n",
    "config[\"train_params\"][\"epochs\"] = 200\n",
    "config[\"train_params\"][\"batch_size\"] = 8\n",
    "config[\"train_params\"][\"reverse_val\"] = False\n",
    "config[\"train_params\"][\"opt_kwargs\"] = {}\n",
    "\n",
    "if not os.path.exists(os.path.join(CONFIG_DIR, MODEL_NAME)):\n",
    "    os.makedirs(os.path.join(CONFIG_DIR, MODEL_NAME))\n",
    "\n",
    "with open(os.path.join(CONFIG_DIR, MODEL_NAME, f\"{CONFIG_FNAME_PREFIX}.yml\"), \"w\") as f:\n",
    "    yaml.safe_dump(config, f)"
   ]
  },
  {
   "cell_type": "code",
   "execution_count": 4,
   "metadata": {
    "execution": {
     "iopub.execute_input": "2023-07-09T14:32:13.005871Z",
     "iopub.status.busy": "2023-07-09T14:32:13.005607Z",
     "iopub.status.idle": "2023-07-09T14:32:13.013616Z",
     "shell.execute_reply": "2023-07-09T14:32:13.012994Z"
    }
   },
   "outputs": [],
   "source": [
    "## CORAL\n",
    "\n",
    "# data_params\n",
    "data_params_lists = dict(\n",
    "    n_markers=[20, 40, 80],\n",
    "    n_mix=[5, 8, 10, 15],\n",
    ")\n",
    "\n",
    "# model_params\n",
    "model_params_lists = dict(\n",
    "    dropout=[0.1, 0.2, 0.5],\n",
    "    emb_dim=[32, 64],\n",
    "    enc_hidden_layer_sizes=[\n",
    "        (1024, 512),\n",
    "        (512, 256),\n",
    "        (256, 128),\n",
    "        (512, 256, 128),\n",
    "    ],\n",
    "    enc_out_act=[True, False],\n",
    "    hidden_act=[\"leakyrelu\", \"relu\"],\n",
    ")\n",
    "# train_params\n",
    "train_params_lists = {\n",
    "    \"lambda\": [\n",
    "        (0, 50),\n",
    "        (0, 100),\n",
    "        (0, 200),\n",
    "        (50, 50),\n",
    "        (100, 100),\n",
    "        (200, 200),\n",
    "    ],\n",
    "}\n",
    "\n",
    "opt_kwargs_lists = dict(\n",
    "    lr=[1e-2, 1e-3, 1e-4],\n",
    "    weight_decay=[0.1, 0.3, 0.5],\n",
    ")"
   ]
  },
  {
   "cell_type": "code",
   "execution_count": 5,
   "metadata": {
    "execution": {
     "iopub.execute_input": "2023-07-09T14:32:13.017400Z",
     "iopub.status.busy": "2023-07-09T14:32:13.017142Z",
     "iopub.status.idle": "2023-07-09T14:32:13.044679Z",
     "shell.execute_reply": "2023-07-09T14:32:13.044002Z"
    }
   },
   "outputs": [
    {
     "data": {
      "text/plain": [
       "62208"
      ]
     },
     "execution_count": 5,
     "metadata": {},
     "output_type": "execute_result"
    }
   ],
   "source": [
    "total_configs = 1\n",
    "for value in data_params_lists.values():\n",
    "    total_configs *= len(value)\n",
    "for value in model_params_lists.values():\n",
    "    total_configs *= len(value)\n",
    "for value in train_params_lists.values():\n",
    "    total_configs *= len(value)\n",
    "for value in opt_kwargs_lists.values():\n",
    "    total_configs *= len(value)\n",
    "total_configs"
   ]
  },
  {
   "cell_type": "code",
   "execution_count": 6,
   "metadata": {
    "execution": {
     "iopub.execute_input": "2023-07-09T14:32:13.086510Z",
     "iopub.status.busy": "2023-07-09T14:32:13.086247Z",
     "iopub.status.idle": "2023-07-09T14:32:13.093672Z",
     "shell.execute_reply": "2023-07-09T14:32:13.093010Z"
    }
   },
   "outputs": [
    {
     "data": {
      "text/plain": [
       "{'lib_params': {},\n",
       " 'data_params': {'all_genes': False,\n",
       "  'data_dir': 'data',\n",
       "  'dset': 'mouse_cortex',\n",
       "  'n_spots': 100000,\n",
       "  'samp_split': True,\n",
       "  'sc_id': 'GSE115746',\n",
       "  'scaler_name': 'standard',\n",
       "  'st_id': 'spotless_mouse_cortex',\n",
       "  'st_split': False},\n",
       " 'train_params': {'epochs': 200,\n",
       "  'batch_size': 8,\n",
       "  'reverse_val': False,\n",
       "  'opt_kwargs': {}},\n",
       " 'model_params': {'coral_kwargs': {'batchnorm': True,\n",
       "   'batchnorm_after_act': True,\n",
       "   'predictor_hidden_layer_sizes': None,\n",
       "   'use_predictor': True,\n",
       "   'bn_momentum': 0.1}}}"
      ]
     },
     "execution_count": 6,
     "metadata": {},
     "output_type": "execute_result"
    }
   ],
   "source": [
    "config"
   ]
  },
  {
   "cell_type": "code",
   "execution_count": 7,
   "metadata": {
    "execution": {
     "iopub.execute_input": "2023-07-09T14:32:13.097286Z",
     "iopub.status.busy": "2023-07-09T14:32:13.097029Z",
     "iopub.status.idle": "2023-07-09T14:32:59.952632Z",
     "shell.execute_reply": "2023-07-09T14:32:59.951487Z"
    }
   },
   "outputs": [],
   "source": [
    "rng = np.random.default_rng(937)\n",
    "\n",
    "yes_samples = set(rng.choice(total_configs, size=200, replace=False))\n",
    "\n",
    "\n",
    "data_params_l = []\n",
    "for kv_tuples in itertools.product(\n",
    "    *[[(k, v) for v in vlist] for k, vlist in data_params_lists.items()]\n",
    "):\n",
    "    data_params_l.append(dict(kv_tuples))\n",
    "\n",
    "model_params_l = []\n",
    "for kv_tuples in itertools.product(\n",
    "    *[[(k, v) for v in vlist] for k, vlist in model_params_lists.items()]\n",
    "):\n",
    "    model_params_l.append(dict(kv_tuples))\n",
    "\n",
    "train_params_l = []\n",
    "for kv_tuples in itertools.product(\n",
    "    *[[(k, v) for v in vlist] for k, vlist in train_params_lists.items()]\n",
    "):\n",
    "    train_params_l.append(dict(kv_tuples))\n",
    "\n",
    "opt_kwargs_l = []\n",
    "for kv_tuples in itertools.product(\n",
    "    *[[(k, v) for v in vlist] for k, vlist in opt_kwargs_lists.items()]\n",
    "):\n",
    "    opt_kwargs_l.append(dict(kv_tuples))\n",
    "\n",
    "\n",
    "for i, (data_params, model_params, train_params, opt_kwargs) in enumerate(\n",
    "    itertools.product(data_params_l, model_params_l, train_params_l, opt_kwargs_l)\n",
    "):\n",
    "    if i not in yes_samples:\n",
    "        continue\n",
    "\n",
    "    new_config = deepcopy(config)\n",
    "\n",
    "    new_config[\"data_params\"].update(data_params)\n",
    "    new_config[\"model_params\"][\"coral_kwargs\"].update(model_params)\n",
    "    new_config[\"train_params\"].update(train_params)\n",
    "    new_config[\"train_params\"][\"opt_kwargs\"].update(opt_kwargs)\n",
    "\n",
    "    new_config[\"lib_params\"][\"manual_seed\"] = int(rng.integers(0, 2**32))\n",
    "\n",
    "    version = f\"{CONFIG_FNAME_PREFIX}-{i}\"\n",
    "    new_config[\"model_params\"][\"model_version\"] = version\n",
    "\n",
    "    with open(os.path.join(CONFIG_DIR, MODEL_NAME, f\"{version}.yml\"), \"w\") as f:\n",
    "        yaml.safe_dump(new_config, f)"
   ]
  },
  {
   "cell_type": "code",
   "execution_count": 8,
   "metadata": {
    "execution": {
     "iopub.execute_input": "2023-07-09T14:32:59.957935Z",
     "iopub.status.busy": "2023-07-09T14:32:59.957621Z",
     "iopub.status.idle": "2023-07-09T14:32:59.968470Z",
     "shell.execute_reply": "2023-07-09T14:32:59.967789Z"
    }
   },
   "outputs": [
    {
     "name": "stdout",
     "output_type": "stream",
     "text": [
      "data_params:\n",
      "  all_genes: false\n",
      "  data_dir: data\n",
      "  dset: mouse_cortex\n",
      "  n_markers: 80\n",
      "  n_mix: 15\n",
      "  n_spots: 100000\n",
      "  samp_split: true\n",
      "  sc_id: GSE115746\n",
      "  scaler_name: standard\n",
      "  st_id: spotless_mouse_cortex\n",
      "  st_split: false\n",
      "lib_params:\n",
      "  manual_seed: 1585383043\n",
      "model_params:\n",
      "  coral_kwargs:\n",
      "    batchnorm: true\n",
      "    batchnorm_after_act: true\n",
      "    bn_momentum: 0.1\n",
      "    dropout: 0.5\n",
      "    emb_dim: 64\n",
      "    enc_hidden_layer_sizes:\n",
      "    - 512\n",
      "    - 256\n",
      "    - 128\n",
      "    enc_out_act: false\n",
      "    hidden_act: relu\n",
      "    predictor_hidden_layer_sizes: null\n",
      "    use_predictor: true\n",
      "  model_version: gen_spotless_oracle-62202\n",
      "train_params:\n",
      "  batch_size: 8\n",
      "  epochs: 200\n",
      "  lambda:\n",
      "  - 200\n",
      "  - 200\n",
      "  opt_kwargs:\n",
      "    lr: 0.001\n",
      "    weight_decay: 0.1\n",
      "  reverse_val: false\n",
      "\n"
     ]
    }
   ],
   "source": [
    "print(yaml.safe_dump(new_config))\n"
   ]
  },
  {
   "cell_type": "code",
   "execution_count": 9,
   "metadata": {
    "execution": {
     "iopub.execute_input": "2023-07-09T14:32:59.972516Z",
     "iopub.status.busy": "2023-07-09T14:32:59.972242Z",
     "iopub.status.idle": "2023-07-09T14:33:00.006794Z",
     "shell.execute_reply": "2023-07-09T14:33:00.006157Z"
    }
   },
   "outputs": [],
   "source": [
    "lines = [\n",
    "    os.path.basename(name)\n",
    "    for name in sorted(glob.glob(os.path.join(CONFIG_DIR, MODEL_NAME, f\"{CONFIG_FNAME_PREFIX}-*.yml\")))\n",
    "]\n",
    "with open(\n",
    "    os.path.join(CONFIG_DIR, MODEL_NAME, \"a_list.txt\"),\n",
    "    mode=\"wt\",\n",
    "    encoding=\"utf-8\",\n",
    ") as myfile:\n",
    "    myfile.write(\"\\n\".join(lines))\n",
    "    myfile.write(\"\\n\")"
   ]
  }
 ],
 "metadata": {
  "kernelspec": {
   "display_name": "agreda",
   "language": "python",
   "name": "python3"
  },
  "language_info": {
   "codemirror_mode": {
    "name": "ipython",
    "version": 3
   },
   "file_extension": ".py",
   "mimetype": "text/x-python",
   "name": "python",
   "nbconvert_exporter": "python",
   "pygments_lexer": "ipython3",
   "version": "3.8.10"
  }
 },
 "nbformat": 4,
 "nbformat_minor": 2
}
