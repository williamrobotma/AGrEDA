{
 "cells": [
  {
   "cell_type": "code",
   "execution_count": 1,
   "metadata": {
    "execution": {
     "iopub.execute_input": "2023-06-21T21:22:32.164613Z",
     "iopub.status.busy": "2023-06-21T21:22:32.164341Z",
     "iopub.status.idle": "2023-06-21T21:22:40.609646Z",
     "shell.execute_reply": "2023-06-21T21:22:40.606758Z"
    }
   },
   "outputs": [],
   "source": [
    "import os\n",
    "import yaml\n",
    "import itertools\n",
    "from copy import deepcopy\n",
    "import glob\n",
    "\n",
    "import numpy as np"
   ]
  },
  {
   "cell_type": "code",
   "execution_count": 2,
   "metadata": {
    "execution": {
     "iopub.execute_input": "2023-06-21T21:22:40.652252Z",
     "iopub.status.busy": "2023-06-21T21:22:40.650823Z",
     "iopub.status.idle": "2023-06-21T21:22:40.670497Z",
     "shell.execute_reply": "2023-06-21T21:22:40.668427Z"
    }
   },
   "outputs": [],
   "source": [
    "# CONFIG_FNAME = \"bnfix_minmax_samp_split.yml\"\n",
    "MODEL_NAME = \"CellDART\"\n",
    "CONFIG_DIR = \"configs/generated_spotless\""
   ]
  },
  {
   "cell_type": "code",
   "execution_count": 3,
   "metadata": {
    "execution": {
     "iopub.execute_input": "2023-06-21T21:22:41.002389Z",
     "iopub.status.busy": "2023-06-21T21:22:41.000170Z",
     "iopub.status.idle": "2023-06-21T21:22:41.035720Z",
     "shell.execute_reply": "2023-06-21T21:22:41.025834Z"
    }
   },
   "outputs": [],
   "source": [
    "config = {\n",
    "    \"lib_params\": {},\n",
    "    \"data_params\": {},\n",
    "    \"train_params\": {},\n",
    "    \"model_params\": {},\n",
    "}\n",
    "\n",
    "config[\"data_params\"][\"all_genes\"] = False\n",
    "config[\"data_params\"][\"data_dir\"] = \"data\"\n",
    "config[\"data_params\"][\"dset\"] = \"mouse_cortex\"\n",
    "config[\"data_params\"][\"samp_split\"] = True\n",
    "config[\"data_params\"][\"sc_id\"] = \"GSE115746\"\n",
    "# config[\"data_params\"][\"scaler_name\"] = \"standard\"\n",
    "config[\"data_params\"][\"st_id\"] = \"spotless_mouse_cortex\"\n",
    "config[\"data_params\"][\"st_split\"] = False\n",
    "\n",
    "config[\"model_params\"][\"celldart_kwargs\"] = {}\n",
    "config[\"model_params\"][\"celldart_kwargs\"][\"bn_momentum\"] = 0.1 #setting high bc of large batch size\n",
    "\n",
    "config[\"train_params\"][\"initial_train_epochs\"] = 10\n",
    "config[\"train_params\"][\"n_iter\"] = 30000\n",
    "config[\"train_params\"][\"batch_size\"] = 8\n",
    "config[\"train_params\"][\"reverse_val\"] = False\n",
    "config[\"train_params\"][\"pretraining\"] = True\n",
    "\n",
    "if not os.path.exists(os.path.join(CONFIG_DIR, MODEL_NAME)):\n",
    "    os.makedirs(os.path.join(CONFIG_DIR, MODEL_NAME))\n",
    "\n",
    "with open(os.path.join(CONFIG_DIR, MODEL_NAME, f\"gen_spotless_oracle.yml\"), \"w\") as f:\n",
    "    yaml.safe_dump(config, f)"
   ]
  },
  {
   "cell_type": "code",
   "execution_count": 4,
   "metadata": {
    "execution": {
     "iopub.execute_input": "2023-06-21T21:22:41.052903Z",
     "iopub.status.busy": "2023-06-21T21:22:41.052577Z",
     "iopub.status.idle": "2023-06-21T21:22:41.060884Z",
     "shell.execute_reply": "2023-06-21T21:22:41.060323Z"
    }
   },
   "outputs": [],
   "source": [
    "## CellDART\n",
    "\n",
    "# data_params\n",
    "data_params_lists = dict(\n",
    "    n_markers = [5, 10, 20, 40, 80],\n",
    "    n_mix =  [5, 8, 10, 15, 20],\n",
    "    n_spots=[200, 500, 1000, 2000],\n",
    "    scaler_name = [\"minmax\", \"standard\"],\n",
    ")\n",
    "# model_params\n",
    "model_params_lists = dict(\n",
    "    emb_dim = [32, 64],\n",
    ")\n",
    "\n",
    "\n",
    "# train_params\n",
    "train_params_lists = dict(\n",
    "    alpha =  [0.1, 0.6, 1.0, 2.0],\n",
    "    alpha_lr = [1, 2, 5, 10],\n",
    "    lr =[0.01, 0.001, 0.0001],\n",
    ")\n"
   ]
  },
  {
   "cell_type": "code",
   "execution_count": 5,
   "metadata": {
    "execution": {
     "iopub.execute_input": "2023-06-21T21:22:41.076514Z",
     "iopub.status.busy": "2023-06-21T21:22:41.076189Z",
     "iopub.status.idle": "2023-06-21T21:22:41.093427Z",
     "shell.execute_reply": "2023-06-21T21:22:41.091293Z"
    }
   },
   "outputs": [
    {
     "data": {
      "text/plain": [
       "19200"
      ]
     },
     "execution_count": 5,
     "metadata": {},
     "output_type": "execute_result"
    }
   ],
   "source": [
    "total_configs = 1\n",
    "for value in data_params_lists.values():\n",
    "    total_configs *= len(value)\n",
    "for value in model_params_lists.values():\n",
    "    total_configs *= len(value)\n",
    "for value in train_params_lists.values():\n",
    "    total_configs *= len(value)\n",
    "total_configs"
   ]
  },
  {
   "cell_type": "code",
   "execution_count": 6,
   "metadata": {
    "execution": {
     "iopub.execute_input": "2023-06-21T21:22:41.414190Z",
     "iopub.status.busy": "2023-06-21T21:22:41.413864Z",
     "iopub.status.idle": "2023-06-21T21:22:41.537747Z",
     "shell.execute_reply": "2023-06-21T21:22:41.536049Z"
    }
   },
   "outputs": [
    {
     "data": {
      "text/plain": [
       "{'lib_params': {},\n",
       " 'data_params': {'all_genes': False,\n",
       "  'data_dir': 'data',\n",
       "  'dset': 'mouse_cortex',\n",
       "  'samp_split': True,\n",
       "  'sc_id': 'GSE115746',\n",
       "  'st_id': 'spotless_mouse_cortex',\n",
       "  'st_split': False},\n",
       " 'train_params': {'initial_train_epochs': 10,\n",
       "  'n_iter': 30000,\n",
       "  'batch_size': 8,\n",
       "  'reverse_val': False,\n",
       "  'pretraining': True},\n",
       " 'model_params': {'celldart_kwargs': {'bn_momentum': 0.1}}}"
      ]
     },
     "execution_count": 6,
     "metadata": {},
     "output_type": "execute_result"
    }
   ],
   "source": [
    "config"
   ]
  },
  {
   "cell_type": "code",
   "execution_count": 7,
   "metadata": {
    "execution": {
     "iopub.execute_input": "2023-06-21T21:22:41.746393Z",
     "iopub.status.busy": "2023-06-21T21:22:41.731733Z",
     "iopub.status.idle": "2023-06-21T21:23:42.256201Z",
     "shell.execute_reply": "2023-06-21T21:23:42.255249Z"
    }
   },
   "outputs": [],
   "source": [
    "rng = np.random.default_rng(4873)\n",
    "\n",
    "yes_samples = set(rng.choice(total_configs, size=100, replace=False))\n",
    "\n",
    "\n",
    "data_params_l = []\n",
    "for kv_tuples in itertools.product(\n",
    "    *[[(k, v) for v in vlist] for k, vlist in data_params_lists.items()]\n",
    "):\n",
    "    data_params_l.append(dict(kv_tuples))\n",
    "\n",
    "model_params_l = []\n",
    "for kv_tuples in itertools.product(\n",
    "    *[[(k, v) for v in vlist] for k, vlist in model_params_lists.items()]\n",
    "):\n",
    "    model_params_l.append(dict(kv_tuples))\n",
    "\n",
    "train_params_l = []\n",
    "for kv_tuples in itertools.product(\n",
    "    *[[(k, v) for v in vlist] for k, vlist in train_params_lists.items()]\n",
    "):\n",
    "    train_params_l.append(dict(kv_tuples))\n",
    "\n",
    "for i, (data_params, model_params, train_params) in enumerate(\n",
    "    itertools.product(data_params_l, model_params_l, train_params_l)\n",
    "):\n",
    "    if i not in yes_samples:\n",
    "        continue\n",
    "\n",
    "    new_config = deepcopy(config)\n",
    "    \n",
    "    new_config[\"data_params\"].update(data_params)\n",
    "    new_config[\"model_params\"][\"celldart_kwargs\"].update(model_params)\n",
    "    new_config[\"train_params\"].update(train_params)\n",
    "    \n",
    "    new_config[\"lib_params\"][\"manual_seed\"] = int(rng.integers(0, 2**32))\n",
    "\n",
    "    version = f\"gen_spotless_oracle-{i}\"\n",
    "    new_config[\"model_params\"][\"model_version\"] = version\n",
    "\n",
    "    with open(os.path.join(CONFIG_DIR, MODEL_NAME, f\"{version}.yml\"), \"w\") as f:\n",
    "        yaml.safe_dump(new_config, f)"
   ]
  },
  {
   "cell_type": "code",
   "execution_count": 8,
   "metadata": {
    "execution": {
     "iopub.execute_input": "2023-06-21T21:23:42.263596Z",
     "iopub.status.busy": "2023-06-21T21:23:42.263388Z",
     "iopub.status.idle": "2023-06-21T21:23:42.274179Z",
     "shell.execute_reply": "2023-06-21T21:23:42.273398Z"
    }
   },
   "outputs": [
    {
     "name": "stdout",
     "output_type": "stream",
     "text": [
      "data_params:\n",
      "  all_genes: false\n",
      "  data_dir: data\n",
      "  dset: mouse_cortex\n",
      "  n_markers: 80\n",
      "  n_mix: 20\n",
      "  n_spots: 2000\n",
      "  samp_split: true\n",
      "  sc_id: GSE115746\n",
      "  scaler_name: minmax\n",
      "  st_id: spotless_mouse_cortex\n",
      "  st_split: false\n",
      "lib_params:\n",
      "  manual_seed: 2530971597\n",
      "model_params:\n",
      "  celldart_kwargs:\n",
      "    bn_momentum: 0.1\n",
      "    emb_dim: 64\n",
      "  model_version: gen_spotless_oracle-19059\n",
      "train_params:\n",
      "  alpha: 0.1\n",
      "  alpha_lr: 2\n",
      "  batch_size: 8\n",
      "  initial_train_epochs: 10\n",
      "  lr: 0.01\n",
      "  n_iter: 30000\n",
      "  pretraining: true\n",
      "  reverse_val: false\n",
      "\n"
     ]
    }
   ],
   "source": [
    "print(yaml.safe_dump(new_config))\n"
   ]
  },
  {
   "cell_type": "code",
   "execution_count": 9,
   "metadata": {
    "execution": {
     "iopub.execute_input": "2023-06-21T21:23:42.288186Z",
     "iopub.status.busy": "2023-06-21T21:23:42.287993Z",
     "iopub.status.idle": "2023-06-21T21:23:42.373608Z",
     "shell.execute_reply": "2023-06-21T21:23:42.372608Z"
    }
   },
   "outputs": [
    {
     "ename": "",
     "evalue": "",
     "output_type": "error",
     "traceback": [
      "\u001b[1;31mThe Kernel crashed while executing code in the the current cell or a previous cell. Please review the code in the cell(s) to identify a possible cause of the failure. Click <a href='https://aka.ms/vscodeJupyterKernelCrash'>here</a> for more info. View Jupyter <a href='command:jupyter.viewOutput'>log</a> for further details."
     ]
    }
   ],
   "source": [
    "lines = [\n",
    "    os.path.basename(name)\n",
    "    for name in sorted(glob.glob(os.path.join(CONFIG_DIR, MODEL_NAME, \"*.yml\")))\n",
    "]\n",
    "with open(\n",
    "    os.path.join(CONFIG_DIR, MODEL_NAME, \"a_list.txt\"),\n",
    "    mode=\"wt\",\n",
    "    encoding=\"utf-8\",\n",
    ") as myfile:\n",
    "    myfile.write(\"\\n\".join(lines))\n",
    "    myfile.write(\"\\n\")"
   ]
  },
  {
   "cell_type": "code",
   "execution_count": null,
   "metadata": {},
   "outputs": [],
   "source": []
  }
 ],
 "metadata": {
  "kernelspec": {
   "display_name": "agreda",
   "language": "python",
   "name": "python3"
  },
  "language_info": {
   "codemirror_mode": {
    "name": "ipython",
    "version": 3
   },
   "file_extension": ".py",
   "mimetype": "text/x-python",
   "name": "python",
   "nbconvert_exporter": "python",
   "pygments_lexer": "ipython3",
   "version": "3.8.10"
  }
 },
 "nbformat": 4,
 "nbformat_minor": 2
}
