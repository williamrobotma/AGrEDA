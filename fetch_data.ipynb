{
 "cells": [
  {
   "cell_type": "code",
   "execution_count": 1,
   "metadata": {
    "vscode": {
     "languageId": "r"
    }
   },
   "outputs": [
    {
     "name": "stderr",
     "output_type": "stream",
     "text": [
      "Updating HTML index of packages in '.Library'\n",
      "\n",
      "Making 'packages.html' ...\n",
      " done\n",
      "\n",
      "also installing the dependencies ‘remotes’, ‘R.methodsS3’, ‘R.oo’, ‘R.utils’, ‘rex’, ‘cyclocomp’, ‘brew’, ‘R.cache’, ‘collections’, ‘lintr’, ‘roxygen2’, ‘styler’, ‘xmlparsedata’\n",
      "\n",
      "\n",
      "Updating HTML index of packages in '.Library'\n",
      "\n",
      "Making 'packages.html' ...\n",
      " done\n",
      "\n",
      "also installing the dependencies ‘systemfonts’, ‘BH’\n",
      "\n",
      "\n",
      "Warning message in install.packages(\"httpgd\"):\n",
      "“installation of package ‘systemfonts’ had non-zero exit status”\n",
      "Warning message in install.packages(\"httpgd\"):\n",
      "“installation of package ‘httpgd’ had non-zero exit status”\n",
      "Updating HTML index of packages in '.Library'\n",
      "\n",
      "Making 'packages.html' ...\n",
      " done\n",
      "\n",
      "Updating HTML index of packages in '.Library'\n",
      "\n",
      "Making 'packages.html' ...\n",
      " done\n",
      "\n",
      "'getOption(\"repos\")' replaces Bioconductor standard repositories, see\n",
      "'?repositories' for details\n",
      "\n",
      "replacement repositories:\n",
      "    CRAN: https://cran.r-project.org\n",
      "\n",
      "\n",
      "Bioconductor version 3.14 (BiocManager 1.30.18), R 4.1.3 (2022-03-10)\n",
      "\n",
      "Installing package(s) 'BiocVersion', 'spatialLIBD'\n",
      "\n",
      "also installing the dependencies ‘rhdf5filters’, ‘limma’, ‘locfit’, ‘sitmo’, ‘credentials’, ‘zip’, ‘gitcreds’, ‘ini’, ‘lambda.r’, ‘futile.options’, ‘HDF5Array’, ‘rhdf5’, ‘edgeR’, ‘dqrng’, ‘Rhdf5lib’, ‘gert’, ‘gh’, ‘whisker’, ‘plogr’, ‘KEGGREST’, ‘matrixStats’, ‘sparseMatrixStats’, ‘RcppHNSW’, ‘ScaledMatrix’, ‘irlba’, ‘rsvd’, ‘futile.logger’, ‘snow’, ‘beeswarm’, ‘vipor’, ‘GenomeInfoDbData’, ‘dotCall64’, ‘bitops’, ‘Rhtslib’, ‘DropletUtils’, ‘rjson’, ‘attempt’, ‘config’, ‘here’, ‘usethis’, ‘crosstalk’, ‘anytime’, ‘scatterplot3d’, ‘RSQLite’, ‘AnnotationDbi’, ‘interactiveDisplayBase’, ‘scuttle’, ‘gridExtra’, ‘DelayedArray’, ‘DelayedMatrixStats’, ‘beachmat’, ‘BiocNeighbors’, ‘BiocSingular’, ‘BiocParallel’, ‘ggbeeswarm’, ‘viridis’, ‘Rtsne’, ‘ggrepel’, ‘MatrixGenerics’, ‘Biobase’, ‘GenomeInfoDb’, ‘spam’, ‘benchmarkmeData’, ‘doParallel’, ‘filelock’, ‘XML’, ‘XVector’, ‘Biostrings’, ‘zlibbioc’, ‘RCurl’, ‘Rsamtools’, ‘GenomicAlignments’, ‘BiocIO’, ‘restfulr’, ‘SpatialExperiment’, ‘golem’, ‘cowplot’, ‘plotly’, ‘shinyWidgets’, ‘Polychrome’, ‘sessioninfo’, ‘AnnotationHub’, ‘png’, ‘scater’, ‘DT’, ‘ExperimentHub’, ‘SummarizedExperiment’, ‘S4Vectors’, ‘IRanges’, ‘fields’, ‘benchmarkme’, ‘SingleCellExperiment’, ‘BiocFileCache’, ‘rtracklayer’, ‘BiocGenerics’, ‘GenomicRanges’, ‘magick’\n",
      "\n",
      "\n",
      "Warning message in install.packages(...):\n",
      "“installation of package ‘magick’ had non-zero exit status”\n",
      "Warning message in install.packages(...):\n",
      "“installation of package ‘gert’ had non-zero exit status”\n",
      "Warning message in install.packages(...):\n",
      "“installation of package ‘usethis’ had non-zero exit status”\n",
      "Warning message in install.packages(...):\n",
      "“installation of package ‘golem’ had non-zero exit status”\n",
      "Warning message in install.packages(...):\n",
      "“installation of package ‘SpatialExperiment’ had non-zero exit status”\n",
      "Warning message in install.packages(...):\n",
      "“installation of package ‘spatialLIBD’ had non-zero exit status”\n",
      "Updating HTML index of packages in '.Library'\n",
      "\n",
      "Making 'packages.html' ...\n",
      " done\n",
      "\n",
      "Old packages: 'glmnet', 'googlesheets4', 'httr', 'later', 'readxl', 'reprex',\n",
      "  'rmarkdown', 'tinytex'\n",
      "\n"
     ]
    },
    {
     "ename": "ERROR",
     "evalue": "Error in library(\"spatialLIBD\"): there is no package called ‘spatialLIBD’\n",
     "output_type": "error",
     "traceback": [
      "Error in library(\"spatialLIBD\"): there is no package called ‘spatialLIBD’\nTraceback:\n",
      "1. library(\"spatialLIBD\")"
     ]
    }
   ],
   "source": [
    "install.packages(\"jsonlite\")\n",
    "install.packages(\"languageserver\")\n",
    "install.packages(\"httpgd\")\n",
    "\n",
    "if (!requireNamespace(\"BiocManager\", quietly = TRUE)) {\n",
    "    install.packages(\"BiocManager\")\n",
    "}\n",
    "BiocManager::install(\"spatialLIBD\")\n",
    "\n",
    "## Load the package\n",
    "library(\"jsonlite\")\n",
    "library(\"spatialLIBD\")"
   ]
  },
  {
   "cell_type": "code",
   "execution_count": null,
   "metadata": {
    "vscode": {
     "languageId": "r"
    }
   },
   "outputs": [],
   "source": []
  }
 ],
 "metadata": {
  "kernelspec": {
   "display_name": "R",
   "language": "R",
   "name": "ir"
  },
  "language_info": {
   "codemirror_mode": "r",
   "file_extension": ".r",
   "mimetype": "text/x-r-source",
   "name": "R",
   "pygments_lexer": "r",
   "version": "4.1.3"
  },
  "orig_nbformat": 4,
  "vscode": {
   "interpreter": {
    "hash": "330b2d1c36bdd59efd1cb99466680f0cb310a0929e0186587128f5e2b14c88ce"
   }
  }
 },
 "nbformat": 4,
 "nbformat_minor": 2
}
