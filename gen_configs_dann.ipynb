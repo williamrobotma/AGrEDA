{
 "cells": [
  {
   "cell_type": "code",
   "execution_count": 1,
   "metadata": {
    "execution": {
     "iopub.execute_input": "2023-07-09T09:14:07.569136Z",
     "iopub.status.busy": "2023-07-09T09:14:07.568935Z",
     "iopub.status.idle": "2023-07-09T09:14:07.714652Z",
     "shell.execute_reply": "2023-07-09T09:14:07.714107Z"
    }
   },
   "outputs": [],
   "source": [
    "import glob\n",
    "import itertools\n",
    "import os\n",
    "import yaml\n",
    "from copy import deepcopy\n",
    "\n",
    "import numpy as np\n"
   ]
  },
  {
   "cell_type": "code",
   "execution_count": 2,
   "metadata": {
    "execution": {
     "iopub.execute_input": "2023-07-09T09:14:07.718017Z",
     "iopub.status.busy": "2023-07-09T09:14:07.717792Z",
     "iopub.status.idle": "2023-07-09T09:14:07.721667Z",
     "shell.execute_reply": "2023-07-09T09:14:07.721217Z"
    }
   },
   "outputs": [],
   "source": [
    "# CONFIG_FNAME = \"dann.yml\"\n",
    "MODEL_NAME = \"DANN\"\n",
    "CONFIG_DIR = \"configs/generated_dlpfc\"\n",
    "CONFIG_FNAME_PREFIX = \"gen_dlpfc_dlpfc\""
   ]
  },
  {
   "cell_type": "code",
   "execution_count": 3,
   "metadata": {
    "execution": {
     "iopub.execute_input": "2023-07-09T09:14:07.724429Z",
     "iopub.status.busy": "2023-07-09T09:14:07.724258Z",
     "iopub.status.idle": "2023-07-09T09:14:07.785280Z",
     "shell.execute_reply": "2023-07-09T09:14:07.784823Z"
    }
   },
   "outputs": [],
   "source": [
    "config = {\n",
    "    \"lib_params\": {},\n",
    "    \"data_params\": {},\n",
    "    \"train_params\": {},\n",
    "    \"model_params\": {},\n",
    "}\n",
    "\n",
    "config[\"data_params\"][\"all_genes\"] = False\n",
    "config[\"data_params\"][\"data_dir\"] = \"data\"\n",
    "config[\"data_params\"][\"dset\"] = \"dlpfc\"\n",
    "config[\"data_params\"][\"n_spots\"] = 100000\n",
    "config[\"data_params\"][\"samp_split\"] = True\n",
    "config[\"data_params\"][\"sc_id\"] = \"GSE144136\"\n",
    "config[\"data_params\"][\"scaler_name\"] = \"standard\"\n",
    "config[\"data_params\"][\"st_id\"] = \"spatialLIBD\"\n",
    "config[\"data_params\"][\"st_split\"] = False\n",
    "\n",
    "config[\"model_params\"][\"dann_kwargs\"] = {}\n",
    "config[\"model_params\"][\"dann_kwargs\"][\"enc_out_act\"] = None\n",
    "\n",
    "config[\"train_params\"][\"adv_opt_kwargs\"] = {}\n",
    "config[\"train_params\"][\"adv_opt_kwargs\"][\"betas\"] = (0.5, 0.999)\n",
    "config[\"train_params\"][\"adv_opt_kwargs\"][\"eps\"] = 1.0e-07\n",
    "\n",
    "config[\"train_params\"][\"early_stop_crit\"] = 100\n",
    "config[\"train_params\"][\"epochs\"] = 500\n",
    "config[\"train_params\"][\"early_stop_crit_adv\"] = 500\n",
    "config[\"train_params\"][\"min_epochs\"] = 40\n",
    "config[\"train_params\"][\"min_epochs_adv\"] = 100\n",
    "config[\"train_params\"][\"pretraining\"] = False\n",
    "config[\"train_params\"][\"reverse_val\"] = False\n",
    "\n",
    "\n",
    "config[\"train_params\"][\"plateau_kwargs\"] = {}\n",
    "config[\"train_params\"][\"plateau_kwargs\"][\"factor\"] = 0.5\n",
    "config[\"train_params\"][\"plateau_kwargs\"][\"min_lr\"] = 2.0e-06\n",
    "config[\"train_params\"][\"plateau_kwargs\"][\"patience\"] = 50\n",
    "config[\"train_params\"][\"plateau_kwargs\"][\"verbose\"] = True\n",
    "\n",
    "\n",
    "if not os.path.exists(os.path.join(CONFIG_DIR, MODEL_NAME)):\n",
    "    os.makedirs(os.path.join(CONFIG_DIR, MODEL_NAME))\n",
    "\n",
    "with open(os.path.join(CONFIG_DIR, MODEL_NAME, f\"{CONFIG_FNAME_PREFIX}.yml\"), \"w\") as f:\n",
    "    yaml.safe_dump(config, f)"
   ]
  },
  {
   "cell_type": "code",
   "execution_count": 4,
   "metadata": {
    "execution": {
     "iopub.execute_input": "2023-07-09T09:14:07.787971Z",
     "iopub.status.busy": "2023-07-09T09:14:07.787803Z",
     "iopub.status.idle": "2023-07-09T09:14:07.793820Z",
     "shell.execute_reply": "2023-07-09T09:14:07.793376Z"
    }
   },
   "outputs": [],
   "source": [
    "## ADDA\n",
    "\n",
    "# data_params\n",
    "data_params_lists = dict(\n",
    "    n_markers=[20, 40, 80],\n",
    "    n_mix=[3, 5, 8, 10],\n",
    ")\n",
    "\n",
    "# model_params\n",
    "model_params_lists = dict(\n",
    "    alpha_=[1, 2, 3],\n",
    "    dropout=[0.1, 0.2, 0.5],\n",
    "    emb_dim=[32, 64],\n",
    "    enc_hidden_layer_sizes=[\n",
    "        (512,),\n",
    "        (1024,),\n",
    "        (512, 512),\n",
    "        (512, 256),\n",
    "        (256, 128),\n",
    "    ],\n",
    "    dis_dropout_factor=[0.5, 1],\n",
    ")\n",
    "# train_params\n",
    "train_params_lists = {\n",
    "    \"batch_size\": [256, 512, 1024],\n",
    "    \"lambda\": [0.5, 1, 2],\n",
    "    \"two_step\": [True, False],\n",
    "    \"source_first\": [True, False],\n",
    "}\n",
    "\n",
    "adv_opt_kwargs_lists = dict(\n",
    "    lr=[2e-3, 1e-3, 2e-4, 1e-4, 1e-5, 2e-5],\n",
    "    weight_decay=[0.01, 0.1],\n",
    ")"
   ]
  },
  {
   "cell_type": "code",
   "execution_count": 5,
   "metadata": {
    "execution": {
     "iopub.execute_input": "2023-07-09T09:14:07.796374Z",
     "iopub.status.busy": "2023-07-09T09:14:07.796209Z",
     "iopub.status.idle": "2023-07-09T09:14:07.819995Z",
     "shell.execute_reply": "2023-07-09T09:14:07.819490Z"
    }
   },
   "outputs": [
    {
     "data": {
      "text/plain": [
       "933120"
      ]
     },
     "execution_count": 5,
     "metadata": {},
     "output_type": "execute_result"
    }
   ],
   "source": [
    "total_configs = 1\n",
    "for value in data_params_lists.values():\n",
    "    total_configs *= len(value)\n",
    "for value in model_params_lists.values():\n",
    "    total_configs *= len(value)\n",
    "for value in train_params_lists.values():\n",
    "    total_configs *= len(value)\n",
    "for value in adv_opt_kwargs_lists.values():\n",
    "    total_configs *= len(value)\n",
    "total_configs"
   ]
  },
  {
   "cell_type": "code",
   "execution_count": 6,
   "metadata": {
    "execution": {
     "iopub.execute_input": "2023-07-09T09:14:07.844296Z",
     "iopub.status.busy": "2023-07-09T09:14:07.844061Z",
     "iopub.status.idle": "2023-07-09T09:14:07.849890Z",
     "shell.execute_reply": "2023-07-09T09:14:07.849411Z"
    }
   },
   "outputs": [
    {
     "data": {
      "text/plain": [
       "{'lib_params': {},\n",
       " 'data_params': {'all_genes': False,\n",
       "  'data_dir': 'data',\n",
       "  'dset': 'dlpfc',\n",
       "  'n_spots': 100000,\n",
       "  'samp_split': True,\n",
       "  'sc_id': 'GSE144136',\n",
       "  'scaler_name': 'standard',\n",
       "  'st_id': 'spatialLIBD',\n",
       "  'st_split': False},\n",
       " 'train_params': {'adv_opt_kwargs': {'betas': (0.5, 0.999), 'eps': 1e-07},\n",
       "  'early_stop_crit': 100,\n",
       "  'epochs': 500,\n",
       "  'early_stop_crit_adv': 500,\n",
       "  'min_epochs': 40,\n",
       "  'min_epochs_adv': 100,\n",
       "  'pretraining': False,\n",
       "  'reverse_val': False,\n",
       "  'plateau_kwargs': {'factor': 0.5,\n",
       "   'min_lr': 2e-06,\n",
       "   'patience': 50,\n",
       "   'verbose': True}},\n",
       " 'model_params': {'dann_kwargs': {'enc_out_act': None}}}"
      ]
     },
     "execution_count": 6,
     "metadata": {},
     "output_type": "execute_result"
    }
   ],
   "source": [
    "config"
   ]
  },
  {
   "cell_type": "code",
   "execution_count": 7,
   "metadata": {
    "execution": {
     "iopub.execute_input": "2023-07-09T09:14:07.852423Z",
     "iopub.status.busy": "2023-07-09T09:14:07.852254Z",
     "iopub.status.idle": "2023-07-09T09:14:42.671199Z",
     "shell.execute_reply": "2023-07-09T09:14:42.670511Z"
    }
   },
   "outputs": [],
   "source": [
    "rng = np.random.default_rng(29567)\n",
    "\n",
    "yes_samples = set(rng.choice(total_configs, size=200, replace=False))\n",
    "\n",
    "\n",
    "data_params_l = []\n",
    "for kv_tuples in itertools.product(\n",
    "    *[[(k, v) for v in vlist] for k, vlist in data_params_lists.items()]\n",
    "):\n",
    "    data_params_l.append(dict(kv_tuples))\n",
    "\n",
    "model_params_l = []\n",
    "for kv_tuples in itertools.product(\n",
    "    *[[(k, v) for v in vlist] for k, vlist in model_params_lists.items()]\n",
    "):\n",
    "    model_params_l.append(dict(kv_tuples))\n",
    "\n",
    "train_params_l = []\n",
    "for kv_tuples in itertools.product(\n",
    "    *[[(k, v) for v in vlist] for k, vlist in train_params_lists.items()]\n",
    "):\n",
    "    train_params_l.append(dict(kv_tuples))\n",
    "\n",
    "adv_opt_kwargs_l = []\n",
    "for kv_tuples in itertools.product(\n",
    "    *[[(k, v) for v in vlist] for k, vlist in adv_opt_kwargs_lists.items()]\n",
    "):\n",
    "    adv_opt_kwargs_l.append(dict(kv_tuples))\n",
    "\n",
    "\n",
    "for i, (data_params, model_params, train_params, adv_opt_kwargs) in enumerate(\n",
    "    itertools.product(data_params_l, model_params_l, train_params_l, adv_opt_kwargs_l)\n",
    "):\n",
    "    if i not in yes_samples:\n",
    "        continue\n",
    "\n",
    "    new_config = deepcopy(config)\n",
    "\n",
    "    new_config[\"data_params\"].update(data_params)\n",
    "    new_config[\"model_params\"][\"dann_kwargs\"].update(model_params)\n",
    "    new_config[\"train_params\"].update(train_params)\n",
    "    new_config[\"train_params\"][\"adv_opt_kwargs\"].update(adv_opt_kwargs)\n",
    "\n",
    "    new_config[\"lib_params\"][\"manual_seed\"] = int(rng.integers(0, 2**32))\n",
    "\n",
    "    version = f\"{CONFIG_FNAME_PREFIX}-{i}\"\n",
    "    new_config[\"model_params\"][\"model_version\"] = version\n",
    "\n",
    "    with open(os.path.join(CONFIG_DIR, MODEL_NAME, f\"{version}.yml\"), \"w\") as f:\n",
    "        yaml.safe_dump(new_config, f)"
   ]
  },
  {
   "cell_type": "code",
   "execution_count": 8,
   "metadata": {
    "execution": {
     "iopub.execute_input": "2023-07-09T09:14:42.674485Z",
     "iopub.status.busy": "2023-07-09T09:14:42.674285Z",
     "iopub.status.idle": "2023-07-09T09:14:42.682346Z",
     "shell.execute_reply": "2023-07-09T09:14:42.681895Z"
    }
   },
   "outputs": [
    {
     "name": "stdout",
     "output_type": "stream",
     "text": [
      "data_params:\n",
      "  all_genes: false\n",
      "  data_dir: data\n",
      "  dset: dlpfc\n",
      "  n_markers: 80\n",
      "  n_mix: 10\n",
      "  n_spots: 100000\n",
      "  samp_split: true\n",
      "  sc_id: GSE144136\n",
      "  scaler_name: standard\n",
      "  st_id: spatialLIBD\n",
      "  st_split: false\n",
      "lib_params:\n",
      "  manual_seed: 1420963474\n",
      "model_params:\n",
      "  dann_kwargs:\n",
      "    alpha_: 3\n",
      "    dis_dropout_factor: 1\n",
      "    dropout: 0.5\n",
      "    emb_dim: 64\n",
      "    enc_hidden_layer_sizes:\n",
      "    - 256\n",
      "    - 128\n",
      "    enc_out_act: null\n",
      "  model_version: gen_dlpfc_dlpfc-932870\n",
      "train_params:\n",
      "  adv_opt_kwargs:\n",
      "    betas:\n",
      "    - 0.5\n",
      "    - 0.999\n",
      "    eps: 1.0e-07\n",
      "    lr: 0.001\n",
      "    weight_decay: 0.01\n",
      "  batch_size: 512\n",
      "  early_stop_crit: 100\n",
      "  early_stop_crit_adv: 500\n",
      "  epochs: 500\n",
      "  lambda: 0.5\n",
      "  min_epochs: 40\n",
      "  min_epochs_adv: 100\n",
      "  plateau_kwargs:\n",
      "    factor: 0.5\n",
      "    min_lr: 2.0e-06\n",
      "    patience: 50\n",
      "    verbose: true\n",
      "  pretraining: false\n",
      "  reverse_val: false\n",
      "  source_first: false\n",
      "  two_step: false\n",
      "\n"
     ]
    }
   ],
   "source": [
    "print(yaml.safe_dump(new_config))\n"
   ]
  },
  {
   "cell_type": "code",
   "execution_count": 9,
   "metadata": {
    "execution": {
     "iopub.execute_input": "2023-07-09T09:14:42.684939Z",
     "iopub.status.busy": "2023-07-09T09:14:42.684771Z",
     "iopub.status.idle": "2023-07-09T09:14:42.727239Z",
     "shell.execute_reply": "2023-07-09T09:14:42.726780Z"
    }
   },
   "outputs": [],
   "source": [
    "lines = [\n",
    "    os.path.basename(name)\n",
    "    for name in sorted(glob.glob(os.path.join(CONFIG_DIR, MODEL_NAME, f\"{CONFIG_FNAME_PREFIX}-*.yml\")))\n",
    "]\n",
    "with open(\n",
    "    os.path.join(CONFIG_DIR, MODEL_NAME, \"a_list.txt\"),\n",
    "    mode=\"wt\",\n",
    "    encoding=\"utf-8\",\n",
    ") as myfile:\n",
    "    myfile.write(\"\\n\".join(lines))\n",
    "    myfile.write(\"\\n\")"
   ]
  },
  {
   "cell_type": "code",
   "execution_count": null,
   "metadata": {},
   "outputs": [],
   "source": []
  }
 ],
 "metadata": {
  "kernelspec": {
   "display_name": "agreda",
   "language": "python",
   "name": "python3"
  },
  "language_info": {
   "codemirror_mode": {
    "name": "ipython",
    "version": 3
   },
   "file_extension": ".py",
   "mimetype": "text/x-python",
   "name": "python",
   "nbconvert_exporter": "python",
   "pygments_lexer": "ipython3",
   "version": "3.8.10"
  }
 },
 "nbformat": 4,
 "nbformat_minor": 2
}
