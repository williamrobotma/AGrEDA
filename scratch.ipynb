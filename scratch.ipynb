{
 "cells": [
  {
   "cell_type": "code",
   "execution_count": 1,
   "metadata": {},
   "outputs": [],
   "source": [
    "import os\n",
    "import scanpy as sc\n",
    "import anndata as ad\n",
    "import glob\n",
    "# import pyreadr\n",
    "\n",
    "import h5py\n",
    "\n",
    "import numpy as np\n",
    "import pandas as pd\n",
    "from scipy.sparse import csr_matrix\n"
   ]
  },
  {
   "cell_type": "code",
   "execution_count": 2,
   "metadata": {},
   "outputs": [],
   "source": [
    "gs1_dir = \"data/spotless/gold_standard_1/\""
   ]
  },
  {
   "cell_type": "code",
   "execution_count": 3,
   "metadata": {},
   "outputs": [
    {
     "data": {
      "text/plain": [
       "[AnnData object with n_obs × n_vars = 9 × 10000\n",
       "     obs: 'orig.ident', 'nCount_RNA', 'nFeature_RNA', 'spot_composition.Endothelial', 'spot_composition.Excitatory.layer.3', 'spot_composition.Excitatory.layer.4', 'spot_composition.Excitatory.layer.II', 'spot_composition.Interneurons', 'spot_composition.Microglia', 'spot_composition.Astrocytes.deep', 'spot_composition.Astrocytes.superficial', 'spot_composition.Interneurons.deep', 'spot_composition.OPC', 'spot_composition.spot_no', 'relative_spot_composition.Endothelial', 'relative_spot_composition.Excitatory.layer.3', 'relative_spot_composition.Excitatory.layer.4', 'relative_spot_composition.Excitatory.layer.II', 'relative_spot_composition.Interneurons', 'relative_spot_composition.Microglia', 'relative_spot_composition.Astrocytes.deep', 'relative_spot_composition.Astrocytes.superficial', 'relative_spot_composition.Interneurons.deep', 'relative_spot_composition.OPC', 'relative_spot_composition.spot_no', 'coordinates.x', 'coordinates.y'\n",
       "     var: 'features',\n",
       " AnnData object with n_obs × n_vars = 9 × 10000\n",
       "     obs: 'orig.ident', 'nCount_RNA', 'nFeature_RNA', 'spot_composition.Astrocytes.deep', 'spot_composition.Endothelial', 'spot_composition.Excitatory.layer.3', 'spot_composition.Excitatory.layer.4', 'spot_composition.Astrocytes.superficial', 'spot_composition.Excitatory.layer.II', 'spot_composition.Microglia', 'spot_composition.Interneurons', 'spot_composition.OPC', 'spot_composition.spot_no', 'relative_spot_composition.Astrocytes.deep', 'relative_spot_composition.Endothelial', 'relative_spot_composition.Excitatory.layer.3', 'relative_spot_composition.Excitatory.layer.4', 'relative_spot_composition.Astrocytes.superficial', 'relative_spot_composition.Excitatory.layer.II', 'relative_spot_composition.Microglia', 'relative_spot_composition.Interneurons', 'relative_spot_composition.OPC', 'relative_spot_composition.spot_no', 'coordinates.x', 'coordinates.y'\n",
       "     var: 'features',\n",
       " AnnData object with n_obs × n_vars = 9 × 10000\n",
       "     obs: 'orig.ident', 'nCount_RNA', 'nFeature_RNA', 'spot_composition.Astrocytes.deep', 'spot_composition.Astrocytes.superficial', 'spot_composition.Excitatory.layer.3', 'spot_composition.Excitatory.layer.5.6', 'spot_composition.Interneurons.deep', 'spot_composition.Microglia', 'spot_composition.Interneurons', 'spot_composition.Neuroblasts', 'spot_composition.NSC', 'spot_composition.Oligodendrocytes', 'spot_composition.Endothelial', 'spot_composition.spot_no', 'relative_spot_composition.Astrocytes.deep', 'relative_spot_composition.Astrocytes.superficial', 'relative_spot_composition.Excitatory.layer.3', 'relative_spot_composition.Excitatory.layer.5.6', 'relative_spot_composition.Interneurons.deep', 'relative_spot_composition.Microglia', 'relative_spot_composition.Interneurons', 'relative_spot_composition.Neuroblasts', 'relative_spot_composition.NSC', 'relative_spot_composition.Oligodendrocytes', 'relative_spot_composition.Endothelial', 'relative_spot_composition.spot_no', 'coordinates.x', 'coordinates.y'\n",
       "     var: 'features',\n",
       " AnnData object with n_obs × n_vars = 9 × 10000\n",
       "     obs: 'orig.ident', 'nCount_RNA', 'nFeature_RNA', 'spot_composition.Excitatory.layer.5.6', 'spot_composition.Astrocytes.deep', 'spot_composition.Astrocytes.superficial', 'spot_composition.Endothelial', 'spot_composition.Interneurons.deep', 'spot_composition.NSC', 'spot_composition.Oligodendrocytes', 'spot_composition.Excitatory.layer.4', 'spot_composition.Microglia', 'spot_composition.Interneurons', 'spot_composition.Excitatory.layer.3', 'spot_composition.spot_no', 'relative_spot_composition.Excitatory.layer.5.6', 'relative_spot_composition.Astrocytes.deep', 'relative_spot_composition.Astrocytes.superficial', 'relative_spot_composition.Endothelial', 'relative_spot_composition.Interneurons.deep', 'relative_spot_composition.NSC', 'relative_spot_composition.Oligodendrocytes', 'relative_spot_composition.Excitatory.layer.4', 'relative_spot_composition.Microglia', 'relative_spot_composition.Interneurons', 'relative_spot_composition.Excitatory.layer.3', 'relative_spot_composition.spot_no', 'coordinates.x', 'coordinates.y'\n",
       "     var: 'features',\n",
       " AnnData object with n_obs × n_vars = 9 × 10000\n",
       "     obs: 'orig.ident', 'nCount_RNA', 'nFeature_RNA', 'spot_composition.Astrocytes.superficial', 'spot_composition.Excitatory.layer.5.6', 'spot_composition.Oligodendrocytes', 'spot_composition.Endothelial', 'spot_composition.Excitatory.layer.4', 'spot_composition.OPC', 'spot_composition.Microglia', 'spot_composition.Ependymal', 'spot_composition.Excitatory.layer.3', 'spot_composition.Interneurons', 'spot_composition.spot_no', 'relative_spot_composition.Astrocytes.superficial', 'relative_spot_composition.Excitatory.layer.5.6', 'relative_spot_composition.Oligodendrocytes', 'relative_spot_composition.Endothelial', 'relative_spot_composition.Excitatory.layer.4', 'relative_spot_composition.OPC', 'relative_spot_composition.Microglia', 'relative_spot_composition.Ependymal', 'relative_spot_composition.Excitatory.layer.3', 'relative_spot_composition.Interneurons', 'relative_spot_composition.spot_no', 'coordinates.x', 'coordinates.y'\n",
       "     var: 'features',\n",
       " AnnData object with n_obs × n_vars = 9 × 10000\n",
       "     obs: 'orig.ident', 'nCount_RNA', 'nFeature_RNA', 'spot_composition.Astrocytes.superficial', 'spot_composition.Endothelial', 'spot_composition.Interneurons', 'spot_composition.Ependymal', 'spot_composition.Excitatory.layer.5.6', 'spot_composition.Interneurons.deep', 'spot_composition.Neural.progenitors', 'spot_composition.Neuroblasts', 'spot_composition.NSC', 'spot_composition.Oligodendrocytes', 'spot_composition.OPC', 'spot_composition.Excitatory.layer.3', 'spot_composition.Microglia', 'spot_composition.Astrocytes.deep', 'spot_composition.spot_no', 'relative_spot_composition.Astrocytes.superficial', 'relative_spot_composition.Endothelial', 'relative_spot_composition.Interneurons', 'relative_spot_composition.Ependymal', 'relative_spot_composition.Excitatory.layer.5.6', 'relative_spot_composition.Interneurons.deep', 'relative_spot_composition.Neural.progenitors', 'relative_spot_composition.Neuroblasts', 'relative_spot_composition.NSC', 'relative_spot_composition.Oligodendrocytes', 'relative_spot_composition.OPC', 'relative_spot_composition.Excitatory.layer.3', 'relative_spot_composition.Microglia', 'relative_spot_composition.Astrocytes.deep', 'relative_spot_composition.spot_no', 'coordinates.x', 'coordinates.y'\n",
       "     var: 'features',\n",
       " AnnData object with n_obs × n_vars = 9 × 10000\n",
       "     obs: 'orig.ident', 'nCount_RNA', 'nFeature_RNA', 'spot_composition.Choroid.plexus', 'spot_composition.Endothelial', 'spot_composition.Microglia', 'spot_composition.NSC', 'spot_composition.spot_no', 'relative_spot_composition.Choroid.plexus', 'relative_spot_composition.Endothelial', 'relative_spot_composition.Microglia', 'relative_spot_composition.NSC', 'relative_spot_composition.spot_no', 'coordinates.x', 'coordinates.y'\n",
       "     var: 'features']"
      ]
     },
     "execution_count": 3,
     "metadata": {},
     "output_type": "execute_result"
    }
   ],
   "source": [
    "fpaths = sorted(glob.glob(os.path.join(gs1_dir, \"*.h5ad\")))\n",
    "fovs = [sc.read_h5ad(name) for name in fpaths]\n",
    "fovs"
   ]
  },
  {
   "cell_type": "code",
   "execution_count": 4,
   "metadata": {},
   "outputs": [],
   "source": [
    "obs_cols = sorted(list(set.union(*[set(fov.obs.columns) for fov in fovs])))"
   ]
  },
  {
   "cell_type": "code",
   "execution_count": 5,
   "metadata": {},
   "outputs": [],
   "source": [
    "for fov in fovs:\n",
    "    fov.obs = fov.obs.reindex(columns=obs_cols)"
   ]
  },
  {
   "cell_type": "code",
   "execution_count": 6,
   "metadata": {},
   "outputs": [
    {
     "data": {
      "text/plain": [
       "['Eng2019_cortex_svz_fov0',\n",
       " 'Eng2019_cortex_svz_fov1',\n",
       " 'Eng2019_cortex_svz_fov2',\n",
       " 'Eng2019_cortex_svz_fov3',\n",
       " 'Eng2019_cortex_svz_fov4',\n",
       " 'Eng2019_cortex_svz_fov5',\n",
       " 'Eng2019_cortex_svz_fov6']"
      ]
     },
     "execution_count": 6,
     "metadata": {},
     "output_type": "execute_result"
    }
   ],
   "source": [
    "# for column in fovs[0].obs.columns:\n",
    "#     display(fovs[0].obs[column])\n",
    "[os.path.basename(f).split(\".\")[0] for f in fpaths]"
   ]
  },
  {
   "cell_type": "code",
   "execution_count": 12,
   "metadata": {},
   "outputs": [],
   "source": [
    "gs1_ref_path = \"data/spotless/reference/gold_standard_1.h5ad\""
   ]
  },
  {
   "cell_type": "code",
   "execution_count": 13,
   "metadata": {},
   "outputs": [],
   "source": [
    "gs1_ref = sc.read_h5ad(gs1_ref_path)"
   ]
  },
  {
   "cell_type": "code",
   "execution_count": 14,
   "metadata": {},
   "outputs": [
    {
     "data": {
      "text/plain": [
       "AnnData object with n_obs × n_vars = 906 × 10000\n",
       "    obs: 'orig.ident', 'nCount_RNA', 'nFeature_RNA', 'louvain', 'celltype', 'Field.of.View', 'X', 'Y', 'celltype_coarse', 'Region'\n",
       "    var: 'features'"
      ]
     },
     "execution_count": 14,
     "metadata": {},
     "output_type": "execute_result"
    }
   ],
   "source": [
    "gs1_ref"
   ]
  },
  {
   "cell_type": "code",
   "execution_count": 6,
   "metadata": {},
   "outputs": [],
   "source": [
    "# adata.obs"
   ]
  },
  {
   "cell_type": "code",
   "execution_count": 11,
   "metadata": {},
   "outputs": [
    {
     "name": "stdout",
     "output_type": "stream",
     "text": [
      "AnnData object with n_obs × n_vars = 9 × 10000\n",
      "AnnData object with n_obs × n_vars = 9 × 10000\n",
      "AnnData object with n_obs × n_vars = 9 × 10000\n",
      "AnnData object with n_obs × n_vars = 9 × 10000\n",
      "AnnData object with n_obs × n_vars = 9 × 10000\n",
      "AnnData object with n_obs × n_vars = 9 × 10000\n",
      "AnnData object with n_obs × n_vars = 9 × 10000\n"
     ]
    }
   ],
   "source": [
    "# result = pyreadr.read_r('data/spotless/gold_standard_1/Eng2019_cortex_svz_fov0.rds')\n",
    "with h5py.File(\"data/spotless/gold_standard_1.h5\" , \"r\") as f:\n",
    "    for name in f:\n",
    "        gene_names = [str(gene, \"utf-8\") for gene in f[name][\"geneNames\"][()]]\n",
    "        ad.AnnData(csr_matrix(f[name][\"counts\"][()]), dtype=np.int64)"
   ]
  },
  {
   "cell_type": "code",
   "execution_count": null,
   "metadata": {},
   "outputs": [],
   "source": []
  }
 ],
 "metadata": {
  "kernelspec": {
   "display_name": "agreda",
   "language": "python",
   "name": "python3"
  },
  "language_info": {
   "codemirror_mode": {
    "name": "ipython",
    "version": 3
   },
   "file_extension": ".py",
   "mimetype": "text/x-python",
   "name": "python",
   "nbconvert_exporter": "python",
   "pygments_lexer": "ipython3",
   "version": "3.8.10"
  },
  "orig_nbformat": 4
 },
 "nbformat": 4,
 "nbformat_minor": 2
}
