{
 "cells": [
  {
   "cell_type": "code",
   "execution_count": 1,
   "metadata": {},
   "outputs": [],
   "source": [
    "import glob\n",
    "import os\n",
    "\n",
    "import anndata as ad\n",
    "import scanpy as sc\n",
    "from scipy.sparse import csr_matrix\n",
    "\n",
    "\n",
    "from src.da_utils.data_processing import qc_sc\n"
   ]
  },
  {
   "cell_type": "code",
   "execution_count": 2,
   "metadata": {},
   "outputs": [],
   "source": [
    "SPOTLESS_DIR = \"data/spotless/standards\"\n",
    "\n",
    "CORTEX_DIR = \"data/mouse_cortex\"\n",
    "OLFACTORY_DIR = \"data/mouse_olfactory\"\n",
    "# SC_ID_OLFACTORY = \"spotless_mouse_olfactory\"\n",
    "# SC_ID_CORTEX = \"spotless_mouse_cortex\"\n",
    "# SC_ID_VISUAL = \"spotless_mouse_visual\"\n",
    "\n",
    "\n",
    "# %%\n",
    "\n",
    "standard_to_id = {\n",
    "    \"gold_standard_1\": \"spotless_mouse_cortex\",\n",
    "    \"gold_standard_2\": \"spotless_mouse_olfactory\",\n",
    "    \"gold_standard_3\": \"spotless_mouse_visual\",\n",
    "    \"gold_standard_3_12celltypes\": \"spotless_mouse_visual\",\n",
    "}\n",
    "\n",
    "id_to_dir = {\n",
    "    \"spotless_mouse_cortex\": CORTEX_DIR,\n",
    "    \"spotless_mouse_olfactory\": OLFACTORY_DIR,\n",
    "    \"spotless_mouse_visual\": CORTEX_DIR,\n",
    "}\n",
    "\n"
   ]
  },
  {
   "cell_type": "code",
   "execution_count": 45,
   "metadata": {},
   "outputs": [],
   "source": [
    "def cat_to_obsm(cat, adata, drop_cols=None):\n",
    "    if drop_cols is None:\n",
    "        drop_cols = []\n",
    "    selected_cols = adata.obs.columns.to_series().map(lambda x: x.split(\".\")[0] == cat)\n",
    "    adata.obsm[cat] = (\n",
    "        adata.obs.loc[:, selected_cols]\n",
    "        .rename(columns=lambda x: x[len(cat + \".\") :])\n",
    "        .drop(columns=drop_cols)\n",
    "    )\n",
    "    keep_cols = ~selected_cols\n",
    "    # print(keep_cols)\n",
    "\n",
    "    for drop_col in drop_cols:\n",
    "        keep_cols[cat + \".\" + drop_col] = True\n",
    "    adata.obs = adata.obs.loc[:, keep_cols]\n",
    "\n",
    "fpaths = sorted(glob.glob(os.path.join(SPOTLESS_DIR, \"gold_standard_1\", \"*.h5ad\")))\n",
    "sample_ids = [os.path.basename(f).split(\".\")[0] for f in fpaths]\n",
    "fovs = [sc.read_h5ad(name) for name in fpaths]\n",
    "\n",
    "obs_cols = sorted(list(set.union(*[set(fov.obs.columns) for fov in fovs])))\n",
    "for fov, sample_id in zip(fovs, sample_ids):\n",
    "    fov.obs = fov.obs.reindex(columns=obs_cols)\n",
    "    fov.obs = fov.obs.fillna(0)\n",
    "    fov.obs = fov.obs.rename(columns={\"coordinates.x\": \"X\", \"coordinates.y\": \"Y\"})\n",
    "    fov.X = csr_matrix(fov.X.astype(\"float32\"))\n",
    "    fov.raw = fov\n",
    "\n",
    "    fov.obs = fov.obs.loc[:,~fov.obs.columns.str.contains(\"spot_no\")]\n",
    "\n",
    "    cat_to_obsm(\"relative_spot_composition\", fov)\n",
    "    cat_to_obsm(\"spot_composition\", fov)"
   ]
  },
  {
   "cell_type": "code",
   "execution_count": 49,
   "metadata": {},
   "outputs": [
    {
     "data": {
      "text/html": [
       "<div>\n",
       "<style scoped>\n",
       "    .dataframe tbody tr th:only-of-type {\n",
       "        vertical-align: middle;\n",
       "    }\n",
       "\n",
       "    .dataframe tbody tr th {\n",
       "        vertical-align: top;\n",
       "    }\n",
       "\n",
       "    .dataframe thead th {\n",
       "        text-align: right;\n",
       "    }\n",
       "</style>\n",
       "<table border=\"1\" class=\"dataframe\">\n",
       "  <thead>\n",
       "    <tr style=\"text-align: right;\">\n",
       "      <th></th>\n",
       "      <th>Astrocytes.deep</th>\n",
       "      <th>Astrocytes.superficial</th>\n",
       "      <th>Choroid.plexus</th>\n",
       "      <th>Endothelial</th>\n",
       "      <th>Ependymal</th>\n",
       "      <th>Excitatory.layer.3</th>\n",
       "      <th>Excitatory.layer.4</th>\n",
       "      <th>Excitatory.layer.5.6</th>\n",
       "      <th>Excitatory.layer.II</th>\n",
       "      <th>Interneurons</th>\n",
       "      <th>Interneurons.deep</th>\n",
       "      <th>Microglia</th>\n",
       "      <th>NSC</th>\n",
       "      <th>Neural.progenitors</th>\n",
       "      <th>Neuroblasts</th>\n",
       "      <th>OPC</th>\n",
       "      <th>Oligodendrocytes</th>\n",
       "    </tr>\n",
       "  </thead>\n",
       "  <tbody>\n",
       "    <tr>\n",
       "      <th>spot_1</th>\n",
       "      <td>0.000000</td>\n",
       "      <td>0.000000</td>\n",
       "      <td>0.0</td>\n",
       "      <td>0.058824</td>\n",
       "      <td>0.0</td>\n",
       "      <td>0.176471</td>\n",
       "      <td>0.235294</td>\n",
       "      <td>0.0</td>\n",
       "      <td>0.352941</td>\n",
       "      <td>0.117647</td>\n",
       "      <td>0.000000</td>\n",
       "      <td>0.058824</td>\n",
       "      <td>0.0</td>\n",
       "      <td>0.0</td>\n",
       "      <td>0.0</td>\n",
       "      <td>0.000000</td>\n",
       "      <td>0.0</td>\n",
       "    </tr>\n",
       "    <tr>\n",
       "      <th>spot_2</th>\n",
       "      <td>0.076923</td>\n",
       "      <td>0.076923</td>\n",
       "      <td>0.0</td>\n",
       "      <td>0.000000</td>\n",
       "      <td>0.0</td>\n",
       "      <td>0.076923</td>\n",
       "      <td>0.153846</td>\n",
       "      <td>0.0</td>\n",
       "      <td>0.461538</td>\n",
       "      <td>0.076923</td>\n",
       "      <td>0.000000</td>\n",
       "      <td>0.076923</td>\n",
       "      <td>0.0</td>\n",
       "      <td>0.0</td>\n",
       "      <td>0.0</td>\n",
       "      <td>0.000000</td>\n",
       "      <td>0.0</td>\n",
       "    </tr>\n",
       "    <tr>\n",
       "      <th>spot_3</th>\n",
       "      <td>0.000000</td>\n",
       "      <td>0.333333</td>\n",
       "      <td>0.0</td>\n",
       "      <td>0.166667</td>\n",
       "      <td>0.0</td>\n",
       "      <td>0.000000</td>\n",
       "      <td>0.000000</td>\n",
       "      <td>0.0</td>\n",
       "      <td>0.166667</td>\n",
       "      <td>0.166667</td>\n",
       "      <td>0.166667</td>\n",
       "      <td>0.000000</td>\n",
       "      <td>0.0</td>\n",
       "      <td>0.0</td>\n",
       "      <td>0.0</td>\n",
       "      <td>0.000000</td>\n",
       "      <td>0.0</td>\n",
       "    </tr>\n",
       "    <tr>\n",
       "      <th>spot_4</th>\n",
       "      <td>0.000000</td>\n",
       "      <td>0.000000</td>\n",
       "      <td>0.0</td>\n",
       "      <td>0.000000</td>\n",
       "      <td>0.0</td>\n",
       "      <td>0.000000</td>\n",
       "      <td>0.142857</td>\n",
       "      <td>0.0</td>\n",
       "      <td>0.571429</td>\n",
       "      <td>0.285714</td>\n",
       "      <td>0.000000</td>\n",
       "      <td>0.000000</td>\n",
       "      <td>0.0</td>\n",
       "      <td>0.0</td>\n",
       "      <td>0.0</td>\n",
       "      <td>0.000000</td>\n",
       "      <td>0.0</td>\n",
       "    </tr>\n",
       "    <tr>\n",
       "      <th>spot_5</th>\n",
       "      <td>0.000000</td>\n",
       "      <td>0.000000</td>\n",
       "      <td>0.0</td>\n",
       "      <td>0.000000</td>\n",
       "      <td>0.0</td>\n",
       "      <td>0.000000</td>\n",
       "      <td>0.000000</td>\n",
       "      <td>0.0</td>\n",
       "      <td>0.636364</td>\n",
       "      <td>0.181818</td>\n",
       "      <td>0.000000</td>\n",
       "      <td>0.000000</td>\n",
       "      <td>0.0</td>\n",
       "      <td>0.0</td>\n",
       "      <td>0.0</td>\n",
       "      <td>0.181818</td>\n",
       "      <td>0.0</td>\n",
       "    </tr>\n",
       "    <tr>\n",
       "      <th>spot_6</th>\n",
       "      <td>0.000000</td>\n",
       "      <td>0.800000</td>\n",
       "      <td>0.0</td>\n",
       "      <td>0.000000</td>\n",
       "      <td>0.0</td>\n",
       "      <td>0.000000</td>\n",
       "      <td>0.000000</td>\n",
       "      <td>0.0</td>\n",
       "      <td>0.000000</td>\n",
       "      <td>0.000000</td>\n",
       "      <td>0.000000</td>\n",
       "      <td>0.200000</td>\n",
       "      <td>0.0</td>\n",
       "      <td>0.0</td>\n",
       "      <td>0.0</td>\n",
       "      <td>0.000000</td>\n",
       "      <td>0.0</td>\n",
       "    </tr>\n",
       "    <tr>\n",
       "      <th>spot_7</th>\n",
       "      <td>0.000000</td>\n",
       "      <td>0.000000</td>\n",
       "      <td>0.0</td>\n",
       "      <td>0.000000</td>\n",
       "      <td>0.0</td>\n",
       "      <td>0.222222</td>\n",
       "      <td>0.222222</td>\n",
       "      <td>0.0</td>\n",
       "      <td>0.333333</td>\n",
       "      <td>0.111111</td>\n",
       "      <td>0.000000</td>\n",
       "      <td>0.111111</td>\n",
       "      <td>0.0</td>\n",
       "      <td>0.0</td>\n",
       "      <td>0.0</td>\n",
       "      <td>0.000000</td>\n",
       "      <td>0.0</td>\n",
       "    </tr>\n",
       "    <tr>\n",
       "      <th>spot_8</th>\n",
       "      <td>0.000000</td>\n",
       "      <td>0.000000</td>\n",
       "      <td>0.0</td>\n",
       "      <td>0.083333</td>\n",
       "      <td>0.0</td>\n",
       "      <td>0.000000</td>\n",
       "      <td>0.083333</td>\n",
       "      <td>0.0</td>\n",
       "      <td>0.583333</td>\n",
       "      <td>0.250000</td>\n",
       "      <td>0.000000</td>\n",
       "      <td>0.000000</td>\n",
       "      <td>0.0</td>\n",
       "      <td>0.0</td>\n",
       "      <td>0.0</td>\n",
       "      <td>0.000000</td>\n",
       "      <td>0.0</td>\n",
       "    </tr>\n",
       "    <tr>\n",
       "      <th>spot_9</th>\n",
       "      <td>0.000000</td>\n",
       "      <td>0.000000</td>\n",
       "      <td>0.0</td>\n",
       "      <td>0.500000</td>\n",
       "      <td>0.0</td>\n",
       "      <td>0.000000</td>\n",
       "      <td>0.000000</td>\n",
       "      <td>0.0</td>\n",
       "      <td>0.000000</td>\n",
       "      <td>0.000000</td>\n",
       "      <td>0.000000</td>\n",
       "      <td>0.500000</td>\n",
       "      <td>0.0</td>\n",
       "      <td>0.0</td>\n",
       "      <td>0.0</td>\n",
       "      <td>0.000000</td>\n",
       "      <td>0.0</td>\n",
       "    </tr>\n",
       "  </tbody>\n",
       "</table>\n",
       "</div>"
      ],
      "text/plain": [
       "        Astrocytes.deep  Astrocytes.superficial  Choroid.plexus  Endothelial  \\\n",
       "spot_1         0.000000                0.000000             0.0     0.058824   \n",
       "spot_2         0.076923                0.076923             0.0     0.000000   \n",
       "spot_3         0.000000                0.333333             0.0     0.166667   \n",
       "spot_4         0.000000                0.000000             0.0     0.000000   \n",
       "spot_5         0.000000                0.000000             0.0     0.000000   \n",
       "spot_6         0.000000                0.800000             0.0     0.000000   \n",
       "spot_7         0.000000                0.000000             0.0     0.000000   \n",
       "spot_8         0.000000                0.000000             0.0     0.083333   \n",
       "spot_9         0.000000                0.000000             0.0     0.500000   \n",
       "\n",
       "        Ependymal  Excitatory.layer.3  Excitatory.layer.4  \\\n",
       "spot_1        0.0            0.176471            0.235294   \n",
       "spot_2        0.0            0.076923            0.153846   \n",
       "spot_3        0.0            0.000000            0.000000   \n",
       "spot_4        0.0            0.000000            0.142857   \n",
       "spot_5        0.0            0.000000            0.000000   \n",
       "spot_6        0.0            0.000000            0.000000   \n",
       "spot_7        0.0            0.222222            0.222222   \n",
       "spot_8        0.0            0.000000            0.083333   \n",
       "spot_9        0.0            0.000000            0.000000   \n",
       "\n",
       "        Excitatory.layer.5.6  Excitatory.layer.II  Interneurons  \\\n",
       "spot_1                   0.0             0.352941      0.117647   \n",
       "spot_2                   0.0             0.461538      0.076923   \n",
       "spot_3                   0.0             0.166667      0.166667   \n",
       "spot_4                   0.0             0.571429      0.285714   \n",
       "spot_5                   0.0             0.636364      0.181818   \n",
       "spot_6                   0.0             0.000000      0.000000   \n",
       "spot_7                   0.0             0.333333      0.111111   \n",
       "spot_8                   0.0             0.583333      0.250000   \n",
       "spot_9                   0.0             0.000000      0.000000   \n",
       "\n",
       "        Interneurons.deep  Microglia  NSC  Neural.progenitors  Neuroblasts  \\\n",
       "spot_1           0.000000   0.058824  0.0                 0.0          0.0   \n",
       "spot_2           0.000000   0.076923  0.0                 0.0          0.0   \n",
       "spot_3           0.166667   0.000000  0.0                 0.0          0.0   \n",
       "spot_4           0.000000   0.000000  0.0                 0.0          0.0   \n",
       "spot_5           0.000000   0.000000  0.0                 0.0          0.0   \n",
       "spot_6           0.000000   0.200000  0.0                 0.0          0.0   \n",
       "spot_7           0.000000   0.111111  0.0                 0.0          0.0   \n",
       "spot_8           0.000000   0.000000  0.0                 0.0          0.0   \n",
       "spot_9           0.000000   0.500000  0.0                 0.0          0.0   \n",
       "\n",
       "             OPC  Oligodendrocytes  \n",
       "spot_1  0.000000               0.0  \n",
       "spot_2  0.000000               0.0  \n",
       "spot_3  0.000000               0.0  \n",
       "spot_4  0.000000               0.0  \n",
       "spot_5  0.181818               0.0  \n",
       "spot_6  0.000000               0.0  \n",
       "spot_7  0.000000               0.0  \n",
       "spot_8  0.000000               0.0  \n",
       "spot_9  0.000000               0.0  "
      ]
     },
     "execution_count": 49,
     "metadata": {},
     "output_type": "execute_result"
    }
   ],
   "source": [
    "fovs[0].obsm[\"relative_spot_composition\"]"
   ]
  },
  {
   "cell_type": "code",
   "execution_count": 55,
   "metadata": {},
   "outputs": [
    {
     "name": "stdout",
     "output_type": "stream",
     "text": [
      "Processing gold_standard_1 to spotless_mouse_cortex in data/mouse_cortex\n",
      "0 mitochondrial genes\n"
     ]
    }
   ],
   "source": [
    "for ref_path in glob.glob(os.path.join(SPOTLESS_DIR, \"reference\", \"gold_standard_1.h5ad\")):\n",
    "    if \"19celltypes\" in ref_path:\n",
    "        continue\n",
    "\n",
    "    name = os.path.basename(ref_path).split(\".\")[0]\n",
    "    id = standard_to_id[name]\n",
    "\n",
    "    dset_dir = id_to_dir[id]\n",
    "    print(f\"Processing {name} to {id} in {dset_dir}\")\n",
    "\n",
    "    sc_dir = os.path.join(dset_dir, \"sc_adata\")\n",
    "    if not os.path.exists(sc_dir):\n",
    "        os.makedirs(sc_dir)\n",
    "\n",
    "    adata_sc = sc.read_h5ad(ref_path)\n",
    "\n",
    "    qc_sc(adata_sc)\n",
    "\n",
    "    adata_sc.obs = adata_sc.obs.rename(columns={\"celltype\": \"cell_subclass\"})\n",
    "\n",
    "    adata_sc.X = csr_matrix(adata_sc.X.astype(\"float32\"))\n",
    "    adata_sc.raw = adata_sc\n",
    "\n",
    "    break\n",
    "\n",
    "    # adata_sc.write(os.path.join(sc_dir, f\"{id}.h5ad\"))\n"
   ]
  },
  {
   "cell_type": "code",
   "execution_count": 59,
   "metadata": {},
   "outputs": [
    {
     "data": {
      "text/plain": [
       "{'Excitatory.layer.3': 'Excitatory layer 3',\n",
       " 'Excitatory.layer.II': 'Excitatory layer II',\n",
       " 'Interneurons': 'Interneurons',\n",
       " 'Excitatory.layer.4': 'Excitatory layer 4',\n",
       " 'Microglia': 'Microglia',\n",
       " 'Astrocytes.deep': 'Astrocytes deep',\n",
       " 'Endothelial': 'Endothelial',\n",
       " 'Interneurons.deep': 'Interneurons deep',\n",
       " 'Astrocytes.superficial': 'Astrocytes superficial',\n",
       " 'OPC': 'OPC',\n",
       " 'Excitatory.layer.5.6': 'Excitatory layer 5/6',\n",
       " 'Neuroblasts': 'Neuroblasts',\n",
       " 'NSC': 'NSC',\n",
       " 'Oligodendrocytes': 'Oligodendrocytes',\n",
       " 'Ependymal': 'Ependymal',\n",
       " 'Neural.progenitors': 'Neural progenitors',\n",
       " 'Choroid.plexus': 'Choroid plexus'}"
      ]
     },
     "execution_count": 59,
     "metadata": {},
     "output_type": "execute_result"
    }
   ],
   "source": [
    "import re\n",
    "\n"
   ]
  },
  {
   "cell_type": "code",
   "execution_count": 69,
   "metadata": {},
   "outputs": [],
   "source": [
    "adata = sc.read_h5ad(\"data/mouse_cortex/sc_adata/spotless_mouse_cortex.h5ad\")"
   ]
  },
  {
   "cell_type": "code",
   "execution_count": 70,
   "metadata": {},
   "outputs": [
    {
     "data": {
      "text/plain": [
       "150.0"
      ]
     },
     "execution_count": 70,
     "metadata": {},
     "output_type": "execute_result"
    }
   ],
   "source": [
    "adata.X.toarray().max()"
   ]
  },
  {
   "cell_type": "code",
   "execution_count": 71,
   "metadata": {},
   "outputs": [
    {
     "data": {
      "text/plain": [
       "150.0"
      ]
     },
     "execution_count": 71,
     "metadata": {},
     "output_type": "execute_result"
    }
   ],
   "source": [
    "adata.raw.X.toarray().max()"
   ]
  },
  {
   "cell_type": "code",
   "execution_count": 5,
   "metadata": {},
   "outputs": [],
   "source": [
    "for fov in fovs:\n",
    "    fov.obs = fov.obs.reindex(columns=obs_cols)"
   ]
  },
  {
   "cell_type": "code",
   "execution_count": 6,
   "metadata": {},
   "outputs": [
    {
     "data": {
      "text/plain": [
       "['Eng2019_cortex_svz_fov0',\n",
       " 'Eng2019_cortex_svz_fov1',\n",
       " 'Eng2019_cortex_svz_fov2',\n",
       " 'Eng2019_cortex_svz_fov3',\n",
       " 'Eng2019_cortex_svz_fov4',\n",
       " 'Eng2019_cortex_svz_fov5',\n",
       " 'Eng2019_cortex_svz_fov6']"
      ]
     },
     "execution_count": 6,
     "metadata": {},
     "output_type": "execute_result"
    }
   ],
   "source": [
    "# for column in fovs[0].obs.columns:\n",
    "#     display(fovs[0].obs[column])\n",
    "[os.path.basename(f).split(\".\")[0] for f in fpaths]"
   ]
  },
  {
   "cell_type": "code",
   "execution_count": 12,
   "metadata": {},
   "outputs": [],
   "source": [
    "gs1_ref_path = \"data/spotless/reference/gold_standard_1.h5ad\""
   ]
  },
  {
   "cell_type": "code",
   "execution_count": 13,
   "metadata": {},
   "outputs": [],
   "source": [
    "gs1_ref = sc.read_h5ad(gs1_ref_path)"
   ]
  },
  {
   "cell_type": "code",
   "execution_count": 14,
   "metadata": {},
   "outputs": [
    {
     "data": {
      "text/plain": [
       "AnnData object with n_obs × n_vars = 906 × 10000\n",
       "    obs: 'orig.ident', 'nCount_RNA', 'nFeature_RNA', 'louvain', 'celltype', 'Field.of.View', 'X', 'Y', 'celltype_coarse', 'Region'\n",
       "    var: 'features'"
      ]
     },
     "execution_count": 14,
     "metadata": {},
     "output_type": "execute_result"
    }
   ],
   "source": [
    "gs1_ref"
   ]
  },
  {
   "cell_type": "code",
   "execution_count": 6,
   "metadata": {},
   "outputs": [],
   "source": [
    "# adata.obs"
   ]
  },
  {
   "cell_type": "code",
   "execution_count": 11,
   "metadata": {},
   "outputs": [
    {
     "name": "stdout",
     "output_type": "stream",
     "text": [
      "AnnData object with n_obs × n_vars = 9 × 10000\n",
      "AnnData object with n_obs × n_vars = 9 × 10000\n",
      "AnnData object with n_obs × n_vars = 9 × 10000\n",
      "AnnData object with n_obs × n_vars = 9 × 10000\n",
      "AnnData object with n_obs × n_vars = 9 × 10000\n",
      "AnnData object with n_obs × n_vars = 9 × 10000\n",
      "AnnData object with n_obs × n_vars = 9 × 10000\n"
     ]
    }
   ],
   "source": [
    "# result = pyreadr.read_r('data/spotless/gold_standard_1/Eng2019_cortex_svz_fov0.rds')\n",
    "with h5py.File(\"data/spotless/gold_standard_1.h5\" , \"r\") as f:\n",
    "    for name in f:\n",
    "        gene_names = [str(gene, \"utf-8\") for gene in f[name][\"geneNames\"][()]]\n",
    "        ad.AnnData(csr_matrix(f[name][\"counts\"][()]), dtype=np.int64)"
   ]
  },
  {
   "cell_type": "code",
   "execution_count": null,
   "metadata": {},
   "outputs": [],
   "source": []
  }
 ],
 "metadata": {
  "kernelspec": {
   "display_name": "agreda",
   "language": "python",
   "name": "python3"
  },
  "language_info": {
   "codemirror_mode": {
    "name": "ipython",
    "version": 3
   },
   "file_extension": ".py",
   "mimetype": "text/x-python",
   "name": "python",
   "nbconvert_exporter": "python",
   "pygments_lexer": "ipython3",
   "version": "3.8.10"
  },
  "orig_nbformat": 4
 },
 "nbformat": 4,
 "nbformat_minor": 2
}
