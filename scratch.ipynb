{
 "cells": [
  {
   "cell_type": "code",
   "execution_count": 1,
   "metadata": {},
   "outputs": [],
   "source": [
    "import os\n",
    "import scanpy as sc\n",
    "import anndata as ad\n",
    "import glob\n",
    "# import pyreadr\n",
    "\n",
    "import h5py\n",
    "\n",
    "import numpy as np\n",
    "import pandas as pd\n",
    "from scipy.sparse import csr_matrix\n"
   ]
  },
  {
   "cell_type": "code",
   "execution_count": 2,
   "metadata": {},
   "outputs": [],
   "source": [
    "gs1_dir = \"data/spotless/gold_standard_1/\""
   ]
  },
  {
   "cell_type": "code",
   "execution_count": 3,
   "metadata": {},
   "outputs": [
    {
     "data": {
      "text/plain": [
       "[AnnData object with n_obs × n_vars = 9 × 10000\n",
       "     obs: 'orig.ident', 'nCount_RNA', 'nFeature_RNA', 'spot_composition.Endothelial', 'spot_composition.Excitatory.layer.3', 'spot_composition.Excitatory.layer.4', 'spot_composition.Excitatory.layer.II', 'spot_composition.Interneurons', 'spot_composition.Microglia', 'spot_composition.Astrocytes.deep', 'spot_composition.Astrocytes.superficial', 'spot_composition.Interneurons.deep', 'spot_composition.OPC', 'spot_composition.spot_no', 'relative_spot_composition.Endothelial', 'relative_spot_composition.Excitatory.layer.3', 'relative_spot_composition.Excitatory.layer.4', 'relative_spot_composition.Excitatory.layer.II', 'relative_spot_composition.Interneurons', 'relative_spot_composition.Microglia', 'relative_spot_composition.Astrocytes.deep', 'relative_spot_composition.Astrocytes.superficial', 'relative_spot_composition.Interneurons.deep', 'relative_spot_composition.OPC', 'relative_spot_composition.spot_no', 'coordinates.x', 'coordinates.y'\n",
       "     var: 'features',\n",
       " AnnData object with n_obs × n_vars = 9 × 10000\n",
       "     obs: 'orig.ident', 'nCount_RNA', 'nFeature_RNA', 'spot_composition.Astrocytes.deep', 'spot_composition.Endothelial', 'spot_composition.Excitatory.layer.3', 'spot_composition.Excitatory.layer.4', 'spot_composition.Astrocytes.superficial', 'spot_composition.Excitatory.layer.II', 'spot_composition.Microglia', 'spot_composition.Interneurons', 'spot_composition.OPC', 'spot_composition.spot_no', 'relative_spot_composition.Astrocytes.deep', 'relative_spot_composition.Endothelial', 'relative_spot_composition.Excitatory.layer.3', 'relative_spot_composition.Excitatory.layer.4', 'relative_spot_composition.Astrocytes.superficial', 'relative_spot_composition.Excitatory.layer.II', 'relative_spot_composition.Microglia', 'relative_spot_composition.Interneurons', 'relative_spot_composition.OPC', 'relative_spot_composition.spot_no', 'coordinates.x', 'coordinates.y'\n",
       "     var: 'features',\n",
       " AnnData object with n_obs × n_vars = 9 × 10000\n",
       "     obs: 'orig.ident', 'nCount_RNA', 'nFeature_RNA', 'spot_composition.Astrocytes.deep', 'spot_composition.Astrocytes.superficial', 'spot_composition.Excitatory.layer.3', 'spot_composition.Excitatory.layer.5.6', 'spot_composition.Interneurons.deep', 'spot_composition.Microglia', 'spot_composition.Interneurons', 'spot_composition.Neuroblasts', 'spot_composition.NSC', 'spot_composition.Oligodendrocytes', 'spot_composition.Endothelial', 'spot_composition.spot_no', 'relative_spot_composition.Astrocytes.deep', 'relative_spot_composition.Astrocytes.superficial', 'relative_spot_composition.Excitatory.layer.3', 'relative_spot_composition.Excitatory.layer.5.6', 'relative_spot_composition.Interneurons.deep', 'relative_spot_composition.Microglia', 'relative_spot_composition.Interneurons', 'relative_spot_composition.Neuroblasts', 'relative_spot_composition.NSC', 'relative_spot_composition.Oligodendrocytes', 'relative_spot_composition.Endothelial', 'relative_spot_composition.spot_no', 'coordinates.x', 'coordinates.y'\n",
       "     var: 'features',\n",
       " AnnData object with n_obs × n_vars = 9 × 10000\n",
       "     obs: 'orig.ident', 'nCount_RNA', 'nFeature_RNA', 'spot_composition.Excitatory.layer.5.6', 'spot_composition.Astrocytes.deep', 'spot_composition.Astrocytes.superficial', 'spot_composition.Endothelial', 'spot_composition.Interneurons.deep', 'spot_composition.NSC', 'spot_composition.Oligodendrocytes', 'spot_composition.Excitatory.layer.4', 'spot_composition.Microglia', 'spot_composition.Interneurons', 'spot_composition.Excitatory.layer.3', 'spot_composition.spot_no', 'relative_spot_composition.Excitatory.layer.5.6', 'relative_spot_composition.Astrocytes.deep', 'relative_spot_composition.Astrocytes.superficial', 'relative_spot_composition.Endothelial', 'relative_spot_composition.Interneurons.deep', 'relative_spot_composition.NSC', 'relative_spot_composition.Oligodendrocytes', 'relative_spot_composition.Excitatory.layer.4', 'relative_spot_composition.Microglia', 'relative_spot_composition.Interneurons', 'relative_spot_composition.Excitatory.layer.3', 'relative_spot_composition.spot_no', 'coordinates.x', 'coordinates.y'\n",
       "     var: 'features',\n",
       " AnnData object with n_obs × n_vars = 9 × 10000\n",
       "     obs: 'orig.ident', 'nCount_RNA', 'nFeature_RNA', 'spot_composition.Astrocytes.superficial', 'spot_composition.Excitatory.layer.5.6', 'spot_composition.Oligodendrocytes', 'spot_composition.Endothelial', 'spot_composition.Excitatory.layer.4', 'spot_composition.OPC', 'spot_composition.Microglia', 'spot_composition.Ependymal', 'spot_composition.Excitatory.layer.3', 'spot_composition.Interneurons', 'spot_composition.spot_no', 'relative_spot_composition.Astrocytes.superficial', 'relative_spot_composition.Excitatory.layer.5.6', 'relative_spot_composition.Oligodendrocytes', 'relative_spot_composition.Endothelial', 'relative_spot_composition.Excitatory.layer.4', 'relative_spot_composition.OPC', 'relative_spot_composition.Microglia', 'relative_spot_composition.Ependymal', 'relative_spot_composition.Excitatory.layer.3', 'relative_spot_composition.Interneurons', 'relative_spot_composition.spot_no', 'coordinates.x', 'coordinates.y'\n",
       "     var: 'features',\n",
       " AnnData object with n_obs × n_vars = 9 × 10000\n",
       "     obs: 'orig.ident', 'nCount_RNA', 'nFeature_RNA', 'spot_composition.Astrocytes.superficial', 'spot_composition.Endothelial', 'spot_composition.Interneurons', 'spot_composition.Ependymal', 'spot_composition.Excitatory.layer.5.6', 'spot_composition.Interneurons.deep', 'spot_composition.Neural.progenitors', 'spot_composition.Neuroblasts', 'spot_composition.NSC', 'spot_composition.Oligodendrocytes', 'spot_composition.OPC', 'spot_composition.Excitatory.layer.3', 'spot_composition.Microglia', 'spot_composition.Astrocytes.deep', 'spot_composition.spot_no', 'relative_spot_composition.Astrocytes.superficial', 'relative_spot_composition.Endothelial', 'relative_spot_composition.Interneurons', 'relative_spot_composition.Ependymal', 'relative_spot_composition.Excitatory.layer.5.6', 'relative_spot_composition.Interneurons.deep', 'relative_spot_composition.Neural.progenitors', 'relative_spot_composition.Neuroblasts', 'relative_spot_composition.NSC', 'relative_spot_composition.Oligodendrocytes', 'relative_spot_composition.OPC', 'relative_spot_composition.Excitatory.layer.3', 'relative_spot_composition.Microglia', 'relative_spot_composition.Astrocytes.deep', 'relative_spot_composition.spot_no', 'coordinates.x', 'coordinates.y'\n",
       "     var: 'features',\n",
       " AnnData object with n_obs × n_vars = 9 × 10000\n",
       "     obs: 'orig.ident', 'nCount_RNA', 'nFeature_RNA', 'spot_composition.Choroid.plexus', 'spot_composition.Endothelial', 'spot_composition.Microglia', 'spot_composition.NSC', 'spot_composition.spot_no', 'relative_spot_composition.Choroid.plexus', 'relative_spot_composition.Endothelial', 'relative_spot_composition.Microglia', 'relative_spot_composition.NSC', 'relative_spot_composition.spot_no', 'coordinates.x', 'coordinates.y'\n",
       "     var: 'features']"
      ]
     },
     "execution_count": 3,
     "metadata": {},
     "output_type": "execute_result"
    }
   ],
   "source": [
    "fpaths = sorted(glob.glob(os.path.join(gs1_dir, \"*.h5ad\")))\n",
    "fovs = [sc.read_h5ad(name) for name in fpaths]\n",
    "fovs"
   ]
  },
  {
   "cell_type": "code",
   "execution_count": 13,
   "metadata": {},
   "outputs": [],
   "source": [
    "obs_cols = sorted(list(set.union(*[set(fov.obs.columns) for fov in fovs])))"
   ]
  },
  {
   "cell_type": "code",
   "execution_count": 24,
   "metadata": {},
   "outputs": [
    {
     "data": {
      "text/plain": [
       "1    9871\n",
       "2    9335\n",
       "3    6288\n",
       "4    8474\n",
       "5    9653\n",
       "6    6909\n",
       "7    8725\n",
       "8    9380\n",
       "9    4769\n",
       "Name: nFeature_RNA, dtype: int32"
      ]
     },
     "metadata": {},
     "output_type": "display_data"
    },
    {
     "data": {
      "text/plain": [
       "1    7664\n",
       "2    9791\n",
       "3    8755\n",
       "4    7262\n",
       "5    9143\n",
       "6    9004\n",
       "7    8447\n",
       "8    9831\n",
       "9    9696\n",
       "Name: nFeature_RNA, dtype: int32"
      ]
     },
     "metadata": {},
     "output_type": "display_data"
    },
    {
     "data": {
      "text/plain": [
       "1    9290\n",
       "2    9180\n",
       "3    9732\n",
       "4    9604\n",
       "5    9508\n",
       "6    9530\n",
       "7    9049\n",
       "8    9074\n",
       "9    9290\n",
       "Name: nFeature_RNA, dtype: int32"
      ]
     },
     "metadata": {},
     "output_type": "display_data"
    },
    {
     "data": {
      "text/plain": [
       "1    7264\n",
       "2    9507\n",
       "3    8889\n",
       "4    9307\n",
       "5    9692\n",
       "6    9751\n",
       "7    9784\n",
       "8    9561\n",
       "9    9736\n",
       "Name: nFeature_RNA, dtype: int32"
      ]
     },
     "metadata": {},
     "output_type": "display_data"
    },
    {
     "data": {
      "text/plain": [
       "1    6889\n",
       "2    8716\n",
       "3    9374\n",
       "4    9761\n",
       "5    9140\n",
       "6    9690\n",
       "7    9732\n",
       "8    9451\n",
       "9    9769\n",
       "Name: nFeature_RNA, dtype: int32"
      ]
     },
     "metadata": {},
     "output_type": "display_data"
    },
    {
     "data": {
      "text/plain": [
       "1    2186\n",
       "2    9468\n",
       "3    7680\n",
       "4    7972\n",
       "5    8663\n",
       "6    4466\n",
       "7    6750\n",
       "8    8622\n",
       "9    6558\n",
       "Name: nFeature_RNA, dtype: int32"
      ]
     },
     "metadata": {},
     "output_type": "display_data"
    },
    {
     "data": {
      "text/plain": [
       "1    7715\n",
       "2    6106\n",
       "3    8000\n",
       "4    7199\n",
       "5    8315\n",
       "6    3176\n",
       "7    6374\n",
       "8    8553\n",
       "9    6877\n",
       "Name: nFeature_RNA, dtype: int32"
      ]
     },
     "metadata": {},
     "output_type": "display_data"
    }
   ],
   "source": [
    "for fov in fovs:\n",
    "    fov.obs = fov.obs.reindex(columns=obs_cols)"
   ]
  },
  {
   "cell_type": "code",
   "execution_count": 28,
   "metadata": {},
   "outputs": [
    {
     "data": {
      "text/plain": [
       "1     466.019417\n",
       "2     466.019417\n",
       "3     466.019417\n",
       "4    1000.000000\n",
       "5    1000.000000\n",
       "6    1000.000000\n",
       "7    1533.980583\n",
       "8    1533.980583\n",
       "9    1533.980583\n",
       "Name: coordinates.x, dtype: float64"
      ]
     },
     "metadata": {},
     "output_type": "display_data"
    },
    {
     "data": {
      "text/plain": [
       "1     466.019417\n",
       "2    1000.000000\n",
       "3    1533.980583\n",
       "4     466.019417\n",
       "5    1000.000000\n",
       "6    1533.980583\n",
       "7     466.019417\n",
       "8    1000.000000\n",
       "9    1533.980583\n",
       "Name: coordinates.y, dtype: float64"
      ]
     },
     "metadata": {},
     "output_type": "display_data"
    },
    {
     "data": {
      "text/plain": [
       "1    82549.0\n",
       "2    47199.0\n",
       "3    15919.0\n",
       "4    32359.0\n",
       "5    61491.0\n",
       "6    17915.0\n",
       "7    35974.0\n",
       "8    48911.0\n",
       "9     8342.0\n",
       "Name: nCount_RNA, dtype: float64"
      ]
     },
     "metadata": {},
     "output_type": "display_data"
    },
    {
     "data": {
      "text/plain": [
       "1    9871\n",
       "2    9335\n",
       "3    6288\n",
       "4    8474\n",
       "5    9653\n",
       "6    6909\n",
       "7    8725\n",
       "8    9380\n",
       "9    4769\n",
       "Name: nFeature_RNA, dtype: int32"
      ]
     },
     "metadata": {},
     "output_type": "display_data"
    },
    {
     "data": {
      "text/plain": [
       "1    0\n",
       "2    0\n",
       "3    0\n",
       "4    0\n",
       "5    0\n",
       "6    0\n",
       "7    0\n",
       "8    0\n",
       "9    0\n",
       "Name: orig.ident, dtype: int32"
      ]
     },
     "metadata": {},
     "output_type": "display_data"
    },
    {
     "data": {
      "text/plain": [
       "1    0.000000\n",
       "2    0.076923\n",
       "3    0.000000\n",
       "4    0.000000\n",
       "5    0.000000\n",
       "6    0.000000\n",
       "7    0.000000\n",
       "8    0.000000\n",
       "9    0.000000\n",
       "Name: relative_spot_composition.Astrocytes.deep, dtype: float64"
      ]
     },
     "metadata": {},
     "output_type": "display_data"
    },
    {
     "data": {
      "text/plain": [
       "1    0.000000\n",
       "2    0.076923\n",
       "3    0.333333\n",
       "4    0.000000\n",
       "5    0.000000\n",
       "6    0.800000\n",
       "7    0.000000\n",
       "8    0.000000\n",
       "9    0.000000\n",
       "Name: relative_spot_composition.Astrocytes.superficial, dtype: float64"
      ]
     },
     "metadata": {},
     "output_type": "display_data"
    },
    {
     "data": {
      "text/plain": [
       "1   NaN\n",
       "2   NaN\n",
       "3   NaN\n",
       "4   NaN\n",
       "5   NaN\n",
       "6   NaN\n",
       "7   NaN\n",
       "8   NaN\n",
       "9   NaN\n",
       "Name: relative_spot_composition.Choroid.plexus, dtype: float64"
      ]
     },
     "metadata": {},
     "output_type": "display_data"
    },
    {
     "data": {
      "text/plain": [
       "1    0.058824\n",
       "2    0.000000\n",
       "3    0.166667\n",
       "4    0.000000\n",
       "5    0.000000\n",
       "6    0.000000\n",
       "7    0.000000\n",
       "8    0.083333\n",
       "9    0.500000\n",
       "Name: relative_spot_composition.Endothelial, dtype: float64"
      ]
     },
     "metadata": {},
     "output_type": "display_data"
    },
    {
     "data": {
      "text/plain": [
       "1   NaN\n",
       "2   NaN\n",
       "3   NaN\n",
       "4   NaN\n",
       "5   NaN\n",
       "6   NaN\n",
       "7   NaN\n",
       "8   NaN\n",
       "9   NaN\n",
       "Name: relative_spot_composition.Ependymal, dtype: float64"
      ]
     },
     "metadata": {},
     "output_type": "display_data"
    },
    {
     "data": {
      "text/plain": [
       "1    0.176471\n",
       "2    0.076923\n",
       "3    0.000000\n",
       "4    0.000000\n",
       "5    0.000000\n",
       "6    0.000000\n",
       "7    0.222222\n",
       "8    0.000000\n",
       "9    0.000000\n",
       "Name: relative_spot_composition.Excitatory.layer.3, dtype: float64"
      ]
     },
     "metadata": {},
     "output_type": "display_data"
    },
    {
     "data": {
      "text/plain": [
       "1    0.235294\n",
       "2    0.153846\n",
       "3    0.000000\n",
       "4    0.142857\n",
       "5    0.000000\n",
       "6    0.000000\n",
       "7    0.222222\n",
       "8    0.083333\n",
       "9    0.000000\n",
       "Name: relative_spot_composition.Excitatory.layer.4, dtype: float64"
      ]
     },
     "metadata": {},
     "output_type": "display_data"
    },
    {
     "data": {
      "text/plain": [
       "1   NaN\n",
       "2   NaN\n",
       "3   NaN\n",
       "4   NaN\n",
       "5   NaN\n",
       "6   NaN\n",
       "7   NaN\n",
       "8   NaN\n",
       "9   NaN\n",
       "Name: relative_spot_composition.Excitatory.layer.5.6, dtype: float64"
      ]
     },
     "metadata": {},
     "output_type": "display_data"
    },
    {
     "data": {
      "text/plain": [
       "1    0.352941\n",
       "2    0.461538\n",
       "3    0.166667\n",
       "4    0.571429\n",
       "5    0.636364\n",
       "6    0.000000\n",
       "7    0.333333\n",
       "8    0.583333\n",
       "9    0.000000\n",
       "Name: relative_spot_composition.Excitatory.layer.II, dtype: float64"
      ]
     },
     "metadata": {},
     "output_type": "display_data"
    },
    {
     "data": {
      "text/plain": [
       "1    0.117647\n",
       "2    0.076923\n",
       "3    0.166667\n",
       "4    0.285714\n",
       "5    0.181818\n",
       "6    0.000000\n",
       "7    0.111111\n",
       "8    0.250000\n",
       "9    0.000000\n",
       "Name: relative_spot_composition.Interneurons, dtype: float64"
      ]
     },
     "metadata": {},
     "output_type": "display_data"
    },
    {
     "data": {
      "text/plain": [
       "1    0.000000\n",
       "2    0.000000\n",
       "3    0.166667\n",
       "4    0.000000\n",
       "5    0.000000\n",
       "6    0.000000\n",
       "7    0.000000\n",
       "8    0.000000\n",
       "9    0.000000\n",
       "Name: relative_spot_composition.Interneurons.deep, dtype: float64"
      ]
     },
     "metadata": {},
     "output_type": "display_data"
    },
    {
     "data": {
      "text/plain": [
       "1    0.058824\n",
       "2    0.076923\n",
       "3    0.000000\n",
       "4    0.000000\n",
       "5    0.000000\n",
       "6    0.200000\n",
       "7    0.111111\n",
       "8    0.000000\n",
       "9    0.500000\n",
       "Name: relative_spot_composition.Microglia, dtype: float64"
      ]
     },
     "metadata": {},
     "output_type": "display_data"
    },
    {
     "data": {
      "text/plain": [
       "1   NaN\n",
       "2   NaN\n",
       "3   NaN\n",
       "4   NaN\n",
       "5   NaN\n",
       "6   NaN\n",
       "7   NaN\n",
       "8   NaN\n",
       "9   NaN\n",
       "Name: relative_spot_composition.NSC, dtype: float64"
      ]
     },
     "metadata": {},
     "output_type": "display_data"
    },
    {
     "data": {
      "text/plain": [
       "1   NaN\n",
       "2   NaN\n",
       "3   NaN\n",
       "4   NaN\n",
       "5   NaN\n",
       "6   NaN\n",
       "7   NaN\n",
       "8   NaN\n",
       "9   NaN\n",
       "Name: relative_spot_composition.Neural.progenitors, dtype: float64"
      ]
     },
     "metadata": {},
     "output_type": "display_data"
    },
    {
     "data": {
      "text/plain": [
       "1   NaN\n",
       "2   NaN\n",
       "3   NaN\n",
       "4   NaN\n",
       "5   NaN\n",
       "6   NaN\n",
       "7   NaN\n",
       "8   NaN\n",
       "9   NaN\n",
       "Name: relative_spot_composition.Neuroblasts, dtype: float64"
      ]
     },
     "metadata": {},
     "output_type": "display_data"
    },
    {
     "data": {
      "text/plain": [
       "1    0.000000\n",
       "2    0.000000\n",
       "3    0.000000\n",
       "4    0.000000\n",
       "5    0.181818\n",
       "6    0.000000\n",
       "7    0.000000\n",
       "8    0.000000\n",
       "9    0.000000\n",
       "Name: relative_spot_composition.OPC, dtype: float64"
      ]
     },
     "metadata": {},
     "output_type": "display_data"
    },
    {
     "data": {
      "text/plain": [
       "1   NaN\n",
       "2   NaN\n",
       "3   NaN\n",
       "4   NaN\n",
       "5   NaN\n",
       "6   NaN\n",
       "7   NaN\n",
       "8   NaN\n",
       "9   NaN\n",
       "Name: relative_spot_composition.Oligodendrocytes, dtype: float64"
      ]
     },
     "metadata": {},
     "output_type": "display_data"
    },
    {
     "data": {
      "text/plain": [
       "1    1.0\n",
       "2    2.0\n",
       "3    3.0\n",
       "4    4.0\n",
       "5    5.0\n",
       "6    6.0\n",
       "7    7.0\n",
       "8    8.0\n",
       "9    9.0\n",
       "Name: relative_spot_composition.spot_no, dtype: float64"
      ]
     },
     "metadata": {},
     "output_type": "display_data"
    },
    {
     "data": {
      "text/plain": [
       "1    0\n",
       "2    1\n",
       "3    0\n",
       "4    0\n",
       "5    0\n",
       "6    0\n",
       "7    0\n",
       "8    0\n",
       "9    0\n",
       "Name: spot_composition.Astrocytes.deep, dtype: int32"
      ]
     },
     "metadata": {},
     "output_type": "display_data"
    },
    {
     "data": {
      "text/plain": [
       "1    0\n",
       "2    1\n",
       "3    2\n",
       "4    0\n",
       "5    0\n",
       "6    4\n",
       "7    0\n",
       "8    0\n",
       "9    0\n",
       "Name: spot_composition.Astrocytes.superficial, dtype: int32"
      ]
     },
     "metadata": {},
     "output_type": "display_data"
    },
    {
     "data": {
      "text/plain": [
       "1   NaN\n",
       "2   NaN\n",
       "3   NaN\n",
       "4   NaN\n",
       "5   NaN\n",
       "6   NaN\n",
       "7   NaN\n",
       "8   NaN\n",
       "9   NaN\n",
       "Name: spot_composition.Choroid.plexus, dtype: float64"
      ]
     },
     "metadata": {},
     "output_type": "display_data"
    },
    {
     "data": {
      "text/plain": [
       "1    1\n",
       "2    0\n",
       "3    1\n",
       "4    0\n",
       "5    0\n",
       "6    0\n",
       "7    0\n",
       "8    1\n",
       "9    1\n",
       "Name: spot_composition.Endothelial, dtype: int32"
      ]
     },
     "metadata": {},
     "output_type": "display_data"
    },
    {
     "data": {
      "text/plain": [
       "1   NaN\n",
       "2   NaN\n",
       "3   NaN\n",
       "4   NaN\n",
       "5   NaN\n",
       "6   NaN\n",
       "7   NaN\n",
       "8   NaN\n",
       "9   NaN\n",
       "Name: spot_composition.Ependymal, dtype: float64"
      ]
     },
     "metadata": {},
     "output_type": "display_data"
    },
    {
     "data": {
      "text/plain": [
       "1    3\n",
       "2    1\n",
       "3    0\n",
       "4    0\n",
       "5    0\n",
       "6    0\n",
       "7    2\n",
       "8    0\n",
       "9    0\n",
       "Name: spot_composition.Excitatory.layer.3, dtype: int32"
      ]
     },
     "metadata": {},
     "output_type": "display_data"
    },
    {
     "data": {
      "text/plain": [
       "1    4\n",
       "2    2\n",
       "3    0\n",
       "4    1\n",
       "5    0\n",
       "6    0\n",
       "7    2\n",
       "8    1\n",
       "9    0\n",
       "Name: spot_composition.Excitatory.layer.4, dtype: int32"
      ]
     },
     "metadata": {},
     "output_type": "display_data"
    },
    {
     "data": {
      "text/plain": [
       "1   NaN\n",
       "2   NaN\n",
       "3   NaN\n",
       "4   NaN\n",
       "5   NaN\n",
       "6   NaN\n",
       "7   NaN\n",
       "8   NaN\n",
       "9   NaN\n",
       "Name: spot_composition.Excitatory.layer.5.6, dtype: float64"
      ]
     },
     "metadata": {},
     "output_type": "display_data"
    },
    {
     "data": {
      "text/plain": [
       "1    6\n",
       "2    6\n",
       "3    1\n",
       "4    4\n",
       "5    7\n",
       "6    0\n",
       "7    3\n",
       "8    7\n",
       "9    0\n",
       "Name: spot_composition.Excitatory.layer.II, dtype: int32"
      ]
     },
     "metadata": {},
     "output_type": "display_data"
    },
    {
     "data": {
      "text/plain": [
       "1    2\n",
       "2    1\n",
       "3    1\n",
       "4    2\n",
       "5    2\n",
       "6    0\n",
       "7    1\n",
       "8    3\n",
       "9    0\n",
       "Name: spot_composition.Interneurons, dtype: int32"
      ]
     },
     "metadata": {},
     "output_type": "display_data"
    },
    {
     "data": {
      "text/plain": [
       "1    0\n",
       "2    0\n",
       "3    1\n",
       "4    0\n",
       "5    0\n",
       "6    0\n",
       "7    0\n",
       "8    0\n",
       "9    0\n",
       "Name: spot_composition.Interneurons.deep, dtype: int32"
      ]
     },
     "metadata": {},
     "output_type": "display_data"
    },
    {
     "data": {
      "text/plain": [
       "1    1\n",
       "2    1\n",
       "3    0\n",
       "4    0\n",
       "5    0\n",
       "6    1\n",
       "7    1\n",
       "8    0\n",
       "9    1\n",
       "Name: spot_composition.Microglia, dtype: int32"
      ]
     },
     "metadata": {},
     "output_type": "display_data"
    },
    {
     "data": {
      "text/plain": [
       "1   NaN\n",
       "2   NaN\n",
       "3   NaN\n",
       "4   NaN\n",
       "5   NaN\n",
       "6   NaN\n",
       "7   NaN\n",
       "8   NaN\n",
       "9   NaN\n",
       "Name: spot_composition.NSC, dtype: float64"
      ]
     },
     "metadata": {},
     "output_type": "display_data"
    },
    {
     "data": {
      "text/plain": [
       "1   NaN\n",
       "2   NaN\n",
       "3   NaN\n",
       "4   NaN\n",
       "5   NaN\n",
       "6   NaN\n",
       "7   NaN\n",
       "8   NaN\n",
       "9   NaN\n",
       "Name: spot_composition.Neural.progenitors, dtype: float64"
      ]
     },
     "metadata": {},
     "output_type": "display_data"
    },
    {
     "data": {
      "text/plain": [
       "1   NaN\n",
       "2   NaN\n",
       "3   NaN\n",
       "4   NaN\n",
       "5   NaN\n",
       "6   NaN\n",
       "7   NaN\n",
       "8   NaN\n",
       "9   NaN\n",
       "Name: spot_composition.Neuroblasts, dtype: float64"
      ]
     },
     "metadata": {},
     "output_type": "display_data"
    },
    {
     "data": {
      "text/plain": [
       "1    0\n",
       "2    0\n",
       "3    0\n",
       "4    0\n",
       "5    2\n",
       "6    0\n",
       "7    0\n",
       "8    0\n",
       "9    0\n",
       "Name: spot_composition.OPC, dtype: int32"
      ]
     },
     "metadata": {},
     "output_type": "display_data"
    },
    {
     "data": {
      "text/plain": [
       "1   NaN\n",
       "2   NaN\n",
       "3   NaN\n",
       "4   NaN\n",
       "5   NaN\n",
       "6   NaN\n",
       "7   NaN\n",
       "8   NaN\n",
       "9   NaN\n",
       "Name: spot_composition.Oligodendrocytes, dtype: float64"
      ]
     },
     "metadata": {},
     "output_type": "display_data"
    },
    {
     "data": {
      "text/plain": [
       "1    1.0\n",
       "2    2.0\n",
       "3    3.0\n",
       "4    4.0\n",
       "5    5.0\n",
       "6    6.0\n",
       "7    7.0\n",
       "8    8.0\n",
       "9    9.0\n",
       "Name: spot_composition.spot_no, dtype: float64"
      ]
     },
     "metadata": {},
     "output_type": "display_data"
    }
   ],
   "source": [
    "for column in fovs[0].obs.columns:\n",
    "    display(fovs[0].obs[column])"
   ]
  },
  {
   "cell_type": "code",
   "execution_count": null,
   "metadata": {},
   "outputs": [
    {
     "name": "stderr",
     "output_type": "stream",
     "text": [
      "/home/wma/AGrEDA/.venv/lib/python3.8/site-packages/debugpy/_vendored/pydevd/_pydevd_bundle/pydevd_resolver.py:192: DeprecationWarning: Use is_view instead of isview, isview will be removed in the future.\n",
      "  attr = getattr(var, name)\n"
     ]
    }
   ],
   "source": [
    "\n",
    "gs1 = ad.concat(fovs, keys=(os.path.basename(f).split(\".\")[0] for f in fpaths))\n",
    "gs1"
   ]
  },
  {
   "cell_type": "code",
   "execution_count": 4,
   "metadata": {},
   "outputs": [],
   "source": [
    "# adata = sc.read_h5ad(\"data/pdac/sc_adata/CA001063.h5ad\")"
   ]
  },
  {
   "cell_type": "code",
   "execution_count": 5,
   "metadata": {},
   "outputs": [],
   "source": [
    "# adata"
   ]
  },
  {
   "cell_type": "code",
   "execution_count": 6,
   "metadata": {},
   "outputs": [],
   "source": [
    "# adata.obs"
   ]
  },
  {
   "cell_type": "code",
   "execution_count": 11,
   "metadata": {},
   "outputs": [
    {
     "name": "stdout",
     "output_type": "stream",
     "text": [
      "AnnData object with n_obs × n_vars = 9 × 10000\n",
      "AnnData object with n_obs × n_vars = 9 × 10000\n",
      "AnnData object with n_obs × n_vars = 9 × 10000\n",
      "AnnData object with n_obs × n_vars = 9 × 10000\n",
      "AnnData object with n_obs × n_vars = 9 × 10000\n",
      "AnnData object with n_obs × n_vars = 9 × 10000\n",
      "AnnData object with n_obs × n_vars = 9 × 10000\n"
     ]
    }
   ],
   "source": [
    "# result = pyreadr.read_r('data/spotless/gold_standard_1/Eng2019_cortex_svz_fov0.rds')\n",
    "with h5py.File(\"data/spotless/gold_standard_1.h5\" , \"r\") as f:\n",
    "    for name in f:\n",
    "        gene_names = [str(gene, \"utf-8\") for gene in f[name][\"geneNames\"][()]]\n",
    "        ad.AnnData(csr_matrix(f[name][\"counts\"][()]), dtype=np.int64)"
   ]
  },
  {
   "cell_type": "code",
   "execution_count": null,
   "metadata": {},
   "outputs": [],
   "source": []
  }
 ],
 "metadata": {
  "kernelspec": {
   "display_name": "agreda",
   "language": "python",
   "name": "python3"
  },
  "language_info": {
   "codemirror_mode": {
    "name": "ipython",
    "version": 3
   },
   "file_extension": ".py",
   "mimetype": "text/x-python",
   "name": "python",
   "nbconvert_exporter": "python",
   "pygments_lexer": "ipython3",
   "version": "3.8.10"
  },
  "orig_nbformat": 4
 },
 "nbformat": 4,
 "nbformat_minor": 2
}
