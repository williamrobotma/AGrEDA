{
 "cells": [
  {
   "cell_type": "code",
   "execution_count": 1,
   "metadata": {},
   "outputs": [],
   "source": [
    "import os\n",
    "import shutil\n",
    "import subprocess\n",
    "\n",
    "import anndata as ad\n",
    "import numpy as np\n",
    "import pandas as pd\n",
    "import scanpy as sc\n",
    "from scipy.sparse import csr_matrix"
   ]
  },
  {
   "cell_type": "code",
   "execution_count": 2,
   "metadata": {},
   "outputs": [],
   "source": [
    "# Clone repo at https://github.com/LieberInstitute/HumanPilot and set DIR to it\n",
    "DIR = \"../HumanPilot\"\n",
    "OUT_DIR = \"data/dlpfc/raw/spatialLIBD\""
   ]
  },
  {
   "cell_type": "code",
   "execution_count": 3,
   "metadata": {},
   "outputs": [
    {
     "data": {
      "text/html": [
       "<div>\n",
       "<style scoped>\n",
       "    .dataframe tbody tr th:only-of-type {\n",
       "        vertical-align: middle;\n",
       "    }\n",
       "\n",
       "    .dataframe tbody tr th {\n",
       "        vertical-align: top;\n",
       "    }\n",
       "\n",
       "    .dataframe thead th {\n",
       "        text-align: right;\n",
       "    }\n",
       "</style>\n",
       "<table border=\"1\" class=\"dataframe\">\n",
       "  <thead>\n",
       "    <tr style=\"text-align: right;\">\n",
       "      <th></th>\n",
       "      <th>h5_filtered</th>\n",
       "      <th>h5_raw</th>\n",
       "      <th>image_full</th>\n",
       "      <th>image_hi</th>\n",
       "      <th>image_lo</th>\n",
       "      <th>loupe</th>\n",
       "    </tr>\n",
       "    <tr>\n",
       "      <th>SampleID</th>\n",
       "      <th></th>\n",
       "      <th></th>\n",
       "      <th></th>\n",
       "      <th></th>\n",
       "      <th></th>\n",
       "      <th></th>\n",
       "    </tr>\n",
       "  </thead>\n",
       "  <tbody>\n",
       "    <tr>\n",
       "      <th>151507</th>\n",
       "      <td>https://spatial-dlpfc.s3.us-east-2.amazonaws.c...</td>\n",
       "      <td>https://spatial-dlpfc.s3.us-east-2.amazonaws.c...</td>\n",
       "      <td>https://spatial-dlpfc.s3.us-east-2.amazonaws.c...</td>\n",
       "      <td>https://spatial-dlpfc.s3.us-east-2.amazonaws.c...</td>\n",
       "      <td>https://spatial-dlpfc.s3.us-east-2.amazonaws.c...</td>\n",
       "      <td>https://spatial-dlpfc.s3.us-east-2.amazonaws.c...</td>\n",
       "    </tr>\n",
       "    <tr>\n",
       "      <th>151508</th>\n",
       "      <td>https://spatial-dlpfc.s3.us-east-2.amazonaws.c...</td>\n",
       "      <td>https://spatial-dlpfc.s3.us-east-2.amazonaws.c...</td>\n",
       "      <td>https://spatial-dlpfc.s3.us-east-2.amazonaws.c...</td>\n",
       "      <td>https://spatial-dlpfc.s3.us-east-2.amazonaws.c...</td>\n",
       "      <td>https://spatial-dlpfc.s3.us-east-2.amazonaws.c...</td>\n",
       "      <td>https://spatial-dlpfc.s3.us-east-2.amazonaws.c...</td>\n",
       "    </tr>\n",
       "    <tr>\n",
       "      <th>151509</th>\n",
       "      <td>https://spatial-dlpfc.s3.us-east-2.amazonaws.c...</td>\n",
       "      <td>https://spatial-dlpfc.s3.us-east-2.amazonaws.c...</td>\n",
       "      <td>https://spatial-dlpfc.s3.us-east-2.amazonaws.c...</td>\n",
       "      <td>https://spatial-dlpfc.s3.us-east-2.amazonaws.c...</td>\n",
       "      <td>https://spatial-dlpfc.s3.us-east-2.amazonaws.c...</td>\n",
       "      <td>https://spatial-dlpfc.s3.us-east-2.amazonaws.c...</td>\n",
       "    </tr>\n",
       "    <tr>\n",
       "      <th>151510</th>\n",
       "      <td>https://spatial-dlpfc.s3.us-east-2.amazonaws.c...</td>\n",
       "      <td>https://spatial-dlpfc.s3.us-east-2.amazonaws.c...</td>\n",
       "      <td>https://spatial-dlpfc.s3.us-east-2.amazonaws.c...</td>\n",
       "      <td>https://spatial-dlpfc.s3.us-east-2.amazonaws.c...</td>\n",
       "      <td>https://spatial-dlpfc.s3.us-east-2.amazonaws.c...</td>\n",
       "      <td>https://spatial-dlpfc.s3.us-east-2.amazonaws.c...</td>\n",
       "    </tr>\n",
       "    <tr>\n",
       "      <th>151669</th>\n",
       "      <td>https://spatial-dlpfc.s3.us-east-2.amazonaws.c...</td>\n",
       "      <td>https://spatial-dlpfc.s3.us-east-2.amazonaws.c...</td>\n",
       "      <td>https://spatial-dlpfc.s3.us-east-2.amazonaws.c...</td>\n",
       "      <td>https://spatial-dlpfc.s3.us-east-2.amazonaws.c...</td>\n",
       "      <td>https://spatial-dlpfc.s3.us-east-2.amazonaws.c...</td>\n",
       "      <td>https://spatial-dlpfc.s3.us-east-2.amazonaws.c...</td>\n",
       "    </tr>\n",
       "    <tr>\n",
       "      <th>151670</th>\n",
       "      <td>https://spatial-dlpfc.s3.us-east-2.amazonaws.c...</td>\n",
       "      <td>https://spatial-dlpfc.s3.us-east-2.amazonaws.c...</td>\n",
       "      <td>https://spatial-dlpfc.s3.us-east-2.amazonaws.c...</td>\n",
       "      <td>https://spatial-dlpfc.s3.us-east-2.amazonaws.c...</td>\n",
       "      <td>https://spatial-dlpfc.s3.us-east-2.amazonaws.c...</td>\n",
       "      <td>https://spatial-dlpfc.s3.us-east-2.amazonaws.c...</td>\n",
       "    </tr>\n",
       "    <tr>\n",
       "      <th>151671</th>\n",
       "      <td>https://spatial-dlpfc.s3.us-east-2.amazonaws.c...</td>\n",
       "      <td>https://spatial-dlpfc.s3.us-east-2.amazonaws.c...</td>\n",
       "      <td>https://spatial-dlpfc.s3.us-east-2.amazonaws.c...</td>\n",
       "      <td>https://spatial-dlpfc.s3.us-east-2.amazonaws.c...</td>\n",
       "      <td>https://spatial-dlpfc.s3.us-east-2.amazonaws.c...</td>\n",
       "      <td>https://spatial-dlpfc.s3.us-east-2.amazonaws.c...</td>\n",
       "    </tr>\n",
       "    <tr>\n",
       "      <th>151672</th>\n",
       "      <td>https://spatial-dlpfc.s3.us-east-2.amazonaws.c...</td>\n",
       "      <td>https://spatial-dlpfc.s3.us-east-2.amazonaws.c...</td>\n",
       "      <td>https://spatial-dlpfc.s3.us-east-2.amazonaws.c...</td>\n",
       "      <td>https://spatial-dlpfc.s3.us-east-2.amazonaws.c...</td>\n",
       "      <td>https://spatial-dlpfc.s3.us-east-2.amazonaws.c...</td>\n",
       "      <td>https://spatial-dlpfc.s3.us-east-2.amazonaws.c...</td>\n",
       "    </tr>\n",
       "    <tr>\n",
       "      <th>151673</th>\n",
       "      <td>https://spatial-dlpfc.s3.us-east-2.amazonaws.c...</td>\n",
       "      <td>https://spatial-dlpfc.s3.us-east-2.amazonaws.c...</td>\n",
       "      <td>https://spatial-dlpfc.s3.us-east-2.amazonaws.c...</td>\n",
       "      <td>https://spatial-dlpfc.s3.us-east-2.amazonaws.c...</td>\n",
       "      <td>https://spatial-dlpfc.s3.us-east-2.amazonaws.c...</td>\n",
       "      <td>https://spatial-dlpfc.s3.us-east-2.amazonaws.c...</td>\n",
       "    </tr>\n",
       "    <tr>\n",
       "      <th>151674</th>\n",
       "      <td>https://spatial-dlpfc.s3.us-east-2.amazonaws.c...</td>\n",
       "      <td>https://spatial-dlpfc.s3.us-east-2.amazonaws.c...</td>\n",
       "      <td>https://spatial-dlpfc.s3.us-east-2.amazonaws.c...</td>\n",
       "      <td>https://spatial-dlpfc.s3.us-east-2.amazonaws.c...</td>\n",
       "      <td>https://spatial-dlpfc.s3.us-east-2.amazonaws.c...</td>\n",
       "      <td>https://spatial-dlpfc.s3.us-east-2.amazonaws.c...</td>\n",
       "    </tr>\n",
       "    <tr>\n",
       "      <th>151675</th>\n",
       "      <td>https://spatial-dlpfc.s3.us-east-2.amazonaws.c...</td>\n",
       "      <td>https://spatial-dlpfc.s3.us-east-2.amazonaws.c...</td>\n",
       "      <td>https://spatial-dlpfc.s3.us-east-2.amazonaws.c...</td>\n",
       "      <td>https://spatial-dlpfc.s3.us-east-2.amazonaws.c...</td>\n",
       "      <td>https://spatial-dlpfc.s3.us-east-2.amazonaws.c...</td>\n",
       "      <td>https://spatial-dlpfc.s3.us-east-2.amazonaws.c...</td>\n",
       "    </tr>\n",
       "    <tr>\n",
       "      <th>151676</th>\n",
       "      <td>https://spatial-dlpfc.s3.us-east-2.amazonaws.c...</td>\n",
       "      <td>https://spatial-dlpfc.s3.us-east-2.amazonaws.c...</td>\n",
       "      <td>https://spatial-dlpfc.s3.us-east-2.amazonaws.c...</td>\n",
       "      <td>https://spatial-dlpfc.s3.us-east-2.amazonaws.c...</td>\n",
       "      <td>https://spatial-dlpfc.s3.us-east-2.amazonaws.c...</td>\n",
       "      <td>https://spatial-dlpfc.s3.us-east-2.amazonaws.c...</td>\n",
       "    </tr>\n",
       "  </tbody>\n",
       "</table>\n",
       "</div>"
      ],
      "text/plain": [
       "                                                h5_filtered  \\\n",
       "SampleID                                                      \n",
       "151507    https://spatial-dlpfc.s3.us-east-2.amazonaws.c...   \n",
       "151508    https://spatial-dlpfc.s3.us-east-2.amazonaws.c...   \n",
       "151509    https://spatial-dlpfc.s3.us-east-2.amazonaws.c...   \n",
       "151510    https://spatial-dlpfc.s3.us-east-2.amazonaws.c...   \n",
       "151669    https://spatial-dlpfc.s3.us-east-2.amazonaws.c...   \n",
       "151670    https://spatial-dlpfc.s3.us-east-2.amazonaws.c...   \n",
       "151671    https://spatial-dlpfc.s3.us-east-2.amazonaws.c...   \n",
       "151672    https://spatial-dlpfc.s3.us-east-2.amazonaws.c...   \n",
       "151673    https://spatial-dlpfc.s3.us-east-2.amazonaws.c...   \n",
       "151674    https://spatial-dlpfc.s3.us-east-2.amazonaws.c...   \n",
       "151675    https://spatial-dlpfc.s3.us-east-2.amazonaws.c...   \n",
       "151676    https://spatial-dlpfc.s3.us-east-2.amazonaws.c...   \n",
       "\n",
       "                                                     h5_raw  \\\n",
       "SampleID                                                      \n",
       "151507    https://spatial-dlpfc.s3.us-east-2.amazonaws.c...   \n",
       "151508    https://spatial-dlpfc.s3.us-east-2.amazonaws.c...   \n",
       "151509    https://spatial-dlpfc.s3.us-east-2.amazonaws.c...   \n",
       "151510    https://spatial-dlpfc.s3.us-east-2.amazonaws.c...   \n",
       "151669    https://spatial-dlpfc.s3.us-east-2.amazonaws.c...   \n",
       "151670    https://spatial-dlpfc.s3.us-east-2.amazonaws.c...   \n",
       "151671    https://spatial-dlpfc.s3.us-east-2.amazonaws.c...   \n",
       "151672    https://spatial-dlpfc.s3.us-east-2.amazonaws.c...   \n",
       "151673    https://spatial-dlpfc.s3.us-east-2.amazonaws.c...   \n",
       "151674    https://spatial-dlpfc.s3.us-east-2.amazonaws.c...   \n",
       "151675    https://spatial-dlpfc.s3.us-east-2.amazonaws.c...   \n",
       "151676    https://spatial-dlpfc.s3.us-east-2.amazonaws.c...   \n",
       "\n",
       "                                                 image_full  \\\n",
       "SampleID                                                      \n",
       "151507    https://spatial-dlpfc.s3.us-east-2.amazonaws.c...   \n",
       "151508    https://spatial-dlpfc.s3.us-east-2.amazonaws.c...   \n",
       "151509    https://spatial-dlpfc.s3.us-east-2.amazonaws.c...   \n",
       "151510    https://spatial-dlpfc.s3.us-east-2.amazonaws.c...   \n",
       "151669    https://spatial-dlpfc.s3.us-east-2.amazonaws.c...   \n",
       "151670    https://spatial-dlpfc.s3.us-east-2.amazonaws.c...   \n",
       "151671    https://spatial-dlpfc.s3.us-east-2.amazonaws.c...   \n",
       "151672    https://spatial-dlpfc.s3.us-east-2.amazonaws.c...   \n",
       "151673    https://spatial-dlpfc.s3.us-east-2.amazonaws.c...   \n",
       "151674    https://spatial-dlpfc.s3.us-east-2.amazonaws.c...   \n",
       "151675    https://spatial-dlpfc.s3.us-east-2.amazonaws.c...   \n",
       "151676    https://spatial-dlpfc.s3.us-east-2.amazonaws.c...   \n",
       "\n",
       "                                                   image_hi  \\\n",
       "SampleID                                                      \n",
       "151507    https://spatial-dlpfc.s3.us-east-2.amazonaws.c...   \n",
       "151508    https://spatial-dlpfc.s3.us-east-2.amazonaws.c...   \n",
       "151509    https://spatial-dlpfc.s3.us-east-2.amazonaws.c...   \n",
       "151510    https://spatial-dlpfc.s3.us-east-2.amazonaws.c...   \n",
       "151669    https://spatial-dlpfc.s3.us-east-2.amazonaws.c...   \n",
       "151670    https://spatial-dlpfc.s3.us-east-2.amazonaws.c...   \n",
       "151671    https://spatial-dlpfc.s3.us-east-2.amazonaws.c...   \n",
       "151672    https://spatial-dlpfc.s3.us-east-2.amazonaws.c...   \n",
       "151673    https://spatial-dlpfc.s3.us-east-2.amazonaws.c...   \n",
       "151674    https://spatial-dlpfc.s3.us-east-2.amazonaws.c...   \n",
       "151675    https://spatial-dlpfc.s3.us-east-2.amazonaws.c...   \n",
       "151676    https://spatial-dlpfc.s3.us-east-2.amazonaws.c...   \n",
       "\n",
       "                                                   image_lo  \\\n",
       "SampleID                                                      \n",
       "151507    https://spatial-dlpfc.s3.us-east-2.amazonaws.c...   \n",
       "151508    https://spatial-dlpfc.s3.us-east-2.amazonaws.c...   \n",
       "151509    https://spatial-dlpfc.s3.us-east-2.amazonaws.c...   \n",
       "151510    https://spatial-dlpfc.s3.us-east-2.amazonaws.c...   \n",
       "151669    https://spatial-dlpfc.s3.us-east-2.amazonaws.c...   \n",
       "151670    https://spatial-dlpfc.s3.us-east-2.amazonaws.c...   \n",
       "151671    https://spatial-dlpfc.s3.us-east-2.amazonaws.c...   \n",
       "151672    https://spatial-dlpfc.s3.us-east-2.amazonaws.c...   \n",
       "151673    https://spatial-dlpfc.s3.us-east-2.amazonaws.c...   \n",
       "151674    https://spatial-dlpfc.s3.us-east-2.amazonaws.c...   \n",
       "151675    https://spatial-dlpfc.s3.us-east-2.amazonaws.c...   \n",
       "151676    https://spatial-dlpfc.s3.us-east-2.amazonaws.c...   \n",
       "\n",
       "                                                      loupe  \n",
       "SampleID                                                     \n",
       "151507    https://spatial-dlpfc.s3.us-east-2.amazonaws.c...  \n",
       "151508    https://spatial-dlpfc.s3.us-east-2.amazonaws.c...  \n",
       "151509    https://spatial-dlpfc.s3.us-east-2.amazonaws.c...  \n",
       "151510    https://spatial-dlpfc.s3.us-east-2.amazonaws.c...  \n",
       "151669    https://spatial-dlpfc.s3.us-east-2.amazonaws.c...  \n",
       "151670    https://spatial-dlpfc.s3.us-east-2.amazonaws.c...  \n",
       "151671    https://spatial-dlpfc.s3.us-east-2.amazonaws.c...  \n",
       "151672    https://spatial-dlpfc.s3.us-east-2.amazonaws.c...  \n",
       "151673    https://spatial-dlpfc.s3.us-east-2.amazonaws.c...  \n",
       "151674    https://spatial-dlpfc.s3.us-east-2.amazonaws.c...  \n",
       "151675    https://spatial-dlpfc.s3.us-east-2.amazonaws.c...  \n",
       "151676    https://spatial-dlpfc.s3.us-east-2.amazonaws.c...  "
      ]
     },
     "execution_count": 3,
     "metadata": {},
     "output_type": "execute_result"
    }
   ],
   "source": [
    "aws_sources_df = pd.read_csv(os.path.join(DIR, \"AWS_File_locations.tsv\"), sep=\"\\t\", index_col=0)\n",
    "aws_sources_df"
   ]
  },
  {
   "cell_type": "code",
   "execution_count": 4,
   "metadata": {},
   "outputs": [
    {
     "name": "stderr",
     "output_type": "stream",
     "text": [
      "  % Total    % Received % Xferd  Average Speed   Time    Time     Time  Current\n",
      "                                 Dload  Upload   Total   Spent    Left  Speed\n",
      "100 9999k  100 9999k    0     0  4854k      0  0:00:02  0:00:02 --:--:-- 4854k\n",
      "  % Total    % Received % Xferd  Average Speed   Time    Time     Time  Current\n",
      "                                 Dload  Upload   Total   Spent    Left  Speed\n",
      "100 9036k  100 9036k    0     0  7606k      0  0:00:01  0:00:01 --:--:-- 7606k\n",
      "  % Total    % Received % Xferd  Average Speed   Time    Time     Time  Current\n",
      "                                 Dload  Upload   Total   Spent    Left  Speed\n",
      "100 10.9M  100 10.9M    0     0  12.3M      0 --:--:-- --:--:-- --:--:-- 12.3M\n",
      "  % Total    % Received % Xferd  Average Speed   Time    Time     Time  Current\n",
      "                                 Dload  Upload   Total   Spent    Left  Speed\n",
      "100 10.2M  100 10.2M    0     0  7330k      0  0:00:01  0:00:01 --:--:-- 7325k\n",
      "  % Total    % Received % Xferd  Average Speed   Time    Time     Time  Current\n",
      "                                 Dload  Upload   Total   Spent    Left  Speed\n",
      "100 10.5M  100 10.5M    0     0  4450k      0  0:00:02  0:00:02 --:--:-- 4450k\n",
      "  % Total    % Received % Xferd  Average Speed   Time    Time     Time  Current\n",
      "                                 Dload  Upload   Total   Spent    Left  Speed\n",
      "100 9808k  100 9808k    0     0  12.1M      0 --:--:-- --:--:-- --:--:-- 12.1M\n",
      "  % Total    % Received % Xferd  Average Speed   Time    Time     Time  Current\n",
      "                                 Dload  Upload   Total   Spent    Left  Speed\n",
      "100 11.8M  100 11.8M    0     0  6276k      0  0:00:01  0:00:01 --:--:-- 6273k\n",
      "  % Total    % Received % Xferd  Average Speed   Time    Time     Time  Current\n",
      "                                 Dload  Upload   Total   Spent    Left  Speed\n",
      "100 11.1M  100 11.1M    0     0  12.3M      0 --:--:-- --:--:-- --:--:-- 12.3M\n",
      "  % Total    % Received % Xferd  Average Speed   Time    Time     Time  Current\n",
      "                                 Dload  Upload   Total   Spent    Left  Speed\n",
      "100 12.2M  100 12.2M    0     0  13.8M      0 --:--:-- --:--:-- --:--:-- 13.8M\n",
      "  % Total    % Received % Xferd  Average Speed   Time    Time     Time  Current\n",
      "                                 Dload  Upload   Total   Spent    Left  Speed\n",
      "100 14.7M  100 14.7M    0     0  15.4M      0 --:--:-- --:--:-- --:--:-- 15.4M\n",
      "  % Total    % Received % Xferd  Average Speed   Time    Time     Time  Current\n",
      "                                 Dload  Upload   Total   Spent    Left  Speed\n",
      "100 10.3M  100 10.3M    0     0  13.3M      0 --:--:-- --:--:-- --:--:-- 13.3M\n",
      "  % Total    % Received % Xferd  Average Speed   Time    Time     Time  Current\n",
      "                                 Dload  Upload   Total   Spent    Left  Speed\n",
      "100 10.6M  100 10.6M    0     0  11.8M      0 --:--:-- --:--:-- --:--:-- 11.8M\n"
     ]
    }
   ],
   "source": [
    "# if not os.path.exists(OUT_DIR):\n",
    "#     os.makedirs(OUT_DIR)\n",
    "\n",
    "\n",
    "for sample_id in aws_sources_df.index:\n",
    "\n",
    "    sdir = os.path.join(OUT_DIR, str(sample_id))\n",
    "    sdir_sp = os.path.join(sdir, \"spatial\")\n",
    "\n",
    "    if not os.path.exists(sdir_sp):\n",
    "        os.makedirs(sdir_sp)\n",
    "\n",
    "    shutil.copytree(\n",
    "        os.path.join(DIR, \"10X\", str(sample_id)),\n",
    "        os.path.join(sdir_sp),\n",
    "        dirs_exist_ok=True,\n",
    "    )\n",
    "\n",
    "    os.rename(\n",
    "        os.path.join(sdir_sp, \"tissue_positions_list.txt\"),\n",
    "        os.path.join(sdir_sp, \"tissue_positions_list.csv\"),\n",
    "    )\n",
    "\n",
    "    subprocess.run(\n",
    "        [\n",
    "            \"curl\",\n",
    "            \"-L\",\n",
    "            \"-o\",\n",
    "            \"filtered_feature_bc_matrix.h5\",\n",
    "            aws_sources_df.loc[sample_id, \"h5_filtered\"],\n",
    "        ],\n",
    "        cwd=sdir,\n",
    "    )"
   ]
  },
  {
   "cell_type": "code",
   "execution_count": 5,
   "metadata": {},
   "outputs": [
    {
     "name": "stderr",
     "output_type": "stream",
     "text": [
      "/home/wma/miniconda3/envs/agreda/lib/python3.8/site-packages/anndata/_core/anndata.py:1830: UserWarning: Variable names are not unique. To make them unique, call `.var_names_make_unique`.\n",
      "  utils.warn_names_duplicates(\"var\")\n",
      "/home/wma/miniconda3/envs/agreda/lib/python3.8/site-packages/anndata/_core/anndata.py:1830: UserWarning: Variable names are not unique. To make them unique, call `.var_names_make_unique`.\n",
      "  utils.warn_names_duplicates(\"var\")\n",
      "/home/wma/miniconda3/envs/agreda/lib/python3.8/site-packages/anndata/_core/anndata.py:1830: UserWarning: Variable names are not unique. To make them unique, call `.var_names_make_unique`.\n",
      "  utils.warn_names_duplicates(\"var\")\n",
      "/home/wma/miniconda3/envs/agreda/lib/python3.8/site-packages/anndata/_core/anndata.py:1830: UserWarning: Variable names are not unique. To make them unique, call `.var_names_make_unique`.\n",
      "  utils.warn_names_duplicates(\"var\")\n",
      "/home/wma/miniconda3/envs/agreda/lib/python3.8/site-packages/anndata/_core/anndata.py:1830: UserWarning: Variable names are not unique. To make them unique, call `.var_names_make_unique`.\n",
      "  utils.warn_names_duplicates(\"var\")\n",
      "/home/wma/miniconda3/envs/agreda/lib/python3.8/site-packages/anndata/_core/anndata.py:1830: UserWarning: Variable names are not unique. To make them unique, call `.var_names_make_unique`.\n",
      "  utils.warn_names_duplicates(\"var\")\n",
      "/home/wma/miniconda3/envs/agreda/lib/python3.8/site-packages/anndata/_core/anndata.py:1830: UserWarning: Variable names are not unique. To make them unique, call `.var_names_make_unique`.\n",
      "  utils.warn_names_duplicates(\"var\")\n",
      "/home/wma/miniconda3/envs/agreda/lib/python3.8/site-packages/anndata/_core/anndata.py:1830: UserWarning: Variable names are not unique. To make them unique, call `.var_names_make_unique`.\n",
      "  utils.warn_names_duplicates(\"var\")\n",
      "/home/wma/miniconda3/envs/agreda/lib/python3.8/site-packages/anndata/_core/anndata.py:1830: UserWarning: Variable names are not unique. To make them unique, call `.var_names_make_unique`.\n",
      "  utils.warn_names_duplicates(\"var\")\n",
      "/home/wma/miniconda3/envs/agreda/lib/python3.8/site-packages/anndata/_core/anndata.py:1830: UserWarning: Variable names are not unique. To make them unique, call `.var_names_make_unique`.\n",
      "  utils.warn_names_duplicates(\"var\")\n",
      "/home/wma/miniconda3/envs/agreda/lib/python3.8/site-packages/anndata/_core/anndata.py:1830: UserWarning: Variable names are not unique. To make them unique, call `.var_names_make_unique`.\n",
      "  utils.warn_names_duplicates(\"var\")\n",
      "/home/wma/miniconda3/envs/agreda/lib/python3.8/site-packages/anndata/_core/anndata.py:1830: UserWarning: Variable names are not unique. To make them unique, call `.var_names_make_unique`.\n",
      "  utils.warn_names_duplicates(\"var\")\n"
     ]
    }
   ],
   "source": [
    "adatas = []\n",
    "\n",
    "for sample_id in aws_sources_df.index:\n",
    "\n",
    "    sdir = os.path.join(OUT_DIR, str(sample_id))\n",
    "    adatas.append(sc.read_visium(sdir))\n",
    "    adatas[-1].var_names.name = \"gene_names\"\n",
    "    adatas[-1].var = adatas[-1].var.reset_index().set_index(\"gene_ids\")\n",
    "\n",
    "adata = ad.concat(\n",
    "    adatas,\n",
    "    keys=aws_sources_df.index.astype(str),\n",
    "    label=\"sample_id\",\n",
    "    index_unique=\".\",\n",
    "    uns_merge=\"unique\",\n",
    ")\n",
    "\n",
    "all_var = [x.var for x in adatas]\n",
    "# concatenate them\n",
    "all_var = pd.concat(all_var, join=\"outer\")\n",
    "# remove duplicates\n",
    "all_var = all_var[~all_var.index.duplicated()]\n",
    "\n",
    "adata.var = all_var.loc[adata.var_names]"
   ]
  },
  {
   "cell_type": "code",
   "execution_count": 6,
   "metadata": {},
   "outputs": [],
   "source": [
    "# for sample_id, adata_sample in zip(aws_sources_df.index, adatas):\n",
    "#     adata_sample.X = csr_matrix(adata_sample.X)\n",
    "#     adata_sample.write_h5ad(os.path.join(OUT_DIR, f\"spatialLIBD_{sample_id}.h5ad\"))"
   ]
  },
  {
   "cell_type": "code",
   "execution_count": 7,
   "metadata": {},
   "outputs": [],
   "source": [
    "\n",
    "adata.X = csr_matrix(adata.X)\n"
   ]
  },
  {
   "cell_type": "code",
   "execution_count": 8,
   "metadata": {},
   "outputs": [
    {
     "data": {
      "text/plain": [
       "AnnData object with n_obs × n_vars = 47681 × 33538\n",
       "    obs: 'in_tissue', 'array_row', 'array_col', 'sample_id'\n",
       "    var: 'gene_names', 'feature_types', 'genome'\n",
       "    uns: 'spatial'\n",
       "    obsm: 'spatial'"
      ]
     },
     "execution_count": 8,
     "metadata": {},
     "output_type": "execute_result"
    }
   ],
   "source": [
    "adata"
   ]
  },
  {
   "cell_type": "code",
   "execution_count": 9,
   "metadata": {},
   "outputs": [],
   "source": [
    "adata_r = sc.read_h5ad(os.path.join(\"data/dlpfc/spatialLIBD_data\", \"spatialLIBD.h5ad\"))"
   ]
  },
  {
   "cell_type": "code",
   "execution_count": 10,
   "metadata": {},
   "outputs": [
    {
     "data": {
      "text/plain": [
       "AnnData object with n_obs × n_vars = 47681 × 33538\n",
       "    obs: 'sample_id', 'spot', 'X', 'Y', 'Cluster', 'sum_umi', 'sum_gene', 'subject', 'position', 'replicate', 'subject_position', 'discard', 'key', 'cell_count', 'SNN_k50_k4', 'SNN_k50_k5', 'SNN_k50_k6', 'SNN_k50_k7', 'SNN_k50_k8', 'SNN_k50_k9', 'SNN_k50_k10', 'SNN_k50_k11', 'SNN_k50_k12', 'SNN_k50_k13', 'SNN_k50_k14', 'SNN_k50_k15', 'SNN_k50_k16', 'SNN_k50_k17', 'SNN_k50_k18', 'SNN_k50_k19', 'SNN_k50_k20', 'SNN_k50_k21', 'SNN_k50_k22', 'SNN_k50_k23', 'SNN_k50_k24', 'SNN_k50_k25', 'SNN_k50_k26', 'SNN_k50_k27', 'SNN_k50_k28', 'GraphBased', 'Maynard', 'Martinowich', 'layer_guess', 'layer_guess_reordered', 'layer_guess_reordered_short', 'expr_chrM', 'expr_chrM_ratio', 'SpatialDE_PCA', 'SpatialDE_pool_PCA', 'HVG_PCA', 'pseudobulk_PCA', 'markers_PCA', 'SpatialDE_UMAP', 'SpatialDE_pool_UMAP', 'HVG_UMAP', 'pseudobulk_UMAP', 'markers_UMAP', 'SpatialDE_PCA_spatial', 'SpatialDE_pool_PCA_spatial', 'HVG_PCA_spatial', 'pseudobulk_PCA_spatial', 'markers_PCA_spatial', 'SpatialDE_UMAP_spatial', 'SpatialDE_pool_UMAP_spatial', 'HVG_UMAP_spatial', 'pseudobulk_UMAP_spatial', 'markers_UMAP_spatial', 'spatialLIBD', 'ManualAnnotation', 'in_tissue', 'array_row', 'array_col'\n",
       "    var: 'source', 'type', 'gene_version', 'gene_name', 'gene_source', 'gene_biotype', 'gene_search', 'is_top_hvg'\n",
       "    varm: 'propExprsIn.Astro', 'propExprsIn.Excit_A', 'propExprsIn.Excit_B', 'propExprsIn.Excit_C', 'propExprsIn.Excit_D', 'propExprsIn.Excit_E', 'propExprsIn.Excit_F', 'propExprsIn.Inhib_A', 'propExprsIn.Inhib_B', 'propExprsIn.Inhib_C', 'propExprsIn.Inhib_D', 'propExprsIn.Inhib_E', 'propExprsIn.Inhib_F', 'propExprsIn.Macrophage', 'propExprsIn.Micro', 'propExprsIn.Mural', 'propExprsIn.OPC', 'propExprsIn.Oligo', 'propExprsIn.Tcell', 'propNucleiExprs'"
      ]
     },
     "execution_count": 10,
     "metadata": {},
     "output_type": "execute_result"
    }
   ],
   "source": [
    "adata_r"
   ]
  },
  {
   "cell_type": "code",
   "execution_count": 11,
   "metadata": {},
   "outputs": [
    {
     "data": {
      "text/plain": [
       "AnnData object with n_obs × n_vars = 47681 × 33538\n",
       "    obs: 'in_tissue', 'array_row', 'array_col', 'sample_id'\n",
       "    var: 'gene_names', 'feature_types', 'genome'\n",
       "    uns: 'spatial'\n",
       "    obsm: 'spatial'"
      ]
     },
     "execution_count": 11,
     "metadata": {},
     "output_type": "execute_result"
    }
   ],
   "source": [
    "adata"
   ]
  },
  {
   "cell_type": "code",
   "execution_count": 12,
   "metadata": {},
   "outputs": [
    {
     "data": {
      "text/plain": [
       "True"
      ]
     },
     "execution_count": 12,
     "metadata": {},
     "output_type": "execute_result"
    }
   ],
   "source": [
    "adata_r.obs_names.to_series().str.split(\".\").str[0].reset_index(drop=True).equals(adata.obs_names.to_series().str.split(\".\").str[0].reset_index(drop=True))"
   ]
  },
  {
   "cell_type": "code",
   "execution_count": 13,
   "metadata": {},
   "outputs": [
    {
     "data": {
      "text/plain": [
       "True"
      ]
     },
     "execution_count": 13,
     "metadata": {},
     "output_type": "execute_result"
    }
   ],
   "source": [
    "adata_r.obs.sample_id.reset_index(drop=True).equals(adata.obs.sample_id.reset_index(drop=True))"
   ]
  },
  {
   "cell_type": "code",
   "execution_count": 15,
   "metadata": {},
   "outputs": [
    {
     "data": {
      "text/plain": [
       "True"
      ]
     },
     "execution_count": 15,
     "metadata": {},
     "output_type": "execute_result"
    }
   ],
   "source": [
    "np.array_equal(adata.X.toarray(), adata_r.X.toarray())\n"
   ]
  },
  {
   "cell_type": "code",
   "execution_count": 18,
   "metadata": {},
   "outputs": [
    {
     "data": {
      "text/plain": [
       "True"
      ]
     },
     "execution_count": 18,
     "metadata": {},
     "output_type": "execute_result"
    }
   ],
   "source": [
    "adata.var[\"gene_names\"].equals(adata_r.var[\"gene_name\"])"
   ]
  },
  {
   "cell_type": "code",
   "execution_count": 19,
   "metadata": {},
   "outputs": [
    {
     "data": {
      "text/html": [
       "<div>\n",
       "<style scoped>\n",
       "    .dataframe tbody tr th:only-of-type {\n",
       "        vertical-align: middle;\n",
       "    }\n",
       "\n",
       "    .dataframe tbody tr th {\n",
       "        vertical-align: top;\n",
       "    }\n",
       "\n",
       "    .dataframe thead th {\n",
       "        text-align: right;\n",
       "    }\n",
       "</style>\n",
       "<table border=\"1\" class=\"dataframe\">\n",
       "  <thead>\n",
       "    <tr style=\"text-align: right;\">\n",
       "      <th></th>\n",
       "      <th>gene_names</th>\n",
       "      <th>feature_types</th>\n",
       "      <th>genome</th>\n",
       "    </tr>\n",
       "    <tr>\n",
       "      <th>gene_ids</th>\n",
       "      <th></th>\n",
       "      <th></th>\n",
       "      <th></th>\n",
       "    </tr>\n",
       "  </thead>\n",
       "  <tbody>\n",
       "    <tr>\n",
       "      <th>ENSG00000243485</th>\n",
       "      <td>MIR1302-2HG</td>\n",
       "      <td>Gene Expression</td>\n",
       "      <td>GRCh38</td>\n",
       "    </tr>\n",
       "    <tr>\n",
       "      <th>ENSG00000237613</th>\n",
       "      <td>FAM138A</td>\n",
       "      <td>Gene Expression</td>\n",
       "      <td>GRCh38</td>\n",
       "    </tr>\n",
       "    <tr>\n",
       "      <th>ENSG00000186092</th>\n",
       "      <td>OR4F5</td>\n",
       "      <td>Gene Expression</td>\n",
       "      <td>GRCh38</td>\n",
       "    </tr>\n",
       "    <tr>\n",
       "      <th>ENSG00000238009</th>\n",
       "      <td>AL627309.1</td>\n",
       "      <td>Gene Expression</td>\n",
       "      <td>GRCh38</td>\n",
       "    </tr>\n",
       "    <tr>\n",
       "      <th>ENSG00000239945</th>\n",
       "      <td>AL627309.3</td>\n",
       "      <td>Gene Expression</td>\n",
       "      <td>GRCh38</td>\n",
       "    </tr>\n",
       "    <tr>\n",
       "      <th>...</th>\n",
       "      <td>...</td>\n",
       "      <td>...</td>\n",
       "      <td>...</td>\n",
       "    </tr>\n",
       "    <tr>\n",
       "      <th>ENSG00000277856</th>\n",
       "      <td>AC233755.2</td>\n",
       "      <td>Gene Expression</td>\n",
       "      <td>GRCh38</td>\n",
       "    </tr>\n",
       "    <tr>\n",
       "      <th>ENSG00000275063</th>\n",
       "      <td>AC233755.1</td>\n",
       "      <td>Gene Expression</td>\n",
       "      <td>GRCh38</td>\n",
       "    </tr>\n",
       "    <tr>\n",
       "      <th>ENSG00000271254</th>\n",
       "      <td>AC240274.1</td>\n",
       "      <td>Gene Expression</td>\n",
       "      <td>GRCh38</td>\n",
       "    </tr>\n",
       "    <tr>\n",
       "      <th>ENSG00000277475</th>\n",
       "      <td>AC213203.1</td>\n",
       "      <td>Gene Expression</td>\n",
       "      <td>GRCh38</td>\n",
       "    </tr>\n",
       "    <tr>\n",
       "      <th>ENSG00000268674</th>\n",
       "      <td>FAM231C</td>\n",
       "      <td>Gene Expression</td>\n",
       "      <td>GRCh38</td>\n",
       "    </tr>\n",
       "  </tbody>\n",
       "</table>\n",
       "<p>33538 rows × 3 columns</p>\n",
       "</div>"
      ],
      "text/plain": [
       "                  gene_names    feature_types  genome\n",
       "gene_ids                                             \n",
       "ENSG00000243485  MIR1302-2HG  Gene Expression  GRCh38\n",
       "ENSG00000237613      FAM138A  Gene Expression  GRCh38\n",
       "ENSG00000186092        OR4F5  Gene Expression  GRCh38\n",
       "ENSG00000238009   AL627309.1  Gene Expression  GRCh38\n",
       "ENSG00000239945   AL627309.3  Gene Expression  GRCh38\n",
       "...                      ...              ...     ...\n",
       "ENSG00000277856   AC233755.2  Gene Expression  GRCh38\n",
       "ENSG00000275063   AC233755.1  Gene Expression  GRCh38\n",
       "ENSG00000271254   AC240274.1  Gene Expression  GRCh38\n",
       "ENSG00000277475   AC213203.1  Gene Expression  GRCh38\n",
       "ENSG00000268674      FAM231C  Gene Expression  GRCh38\n",
       "\n",
       "[33538 rows x 3 columns]"
      ]
     },
     "execution_count": 19,
     "metadata": {},
     "output_type": "execute_result"
    }
   ],
   "source": [
    "adata.var"
   ]
  },
  {
   "cell_type": "code",
   "execution_count": 21,
   "metadata": {},
   "outputs": [],
   "source": [
    "adata.var = pd.concat([adata.var, adata_r.var.drop(\"gene_name\", axis=1)], axis=1)"
   ]
  },
  {
   "cell_type": "code",
   "execution_count": 23,
   "metadata": {},
   "outputs": [],
   "source": [
    "adata_r.obs.index = adata.obs.index"
   ]
  },
  {
   "cell_type": "code",
   "execution_count": 31,
   "metadata": {},
   "outputs": [
    {
     "data": {
      "text/plain": [
       "True"
      ]
     },
     "execution_count": 31,
     "metadata": {},
     "output_type": "execute_result"
    }
   ],
   "source": [
    "adata_r.obs[adata.obs.columns].astype(int).equals(adata.obs.astype(int))"
   ]
  },
  {
   "cell_type": "code",
   "execution_count": 32,
   "metadata": {},
   "outputs": [],
   "source": [
    "adata.obs = adata_r.obs"
   ]
  },
  {
   "cell_type": "code",
   "execution_count": 34,
   "metadata": {},
   "outputs": [],
   "source": [
    "adata.varm = adata_r.varm"
   ]
  },
  {
   "cell_type": "code",
   "execution_count": 39,
   "metadata": {},
   "outputs": [
    {
     "data": {
      "text/plain": [
       "True"
      ]
     },
     "execution_count": 39,
     "metadata": {},
     "output_type": "execute_result"
    }
   ],
   "source": [
    "np.array_equal(adata.obsm[\"spatial\"], adata.obs[[\"X\", \"Y\"]].values)"
   ]
  },
  {
   "cell_type": "code",
   "execution_count": 35,
   "metadata": {},
   "outputs": [],
   "source": [
    "\n",
    "adata.write_h5ad(os.path.join(OUT_DIR, \"spatialLIBD.h5ad\"))"
   ]
  },
  {
   "cell_type": "code",
   "execution_count": null,
   "metadata": {},
   "outputs": [],
   "source": []
  }
 ],
 "metadata": {
  "kernelspec": {
   "display_name": ".venv",
   "language": "python",
   "name": "python3"
  },
  "language_info": {
   "codemirror_mode": {
    "name": "ipython",
    "version": 3
   },
   "file_extension": ".py",
   "mimetype": "text/x-python",
   "name": "python",
   "nbconvert_exporter": "python",
   "pygments_lexer": "ipython3",
   "version": "3.8.17"
  }
 },
 "nbformat": 4,
 "nbformat_minor": 2
}
