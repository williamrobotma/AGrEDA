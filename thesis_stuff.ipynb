{
 "cells": [
  {
   "cell_type": "code",
   "execution_count": 1,
   "metadata": {},
   "outputs": [],
   "source": [
    "import glob\n",
    "import os\n",
    "import torch\n",
    "\n",
    "import anndata as ad\n",
    "import h5py\n",
    "import scanpy as sc\n",
    "from scipy.sparse import csr_matrix\n",
    "from sklearn import model_selection\n",
    "import yaml\n",
    "\n",
    "from src.da_utils.data_processing import qc_sc\n",
    "from src.da_utils import data_loading\n",
    "from src.da_utils.data_loading import load_spatial, get_selected_dir, get_dset_dir\n",
    "\n",
    "import pandas as pd\n",
    "import numpy as np\n",
    "\n",
    "import seaborn as sns\n",
    "import pickle\n",
    "\n",
    "import matplotlib.pyplot as plt\n"
   ]
  },
  {
   "cell_type": "code",
   "execution_count": 2,
   "metadata": {},
   "outputs": [],
   "source": [
    "adata_sc = sc.read_h5ad(\"data/dlpfc/sc_adata/GSE144136.h5ad\")"
   ]
  },
  {
   "cell_type": "code",
   "execution_count": 12,
   "metadata": {},
   "outputs": [
    {
     "name": "stdout",
     "output_type": "stream",
     "text": [
      "data/dlpfc/st_adata/spatialLIBD-151508.h5ad\n",
      "data/dlpfc/st_adata/spatialLIBD-151673.h5ad\n",
      "data/dlpfc/st_adata/spatialLIBD-151507.h5ad\n",
      "data/dlpfc/st_adata/spatialLIBD-151672.h5ad\n",
      "data/dlpfc/st_adata/spatialLIBD-151675.h5ad\n",
      "data/dlpfc/st_adata/spatialLIBD-151676.h5ad\n",
      "data/dlpfc/st_adata/spatialLIBD-151674.h5ad\n",
      "data/dlpfc/st_adata/spatialLIBD-151509.h5ad\n",
      "data/dlpfc/st_adata/spatialLIBD-151670.h5ad\n",
      "data/dlpfc/st_adata/spatialLIBD-151671.h5ad\n",
      "data/dlpfc/st_adata/spatialLIBD-151669.h5ad\n",
      "data/dlpfc/st_adata/spatialLIBD-151510.h5ad\n"
     ]
    },
    {
     "name": "stderr",
     "output_type": "stream",
     "text": [
      "/projects/wma/AGrEDA/.venv/lib/python3.8/site-packages/anndata/_core/anndata.py:1828: UserWarning: Observation names are not unique. To make them unique, call `.obs_names_make_unique`.\n",
      "  utils.warn_names_duplicates(\"obs\")\n"
     ]
    }
   ],
   "source": [
    "adata_sts = []\n",
    "for name in glob.glob(\"data/dlpfc/st_adata/*.h5ad\"):\n",
    "    print(name)\n",
    "    adata_sts.append(sc.read_h5ad(name))\n",
    "    \n",
    "\n",
    "adata_st = ad.concat(adata_sts, join=\"outer\", label=\"sample\")"
   ]
  },
  {
   "cell_type": "code",
   "execution_count": 16,
   "metadata": {},
   "outputs": [
    {
     "data": {
      "text/plain": [
       "3973.4166666666665"
      ]
     },
     "execution_count": 16,
     "metadata": {},
     "output_type": "execute_result"
    }
   ],
   "source": [
    "adata_st.obs.groupby(\"sample\").size().mean()"
   ]
  },
  {
   "cell_type": "code",
   "execution_count": 15,
   "metadata": {},
   "outputs": [
    {
     "data": {
      "text/plain": [
       "AnnData object with n_obs × n_vars = 47681 × 25614\n",
       "    obs: 'X', 'Y', 'index', 'key', 'subject', 'replicate', 'Cluster', 'sum_umi', 'sum_gene', 'cell_count', 'in_tissue', 'spatialLIBD', 'array_col', 'array_row', 'sample'"
      ]
     },
     "execution_count": 15,
     "metadata": {},
     "output_type": "execute_result"
    }
   ],
   "source": [
    "adata_st"
   ]
  },
  {
   "cell_type": "code",
   "execution_count": null,
   "metadata": {},
   "outputs": [],
   "source": []
  }
 ],
 "metadata": {
  "kernelspec": {
   "display_name": ".venv",
   "language": "python",
   "name": "python3"
  },
  "language_info": {
   "codemirror_mode": {
    "name": "ipython",
    "version": 3
   },
   "file_extension": ".py",
   "mimetype": "text/x-python",
   "name": "python",
   "nbconvert_exporter": "python",
   "pygments_lexer": "ipython3",
   "version": "3.8.10"
  },
  "orig_nbformat": 4
 },
 "nbformat": 4,
 "nbformat_minor": 2
}
